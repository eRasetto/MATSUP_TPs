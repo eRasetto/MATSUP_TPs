{
 "cells": [
  {
   "cell_type": "markdown",
   "metadata": {},
   "source": [
    "# Introducción a Python\n",
    "\n",
    "Python es un lenguaje de programación \"Open Source\", \"No tipado\" y \"Orientado a Objetos\" que posee una gran cantidad de librerías, paquetes y herramientas, extensamente probadas, para realizar computación científica. \n",
    "\n",
    "En el sitio oficial (https://docs.python.org/3/) se puede consultar la documentación y varios tutoriales del lenguaje.\n",
    "\n",
    "Los paquetes mas utilizados para computación científica son: \n",
    "\n",
    "* Numpy (http://www.numpy.org/)\n",
    "* SciPy (https://www.scipy.org/)\n",
    "* Matplotlib (http://matplotlib.org/)\n",
    "* Scikit-learn (http://scikit-learn.org/stable/)\n",
    "* Pandas (http://pandas.pydata.org/)\n",
    "\n",
    "En cuanto a los entornos de programación. Los mas difundidos son: \n",
    "\n",
    "* PyCharm (https://www.jetbrains.com/pycharm/)\n",
    "* Enthought Canopy (https://www.enthought.com/products/canopy/)\n",
    "* Anaconda(https://www.continuum.io/downloads)\n",
    "\n",
    "\n",
    "\n",
    "\n"
   ]
  },
  {
   "cell_type": "markdown",
   "metadata": {},
   "source": [
    "## Numpy\n",
    "\n",
    "Es una librería fundamental para el desarrollo de computación científica en Python. Entre otras cosas contiene: \n",
    "\n",
    "* Implementación de objetos N-dimensionales.\n",
    "* Wrappers que integran funciones extensamente probadas y eficientes implementadas en código C/C++ y Fortran. \n",
    "* Funciones y utilidades para trabajar Álgebra lineal, Transformada de Fourier y Generación de Números Aleatorios. \n",
    "* Utilizados para persistir objetos N-dimensionales. \n",
    "\n",
    "Ademas de su uso científico, Numpy puede ser utilizadas con un eficiente contenedor multidimensional de datos genéricos. Esta librería es utilizada como dependencia requerida por la mayoría de las librerías de Python para computación científica. \n",
    "\n",
    "La entidad basica en Numpy son los objetos ndarray: Los previamente mensionados objetos N-dimensionales, con datos homogeneos y de tamaño fijo.\n",
    "Una instancia de la clase ndarray, raramente es instanciada directamente, en cambio, se utiliza algun metodo que retorna una instancia de esta clase."
   ]
  },
  {
   "cell_type": "code",
   "execution_count": 2,
   "metadata": {
    "collapsed": false
   },
   "outputs": [
    {
     "data": {
      "text/plain": [
       "array([1, 2, 3])"
      ]
     },
     "execution_count": 2,
     "metadata": {},
     "output_type": "execute_result"
    }
   ],
   "source": [
    "import numpy as np\n",
    "a = np.array([1,2,3])\n",
    "a"
   ]
  },
  {
   "cell_type": "code",
   "execution_count": 6,
   "metadata": {
    "collapsed": false
   },
   "outputs": [
    {
     "data": {
      "text/plain": [
       "array([[ 1.,  1.,  1.]])"
      ]
     },
     "execution_count": 6,
     "metadata": {},
     "output_type": "execute_result"
    }
   ],
   "source": [
    "b = np.ones((1,3))\n",
    "b"
   ]
  },
  {
   "cell_type": "code",
   "execution_count": 3,
   "metadata": {
    "collapsed": false
   },
   "outputs": [
    {
     "data": {
      "text/plain": [
       "array([[ 0.,  0.],\n",
       "       [ 0.,  0.],\n",
       "       [ 0.,  0.]])"
      ]
     },
     "execution_count": 3,
     "metadata": {},
     "output_type": "execute_result"
    }
   ],
   "source": [
    "c = np.zeros((3,2))\n",
    "c\n"
   ]
  },
  {
   "cell_type": "code",
   "execution_count": 4,
   "metadata": {
    "collapsed": false
   },
   "outputs": [
    {
     "data": {
      "text/plain": [
       "array([[ 0.,  0.],\n",
       "       [ 0.,  0.],\n",
       "       [ 0.,  0.]])"
      ]
     },
     "execution_count": 4,
     "metadata": {},
     "output_type": "execute_result"
    }
   ],
   "source": [
    "d = np.empty((3,2))\n",
    "d"
   ]
  },
  {
   "cell_type": "code",
   "execution_count": 5,
   "metadata": {
    "collapsed": false
   },
   "outputs": [
    {
     "data": {
      "text/plain": [
       "array([  1.  ,   3.25,   5.5 ,   7.75,  10.  ])"
      ]
     },
     "execution_count": 5,
     "metadata": {},
     "output_type": "execute_result"
    }
   ],
   "source": [
    "# numpy.linspace(start, stop, num=50, endpoint=True, retstep=False, dtype=None)\n",
    "# Return evenly spaced numbers over a specified interval.\n",
    "e = np.linspace(1,10,5)\n",
    "e"
   ]
  },
  {
   "cell_type": "code",
   "execution_count": 8,
   "metadata": {
    "collapsed": false
   },
   "outputs": [
    {
     "data": {
      "text/plain": [
       "array([  10.        ,   17.7827941 ,   31.6227766 ,   56.23413252,  100.        ])"
      ]
     },
     "execution_count": 8,
     "metadata": {},
     "output_type": "execute_result"
    }
   ],
   "source": [
    "# numpy.logspace(start, stop, num=50, endpoint=True, base=10.0, dtype=None)\n",
    "# Return numbers spaced evenly on a log scale.\n",
    "# The sequence starts at base ** start (base to the power of start) and ends with base ** stop (see endpoint below).\n",
    "\n",
    "f = np.logspace(1,2,5)\n",
    "f"
   ]
  },
  {
   "cell_type": "markdown",
   "metadata": {},
   "source": [
    "## Numpy - Persistir Datos\n",
    "\n",
    "Para persistir y cargar en memoria los datos alojados en un ndarray, se pueden utilizar algunos de los siguientes metodos:\n",
    "\n",
    "* np.save: Escribe un array en un archivo binario con extencion .npy\n",
    "* np.savez: Escribe multiples arrays en un archivo binario con extencion .npz\n",
    "* np.load: Lee uno o mas arrays desde un archivo .npy o .npz\n",
    "* np.savetxt: Escribe un array a un archivo de texto plano\n",
    "* np.loadtxt: Lee un array desde un archivo de texto plano\n",
    "\n",
    "## Ejemplo Basicos de Manipulación de Numpy arrays"
   ]
  },
  {
   "cell_type": "code",
   "execution_count": 7,
   "metadata": {
    "collapsed": false
   },
   "outputs": [
    {
     "name": "stdout",
     "output_type": "stream",
     "text": [
      "[[ 0.69646919  0.28613933  0.22685145  0.55131477  0.71946897]\n",
      " [ 0.42310646  0.9807642   0.68482974  0.4809319   0.39211752]\n",
      " [ 0.34317802  0.72904971  0.43857224  0.0596779   0.39804426]]\n"
     ]
    }
   ],
   "source": [
    "import numpy as np\n",
    "\n",
    "# Se fija una semilla para poder reproducir el experimiento\n",
    "rnd = np.random.RandomState(seed=123)\n",
    "\n",
    "# Se genera un array aleatorio\n",
    "X = rnd.uniform(low=0.0, high=1.0, size=(3, 5))  # a 3 x 5 array\n",
    "print(X)"
   ]
  },
  {
   "cell_type": "markdown",
   "metadata": {},
   "source": [
    "### Acceso a los elementos del array"
   ]
  },
  {
   "cell_type": "code",
   "execution_count": 8,
   "metadata": {
    "collapsed": false
   },
   "outputs": [
    {
     "name": "stdout",
     "output_type": "stream",
     "text": [
      "0.696469185598\n"
     ]
    }
   ],
   "source": [
    "# Se obtiene un solo elemento del array\n",
    "# En este caso, el que se encuentra en la posición del array (Si, en Python los array empiezan en 0)\n",
    "print(X[0, 0])"
   ]
  },
  {
   "cell_type": "code",
   "execution_count": 9,
   "metadata": {
    "collapsed": false
   },
   "outputs": [
    {
     "name": "stdout",
     "output_type": "stream",
     "text": [
      "[ 0.42310646  0.9807642   0.68482974  0.4809319   0.39211752]\n"
     ]
    }
   ],
   "source": [
    "# Se obtiene una fila\n",
    "# En este caso la segunda fila\n",
    "print(X[1])"
   ]
  },
  {
   "cell_type": "code",
   "execution_count": 10,
   "metadata": {
    "collapsed": false
   },
   "outputs": [
    {
     "name": "stdout",
     "output_type": "stream",
     "text": [
      "[ 0.28613933  0.9807642   0.72904971]\n"
     ]
    }
   ],
   "source": [
    "# Se obtiene una columna\n",
    "# En este caso la segunda columna\n",
    "print(X[:, 1])"
   ]
  },
  {
   "cell_type": "code",
   "execution_count": 11,
   "metadata": {
    "collapsed": false
   },
   "outputs": [
    {
     "name": "stdout",
     "output_type": "stream",
     "text": [
      "[[ 0.69646919  0.42310646  0.34317802]\n",
      " [ 0.28613933  0.9807642   0.72904971]\n",
      " [ 0.22685145  0.68482974  0.43857224]\n",
      " [ 0.55131477  0.4809319   0.0596779 ]\n",
      " [ 0.71946897  0.39211752  0.39804426]]\n"
     ]
    }
   ],
   "source": [
    "# Se realiza la Transpuesta del array\n",
    "print(X.T)"
   ]
  },
  {
   "cell_type": "code",
   "execution_count": 12,
   "metadata": {
    "collapsed": false
   },
   "outputs": [
    {
     "name": "stdout",
     "output_type": "stream",
     "text": [
      "[  0.   3.   6.   9.  12.]\n"
     ]
    }
   ],
   "source": [
    "# Creación de un vector fila de números equidistantes en un intervalo especifico \n",
    "y = np.linspace(0, 12, 5)\n",
    "print(y)"
   ]
  },
  {
   "cell_type": "code",
   "execution_count": 13,
   "metadata": {
    "collapsed": false
   },
   "outputs": [
    {
     "name": "stdout",
     "output_type": "stream",
     "text": [
      "[[  0.]\n",
      " [  3.]\n",
      " [  6.]\n",
      " [  9.]\n",
      " [ 12.]]\n"
     ]
    }
   ],
   "source": [
    "# Tranformación de un vector fila a un vector columna \n",
    "print(y[:, np.newaxis])"
   ]
  },
  {
   "cell_type": "code",
   "execution_count": 14,
   "metadata": {
    "collapsed": false
   },
   "outputs": [
    {
     "name": "stdout",
     "output_type": "stream",
     "text": [
      "(3, 5)\n"
     ]
    }
   ],
   "source": [
    "# Dimenciones del array\n",
    "print(X.shape)"
   ]
  },
  {
   "cell_type": "code",
   "execution_count": 15,
   "metadata": {
    "collapsed": false
   },
   "outputs": [
    {
     "name": "stdout",
     "output_type": "stream",
     "text": [
      "[[ 0.69646919  0.28613933  0.22685145]\n",
      " [ 0.55131477  0.71946897  0.42310646]\n",
      " [ 0.9807642   0.68482974  0.4809319 ]\n",
      " [ 0.39211752  0.34317802  0.72904971]\n",
      " [ 0.43857224  0.0596779   0.39804426]]\n"
     ]
    }
   ],
   "source": [
    "# Re-dimencionar array\n",
    "print(X.reshape(5, 3))"
   ]
  },
  {
   "cell_type": "markdown",
   "metadata": {},
   "source": [
    "## Pandas (Python Data Analysis Library)\n",
    "Pandas es un paquete de Python que permite manipular de forma simple, rapida y flexible estructuras \"Relacionales\" o \"Etiquetadas\". Su objetivo es ser un componente fundamental de alto nivel para hacer un análisis práctico y real de datos en Python.\n",
    "\n",
    "Pandas es muy adecuado para muchos tipos diferentes de datos:\n",
    "\n",
    "* Datos tabulares con columnas de tipo heterogéneo, como en una tabla SQL o en una hoja de cálculo de Excel.\n",
    "* Datos ordenados o desordenados (no necesariamente de frecuencia fija).\n",
    "* Datos de matriciales arbitrarios (homogéneamente tipados o heterogéneos) con etiquetas de fila y columna.\n",
    "* Cualquier otra forma de conjuntos de datos observacionales / estadísticos. Los datos en realidad no necesitan ser etiquetados para ser colocados en una estructura de datos de pandas.\n",
    "\n",
    "Las dos principales estrudcturas de Pandas son:\n",
    "* Series: arrays uni-dimencionales\n",
    "* DataFrame: arrays multi-dinencionales\n",
    "\n",
    "Estas son solo algunas de las cosas que los pandas hacen bien:\n",
    "* Manejo sencillo de datos faltantes (representados como NaN) en coma flotante, así como en datos no flotantes.\n",
    "* Mutabilidad de tamaño: las columnas de una DataFrame se pueden insertar y eliminar.\n",
    "* Funciones pre-implementadas para realizar operaciones sobre el conjuntos de datos, para agregar y transformar los mismos.\n",
    "* Herramientas IO robustas para cargar datos desde archivos planos (CSV y delimitados), archivos de Excel y bases de datos.\n",
    "* Funcionalidad específica de la serie de tiempo: generación de rango de fechas y conversión de frecuencia, estadísticas de ventanas en movimiento, regresiones lineales de ventanas móviles, cambio de fecha y retraso, etc."
   ]
  },
  {
   "cell_type": "markdown",
   "metadata": {},
   "source": [
    "#### Ejemplos con Pandas\n",
    "##### Creación de objetos\n",
    "Creando una serie pasando los valores de la misma, dejando que Pandas cree indices enteros por defecto:"
   ]
  },
  {
   "cell_type": "code",
   "execution_count": 16,
   "metadata": {
    "collapsed": false
   },
   "outputs": [
    {
     "data": {
      "text/plain": [
       "0    1.0\n",
       "1    3.0\n",
       "2    5.0\n",
       "3    NaN\n",
       "4    6.0\n",
       "5    8.0\n",
       "dtype: float64"
      ]
     },
     "execution_count": 16,
     "metadata": {},
     "output_type": "execute_result"
    }
   ],
   "source": [
    "import pandas as pd\n",
    "s = pd.Series([1,3,5,np.nan,6,8])\n",
    "s"
   ]
  },
  {
   "cell_type": "markdown",
   "metadata": {},
   "source": [
    "Creamos un DataFrame mendiante el paso de un numpy array, con indices de tipo datetime y columnas etiquetadas:"
   ]
  },
  {
   "cell_type": "code",
   "execution_count": 17,
   "metadata": {
    "collapsed": false
   },
   "outputs": [
    {
     "data": {
      "text/html": [
       "<div>\n",
       "<table border=\"1\" class=\"dataframe\">\n",
       "  <thead>\n",
       "    <tr style=\"text-align: right;\">\n",
       "      <th></th>\n",
       "      <th>A</th>\n",
       "      <th>B</th>\n",
       "      <th>C</th>\n",
       "      <th>D</th>\n",
       "    </tr>\n",
       "  </thead>\n",
       "  <tbody>\n",
       "    <tr>\n",
       "      <th>2013-01-01</th>\n",
       "      <td>-0.970080</td>\n",
       "      <td>0.716764</td>\n",
       "      <td>0.586456</td>\n",
       "      <td>-1.075630</td>\n",
       "    </tr>\n",
       "    <tr>\n",
       "      <th>2013-01-02</th>\n",
       "      <td>0.340405</td>\n",
       "      <td>-0.542107</td>\n",
       "      <td>-1.036001</td>\n",
       "      <td>1.526354</td>\n",
       "    </tr>\n",
       "    <tr>\n",
       "      <th>2013-01-03</th>\n",
       "      <td>-1.263196</td>\n",
       "      <td>0.480297</td>\n",
       "      <td>-1.012675</td>\n",
       "      <td>-0.514127</td>\n",
       "    </tr>\n",
       "    <tr>\n",
       "      <th>2013-01-04</th>\n",
       "      <td>0.841117</td>\n",
       "      <td>0.784089</td>\n",
       "      <td>0.150880</td>\n",
       "      <td>1.047395</td>\n",
       "    </tr>\n",
       "    <tr>\n",
       "      <th>2013-01-05</th>\n",
       "      <td>0.273098</td>\n",
       "      <td>2.327660</td>\n",
       "      <td>0.075743</td>\n",
       "      <td>1.132829</td>\n",
       "    </tr>\n",
       "    <tr>\n",
       "      <th>2013-01-06</th>\n",
       "      <td>2.451977</td>\n",
       "      <td>0.824872</td>\n",
       "      <td>-0.305003</td>\n",
       "      <td>2.509481</td>\n",
       "    </tr>\n",
       "  </tbody>\n",
       "</table>\n",
       "</div>"
      ],
      "text/plain": [
       "                   A         B         C         D\n",
       "2013-01-01 -0.970080  0.716764  0.586456 -1.075630\n",
       "2013-01-02  0.340405 -0.542107 -1.036001  1.526354\n",
       "2013-01-03 -1.263196  0.480297 -1.012675 -0.514127\n",
       "2013-01-04  0.841117  0.784089  0.150880  1.047395\n",
       "2013-01-05  0.273098  2.327660  0.075743  1.132829\n",
       "2013-01-06  2.451977  0.824872 -0.305003  2.509481"
      ]
     },
     "execution_count": 17,
     "metadata": {},
     "output_type": "execute_result"
    }
   ],
   "source": [
    "dates = pd.date_range('20130101', periods=6)\n",
    "dates\n",
    "df = pd.DataFrame(np.random.randn(6,4), index=dates, columns=list('ABCD'))\n",
    "df"
   ]
  },
  {
   "cell_type": "markdown",
   "metadata": {},
   "source": [
    "Creando un DataFrame mediante el paso de objectos que puede ser convertidos a series:"
   ]
  },
  {
   "cell_type": "code",
   "execution_count": 18,
   "metadata": {
    "collapsed": false
   },
   "outputs": [
    {
     "data": {
      "text/html": [
       "<div>\n",
       "<table border=\"1\" class=\"dataframe\">\n",
       "  <thead>\n",
       "    <tr style=\"text-align: right;\">\n",
       "      <th></th>\n",
       "      <th>A</th>\n",
       "      <th>B</th>\n",
       "      <th>C</th>\n",
       "      <th>D</th>\n",
       "      <th>E</th>\n",
       "      <th>F</th>\n",
       "    </tr>\n",
       "  </thead>\n",
       "  <tbody>\n",
       "    <tr>\n",
       "      <th>0</th>\n",
       "      <td>1.0</td>\n",
       "      <td>2013-01-02</td>\n",
       "      <td>1.0</td>\n",
       "      <td>3</td>\n",
       "      <td>test</td>\n",
       "      <td>foo</td>\n",
       "    </tr>\n",
       "    <tr>\n",
       "      <th>1</th>\n",
       "      <td>1.0</td>\n",
       "      <td>2013-01-02</td>\n",
       "      <td>1.0</td>\n",
       "      <td>3</td>\n",
       "      <td>train</td>\n",
       "      <td>foo</td>\n",
       "    </tr>\n",
       "    <tr>\n",
       "      <th>2</th>\n",
       "      <td>1.0</td>\n",
       "      <td>2013-01-02</td>\n",
       "      <td>1.0</td>\n",
       "      <td>3</td>\n",
       "      <td>test</td>\n",
       "      <td>foo</td>\n",
       "    </tr>\n",
       "    <tr>\n",
       "      <th>3</th>\n",
       "      <td>1.0</td>\n",
       "      <td>2013-01-02</td>\n",
       "      <td>1.0</td>\n",
       "      <td>3</td>\n",
       "      <td>train</td>\n",
       "      <td>foo</td>\n",
       "    </tr>\n",
       "  </tbody>\n",
       "</table>\n",
       "</div>"
      ],
      "text/plain": [
       "     A          B    C  D      E    F\n",
       "0  1.0 2013-01-02  1.0  3   test  foo\n",
       "1  1.0 2013-01-02  1.0  3  train  foo\n",
       "2  1.0 2013-01-02  1.0  3   test  foo\n",
       "3  1.0 2013-01-02  1.0  3  train  foo"
      ]
     },
     "execution_count": 18,
     "metadata": {},
     "output_type": "execute_result"
    }
   ],
   "source": [
    "df2 = pd.DataFrame({ 'A' : 1.,\n",
    "'B' : pd.Timestamp('20130102'),\n",
    "'C' : pd.Series(1,index=list(range(4)),dtype='float32'),\n",
    "'D' : np.array([3] * 4,dtype='int32'),\n",
    "'E' : pd.Categorical([\"test\",\"train\",\"test\",\"train\"]),\n",
    "'F' : 'foo' })\n",
    "df2"
   ]
  },
  {
   "cell_type": "markdown",
   "metadata": {},
   "source": [
    "Si queremos consultar el tipo de dato que tiene cada columna:"
   ]
  },
  {
   "cell_type": "code",
   "execution_count": 19,
   "metadata": {
    "collapsed": false
   },
   "outputs": [
    {
     "data": {
      "text/plain": [
       "A           float64\n",
       "B    datetime64[ns]\n",
       "C           float32\n",
       "D             int32\n",
       "E          category\n",
       "F            object\n",
       "dtype: object"
      ]
     },
     "execution_count": 19,
     "metadata": {},
     "output_type": "execute_result"
    }
   ],
   "source": [
    "df2.dtypes"
   ]
  },
  {
   "cell_type": "markdown",
   "metadata": {},
   "source": [
    "##### Visualización de datos\n",
    "Visualizar las primeras y ultimas filas de un DataFrame (5 filas es la cantidad por defecto):"
   ]
  },
  {
   "cell_type": "code",
   "execution_count": 20,
   "metadata": {
    "collapsed": false
   },
   "outputs": [
    {
     "data": {
      "text/html": [
       "<div>\n",
       "<table border=\"1\" class=\"dataframe\">\n",
       "  <thead>\n",
       "    <tr style=\"text-align: right;\">\n",
       "      <th></th>\n",
       "      <th>A</th>\n",
       "      <th>B</th>\n",
       "      <th>C</th>\n",
       "      <th>D</th>\n",
       "    </tr>\n",
       "  </thead>\n",
       "  <tbody>\n",
       "    <tr>\n",
       "      <th>2013-01-01</th>\n",
       "      <td>-0.970080</td>\n",
       "      <td>0.716764</td>\n",
       "      <td>0.586456</td>\n",
       "      <td>-1.075630</td>\n",
       "    </tr>\n",
       "    <tr>\n",
       "      <th>2013-01-02</th>\n",
       "      <td>0.340405</td>\n",
       "      <td>-0.542107</td>\n",
       "      <td>-1.036001</td>\n",
       "      <td>1.526354</td>\n",
       "    </tr>\n",
       "    <tr>\n",
       "      <th>2013-01-03</th>\n",
       "      <td>-1.263196</td>\n",
       "      <td>0.480297</td>\n",
       "      <td>-1.012675</td>\n",
       "      <td>-0.514127</td>\n",
       "    </tr>\n",
       "    <tr>\n",
       "      <th>2013-01-04</th>\n",
       "      <td>0.841117</td>\n",
       "      <td>0.784089</td>\n",
       "      <td>0.150880</td>\n",
       "      <td>1.047395</td>\n",
       "    </tr>\n",
       "    <tr>\n",
       "      <th>2013-01-05</th>\n",
       "      <td>0.273098</td>\n",
       "      <td>2.327660</td>\n",
       "      <td>0.075743</td>\n",
       "      <td>1.132829</td>\n",
       "    </tr>\n",
       "  </tbody>\n",
       "</table>\n",
       "</div>"
      ],
      "text/plain": [
       "                   A         B         C         D\n",
       "2013-01-01 -0.970080  0.716764  0.586456 -1.075630\n",
       "2013-01-02  0.340405 -0.542107 -1.036001  1.526354\n",
       "2013-01-03 -1.263196  0.480297 -1.012675 -0.514127\n",
       "2013-01-04  0.841117  0.784089  0.150880  1.047395\n",
       "2013-01-05  0.273098  2.327660  0.075743  1.132829"
      ]
     },
     "execution_count": 20,
     "metadata": {},
     "output_type": "execute_result"
    }
   ],
   "source": [
    "df.head()"
   ]
  },
  {
   "cell_type": "code",
   "execution_count": 21,
   "metadata": {
    "collapsed": false
   },
   "outputs": [
    {
     "data": {
      "text/html": [
       "<div>\n",
       "<table border=\"1\" class=\"dataframe\">\n",
       "  <thead>\n",
       "    <tr style=\"text-align: right;\">\n",
       "      <th></th>\n",
       "      <th>A</th>\n",
       "      <th>B</th>\n",
       "      <th>C</th>\n",
       "      <th>D</th>\n",
       "    </tr>\n",
       "  </thead>\n",
       "  <tbody>\n",
       "    <tr>\n",
       "      <th>2013-01-04</th>\n",
       "      <td>0.841117</td>\n",
       "      <td>0.784089</td>\n",
       "      <td>0.150880</td>\n",
       "      <td>1.047395</td>\n",
       "    </tr>\n",
       "    <tr>\n",
       "      <th>2013-01-05</th>\n",
       "      <td>0.273098</td>\n",
       "      <td>2.327660</td>\n",
       "      <td>0.075743</td>\n",
       "      <td>1.132829</td>\n",
       "    </tr>\n",
       "    <tr>\n",
       "      <th>2013-01-06</th>\n",
       "      <td>2.451977</td>\n",
       "      <td>0.824872</td>\n",
       "      <td>-0.305003</td>\n",
       "      <td>2.509481</td>\n",
       "    </tr>\n",
       "  </tbody>\n",
       "</table>\n",
       "</div>"
      ],
      "text/plain": [
       "                   A         B         C         D\n",
       "2013-01-04  0.841117  0.784089  0.150880  1.047395\n",
       "2013-01-05  0.273098  2.327660  0.075743  1.132829\n",
       "2013-01-06  2.451977  0.824872 -0.305003  2.509481"
      ]
     },
     "execution_count": 21,
     "metadata": {},
     "output_type": "execute_result"
    }
   ],
   "source": [
    "df.tail(3)"
   ]
  },
  {
   "cell_type": "markdown",
   "metadata": {},
   "source": [
    "Visualizar el indice, las columnas y el numpy array subyacente:"
   ]
  },
  {
   "cell_type": "code",
   "execution_count": 22,
   "metadata": {
    "collapsed": false
   },
   "outputs": [
    {
     "data": {
      "text/plain": [
       "DatetimeIndex(['2013-01-01', '2013-01-02', '2013-01-03', '2013-01-04',\n",
       "               '2013-01-05', '2013-01-06'],\n",
       "              dtype='datetime64[ns]', freq='D')"
      ]
     },
     "execution_count": 22,
     "metadata": {},
     "output_type": "execute_result"
    }
   ],
   "source": [
    "df.index"
   ]
  },
  {
   "cell_type": "code",
   "execution_count": 23,
   "metadata": {
    "collapsed": false
   },
   "outputs": [
    {
     "data": {
      "text/plain": [
       "Index(['A', 'B', 'C', 'D'], dtype='object')"
      ]
     },
     "execution_count": 23,
     "metadata": {},
     "output_type": "execute_result"
    }
   ],
   "source": [
    "df.columns"
   ]
  },
  {
   "cell_type": "code",
   "execution_count": 24,
   "metadata": {
    "collapsed": false
   },
   "outputs": [
    {
     "data": {
      "text/plain": [
       "array([[-0.97007971,  0.71676425,  0.58645629, -1.07563013],\n",
       "       [ 0.34040473, -0.54210685, -1.03600097,  1.52635445],\n",
       "       [-1.26319602,  0.48029712, -1.01267469, -0.51412688],\n",
       "       [ 0.8411169 ,  0.78408945,  0.15087998,  1.0473954 ],\n",
       "       [ 0.27309759,  2.32765964,  0.07574308,  1.13282865],\n",
       "       [ 2.45197665,  0.82487242, -0.30500309,  2.50948135]])"
      ]
     },
     "execution_count": 24,
     "metadata": {},
     "output_type": "execute_result"
    }
   ],
   "source": [
    "df.values"
   ]
  },
  {
   "cell_type": "markdown",
   "metadata": {},
   "source": [
    "La funcion 'describre()' de un DataFrame, muestra un resumen estadistico de los datos contenidos en el mismo:"
   ]
  },
  {
   "cell_type": "code",
   "execution_count": 25,
   "metadata": {
    "collapsed": false
   },
   "outputs": [
    {
     "data": {
      "text/html": [
       "<div>\n",
       "<table border=\"1\" class=\"dataframe\">\n",
       "  <thead>\n",
       "    <tr style=\"text-align: right;\">\n",
       "      <th></th>\n",
       "      <th>A</th>\n",
       "      <th>B</th>\n",
       "      <th>C</th>\n",
       "      <th>D</th>\n",
       "    </tr>\n",
       "  </thead>\n",
       "  <tbody>\n",
       "    <tr>\n",
       "      <th>count</th>\n",
       "      <td>6.000000</td>\n",
       "      <td>6.000000</td>\n",
       "      <td>6.000000</td>\n",
       "      <td>6.000000</td>\n",
       "    </tr>\n",
       "    <tr>\n",
       "      <th>mean</th>\n",
       "      <td>0.278887</td>\n",
       "      <td>0.765263</td>\n",
       "      <td>-0.256767</td>\n",
       "      <td>0.771050</td>\n",
       "    </tr>\n",
       "    <tr>\n",
       "      <th>std</th>\n",
       "      <td>1.340162</td>\n",
       "      <td>0.920626</td>\n",
       "      <td>0.658588</td>\n",
       "      <td>1.331299</td>\n",
       "    </tr>\n",
       "    <tr>\n",
       "      <th>min</th>\n",
       "      <td>-1.263196</td>\n",
       "      <td>-0.542107</td>\n",
       "      <td>-1.036001</td>\n",
       "      <td>-1.075630</td>\n",
       "    </tr>\n",
       "    <tr>\n",
       "      <th>25%</th>\n",
       "      <td>-0.659285</td>\n",
       "      <td>0.539414</td>\n",
       "      <td>-0.835757</td>\n",
       "      <td>-0.123746</td>\n",
       "    </tr>\n",
       "    <tr>\n",
       "      <th>50%</th>\n",
       "      <td>0.306751</td>\n",
       "      <td>0.750427</td>\n",
       "      <td>-0.114630</td>\n",
       "      <td>1.090112</td>\n",
       "    </tr>\n",
       "    <tr>\n",
       "      <th>75%</th>\n",
       "      <td>0.715939</td>\n",
       "      <td>0.814677</td>\n",
       "      <td>0.132096</td>\n",
       "      <td>1.427973</td>\n",
       "    </tr>\n",
       "    <tr>\n",
       "      <th>max</th>\n",
       "      <td>2.451977</td>\n",
       "      <td>2.327660</td>\n",
       "      <td>0.586456</td>\n",
       "      <td>2.509481</td>\n",
       "    </tr>\n",
       "  </tbody>\n",
       "</table>\n",
       "</div>"
      ],
      "text/plain": [
       "              A         B         C         D\n",
       "count  6.000000  6.000000  6.000000  6.000000\n",
       "mean   0.278887  0.765263 -0.256767  0.771050\n",
       "std    1.340162  0.920626  0.658588  1.331299\n",
       "min   -1.263196 -0.542107 -1.036001 -1.075630\n",
       "25%   -0.659285  0.539414 -0.835757 -0.123746\n",
       "50%    0.306751  0.750427 -0.114630  1.090112\n",
       "75%    0.715939  0.814677  0.132096  1.427973\n",
       "max    2.451977  2.327660  0.586456  2.509481"
      ]
     },
     "execution_count": 25,
     "metadata": {},
     "output_type": "execute_result"
    }
   ],
   "source": [
    "df.describe()"
   ]
  },
  {
   "cell_type": "markdown",
   "metadata": {},
   "source": [
    "Aplicando funcion 'Trasponer' al DataFrame:"
   ]
  },
  {
   "cell_type": "code",
   "execution_count": 26,
   "metadata": {
    "collapsed": false
   },
   "outputs": [
    {
     "data": {
      "text/html": [
       "<div>\n",
       "<table border=\"1\" class=\"dataframe\">\n",
       "  <thead>\n",
       "    <tr style=\"text-align: right;\">\n",
       "      <th></th>\n",
       "      <th>2013-01-01 00:00:00</th>\n",
       "      <th>2013-01-02 00:00:00</th>\n",
       "      <th>2013-01-03 00:00:00</th>\n",
       "      <th>2013-01-04 00:00:00</th>\n",
       "      <th>2013-01-05 00:00:00</th>\n",
       "      <th>2013-01-06 00:00:00</th>\n",
       "    </tr>\n",
       "  </thead>\n",
       "  <tbody>\n",
       "    <tr>\n",
       "      <th>A</th>\n",
       "      <td>-0.970080</td>\n",
       "      <td>0.340405</td>\n",
       "      <td>-1.263196</td>\n",
       "      <td>0.841117</td>\n",
       "      <td>0.273098</td>\n",
       "      <td>2.451977</td>\n",
       "    </tr>\n",
       "    <tr>\n",
       "      <th>B</th>\n",
       "      <td>0.716764</td>\n",
       "      <td>-0.542107</td>\n",
       "      <td>0.480297</td>\n",
       "      <td>0.784089</td>\n",
       "      <td>2.327660</td>\n",
       "      <td>0.824872</td>\n",
       "    </tr>\n",
       "    <tr>\n",
       "      <th>C</th>\n",
       "      <td>0.586456</td>\n",
       "      <td>-1.036001</td>\n",
       "      <td>-1.012675</td>\n",
       "      <td>0.150880</td>\n",
       "      <td>0.075743</td>\n",
       "      <td>-0.305003</td>\n",
       "    </tr>\n",
       "    <tr>\n",
       "      <th>D</th>\n",
       "      <td>-1.075630</td>\n",
       "      <td>1.526354</td>\n",
       "      <td>-0.514127</td>\n",
       "      <td>1.047395</td>\n",
       "      <td>1.132829</td>\n",
       "      <td>2.509481</td>\n",
       "    </tr>\n",
       "  </tbody>\n",
       "</table>\n",
       "</div>"
      ],
      "text/plain": [
       "   2013-01-01  2013-01-02  2013-01-03  2013-01-04  2013-01-05  2013-01-06\n",
       "A   -0.970080    0.340405   -1.263196    0.841117    0.273098    2.451977\n",
       "B    0.716764   -0.542107    0.480297    0.784089    2.327660    0.824872\n",
       "C    0.586456   -1.036001   -1.012675    0.150880    0.075743   -0.305003\n",
       "D   -1.075630    1.526354   -0.514127    1.047395    1.132829    2.509481"
      ]
     },
     "execution_count": 26,
     "metadata": {},
     "output_type": "execute_result"
    }
   ],
   "source": [
    "df.T"
   ]
  },
  {
   "cell_type": "markdown",
   "metadata": {},
   "source": [
    "Ordenado por columna:"
   ]
  },
  {
   "cell_type": "code",
   "execution_count": 27,
   "metadata": {
    "collapsed": false
   },
   "outputs": [
    {
     "data": {
      "text/html": [
       "<div>\n",
       "<table border=\"1\" class=\"dataframe\">\n",
       "  <thead>\n",
       "    <tr style=\"text-align: right;\">\n",
       "      <th></th>\n",
       "      <th>A</th>\n",
       "      <th>B</th>\n",
       "      <th>C</th>\n",
       "      <th>D</th>\n",
       "    </tr>\n",
       "  </thead>\n",
       "  <tbody>\n",
       "    <tr>\n",
       "      <th>2013-01-05</th>\n",
       "      <td>0.273098</td>\n",
       "      <td>2.327660</td>\n",
       "      <td>0.075743</td>\n",
       "      <td>1.132829</td>\n",
       "    </tr>\n",
       "    <tr>\n",
       "      <th>2013-01-06</th>\n",
       "      <td>2.451977</td>\n",
       "      <td>0.824872</td>\n",
       "      <td>-0.305003</td>\n",
       "      <td>2.509481</td>\n",
       "    </tr>\n",
       "    <tr>\n",
       "      <th>2013-01-04</th>\n",
       "      <td>0.841117</td>\n",
       "      <td>0.784089</td>\n",
       "      <td>0.150880</td>\n",
       "      <td>1.047395</td>\n",
       "    </tr>\n",
       "    <tr>\n",
       "      <th>2013-01-01</th>\n",
       "      <td>-0.970080</td>\n",
       "      <td>0.716764</td>\n",
       "      <td>0.586456</td>\n",
       "      <td>-1.075630</td>\n",
       "    </tr>\n",
       "    <tr>\n",
       "      <th>2013-01-03</th>\n",
       "      <td>-1.263196</td>\n",
       "      <td>0.480297</td>\n",
       "      <td>-1.012675</td>\n",
       "      <td>-0.514127</td>\n",
       "    </tr>\n",
       "    <tr>\n",
       "      <th>2013-01-02</th>\n",
       "      <td>0.340405</td>\n",
       "      <td>-0.542107</td>\n",
       "      <td>-1.036001</td>\n",
       "      <td>1.526354</td>\n",
       "    </tr>\n",
       "  </tbody>\n",
       "</table>\n",
       "</div>"
      ],
      "text/plain": [
       "                   A         B         C         D\n",
       "2013-01-05  0.273098  2.327660  0.075743  1.132829\n",
       "2013-01-06  2.451977  0.824872 -0.305003  2.509481\n",
       "2013-01-04  0.841117  0.784089  0.150880  1.047395\n",
       "2013-01-01 -0.970080  0.716764  0.586456 -1.075630\n",
       "2013-01-03 -1.263196  0.480297 -1.012675 -0.514127\n",
       "2013-01-02  0.340405 -0.542107 -1.036001  1.526354"
      ]
     },
     "execution_count": 27,
     "metadata": {},
     "output_type": "execute_result"
    }
   ],
   "source": [
    "df.sort_values(by='B', ascending=False)"
   ]
  },
  {
   "cell_type": "markdown",
   "metadata": {},
   "source": [
    "##### Selección de datos\n",
    "Pandas cuenta con funciones optimizadas para acceder a los datos contenidos en un DataFrame.\n",
    "\n",
    "Selección de una columna por su etiqueta:"
   ]
  },
  {
   "cell_type": "code",
   "execution_count": 28,
   "metadata": {
    "collapsed": false
   },
   "outputs": [
    {
     "data": {
      "text/plain": [
       "2013-01-01   -0.970080\n",
       "2013-01-02    0.340405\n",
       "2013-01-03   -1.263196\n",
       "2013-01-04    0.841117\n",
       "2013-01-05    0.273098\n",
       "2013-01-06    2.451977\n",
       "Freq: D, Name: A, dtype: float64"
      ]
     },
     "execution_count": 28,
     "metadata": {},
     "output_type": "execute_result"
    }
   ],
   "source": [
    "df['A']"
   ]
  },
  {
   "cell_type": "markdown",
   "metadata": {},
   "source": [
    "Selección de una fila mediante el indice de la misma:"
   ]
  },
  {
   "cell_type": "code",
   "execution_count": 34,
   "metadata": {
    "collapsed": false
   },
   "outputs": [
    {
     "data": {
      "text/plain": [
       "Timestamp('2013-01-01 00:00:00', offset='D')"
      ]
     },
     "execution_count": 34,
     "metadata": {},
     "output_type": "execute_result"
    }
   ],
   "source": [
    "dates[0]"
   ]
  },
  {
   "cell_type": "code",
   "execution_count": 30,
   "metadata": {
    "collapsed": false
   },
   "outputs": [
    {
     "data": {
      "text/plain": [
       "A   -0.970080\n",
       "B    0.716764\n",
       "C    0.586456\n",
       "D   -1.075630\n",
       "Name: 2013-01-01 00:00:00, dtype: float64"
      ]
     },
     "execution_count": 30,
     "metadata": {},
     "output_type": "execute_result"
    }
   ],
   "source": [
    "df.loc[dates[0]]"
   ]
  },
  {
   "cell_type": "markdown",
   "metadata": {},
   "source": [
    "Selección de todas las filas y multiples columnas por su etiqueta:"
   ]
  },
  {
   "cell_type": "code",
   "execution_count": 31,
   "metadata": {
    "collapsed": false
   },
   "outputs": [
    {
     "data": {
      "text/html": [
       "<div>\n",
       "<table border=\"1\" class=\"dataframe\">\n",
       "  <thead>\n",
       "    <tr style=\"text-align: right;\">\n",
       "      <th></th>\n",
       "      <th>A</th>\n",
       "      <th>B</th>\n",
       "    </tr>\n",
       "  </thead>\n",
       "  <tbody>\n",
       "    <tr>\n",
       "      <th>2013-01-01</th>\n",
       "      <td>-0.970080</td>\n",
       "      <td>0.716764</td>\n",
       "    </tr>\n",
       "    <tr>\n",
       "      <th>2013-01-02</th>\n",
       "      <td>0.340405</td>\n",
       "      <td>-0.542107</td>\n",
       "    </tr>\n",
       "    <tr>\n",
       "      <th>2013-01-03</th>\n",
       "      <td>-1.263196</td>\n",
       "      <td>0.480297</td>\n",
       "    </tr>\n",
       "    <tr>\n",
       "      <th>2013-01-04</th>\n",
       "      <td>0.841117</td>\n",
       "      <td>0.784089</td>\n",
       "    </tr>\n",
       "    <tr>\n",
       "      <th>2013-01-05</th>\n",
       "      <td>0.273098</td>\n",
       "      <td>2.327660</td>\n",
       "    </tr>\n",
       "    <tr>\n",
       "      <th>2013-01-06</th>\n",
       "      <td>2.451977</td>\n",
       "      <td>0.824872</td>\n",
       "    </tr>\n",
       "  </tbody>\n",
       "</table>\n",
       "</div>"
      ],
      "text/plain": [
       "                   A         B\n",
       "2013-01-01 -0.970080  0.716764\n",
       "2013-01-02  0.340405 -0.542107\n",
       "2013-01-03 -1.263196  0.480297\n",
       "2013-01-04  0.841117  0.784089\n",
       "2013-01-05  0.273098  2.327660\n",
       "2013-01-06  2.451977  0.824872"
      ]
     },
     "execution_count": 31,
     "metadata": {},
     "output_type": "execute_result"
    }
   ],
   "source": [
    "df.loc[:,['A','B']]"
   ]
  },
  {
   "cell_type": "markdown",
   "metadata": {},
   "source": [
    "Selección de un rango de filas y multiples columnas por su etiqueta:"
   ]
  },
  {
   "cell_type": "markdown",
   "metadata": {},
   "source": [
    "df.loc['20130102':'20130104',['A','B']]"
   ]
  },
  {
   "cell_type": "markdown",
   "metadata": {},
   "source": [
    "Selección de un escalar:"
   ]
  },
  {
   "cell_type": "code",
   "execution_count": 33,
   "metadata": {
    "collapsed": false
   },
   "outputs": [
    {
     "data": {
      "text/plain": [
       "-0.97007971340674015"
      ]
     },
     "execution_count": 33,
     "metadata": {},
     "output_type": "execute_result"
    }
   ],
   "source": [
    "df.at[dates[0],'A']"
   ]
  },
  {
   "cell_type": "markdown",
   "metadata": {},
   "source": [
    "##### Selección por posicion:"
   ]
  },
  {
   "cell_type": "code",
   "execution_count": 35,
   "metadata": {
    "collapsed": false
   },
   "outputs": [
    {
     "data": {
      "text/plain": [
       "A    0.841117\n",
       "B    0.784089\n",
       "C    0.150880\n",
       "D    1.047395\n",
       "Name: 2013-01-04 00:00:00, dtype: float64"
      ]
     },
     "execution_count": 35,
     "metadata": {},
     "output_type": "execute_result"
    }
   ],
   "source": [
    "df.iloc[3]"
   ]
  },
  {
   "cell_type": "code",
   "execution_count": 36,
   "metadata": {
    "collapsed": false
   },
   "outputs": [
    {
     "data": {
      "text/html": [
       "<div>\n",
       "<table border=\"1\" class=\"dataframe\">\n",
       "  <thead>\n",
       "    <tr style=\"text-align: right;\">\n",
       "      <th></th>\n",
       "      <th>A</th>\n",
       "      <th>B</th>\n",
       "    </tr>\n",
       "  </thead>\n",
       "  <tbody>\n",
       "    <tr>\n",
       "      <th>2013-01-04</th>\n",
       "      <td>0.841117</td>\n",
       "      <td>0.784089</td>\n",
       "    </tr>\n",
       "    <tr>\n",
       "      <th>2013-01-05</th>\n",
       "      <td>0.273098</td>\n",
       "      <td>2.327660</td>\n",
       "    </tr>\n",
       "  </tbody>\n",
       "</table>\n",
       "</div>"
      ],
      "text/plain": [
       "                   A         B\n",
       "2013-01-04  0.841117  0.784089\n",
       "2013-01-05  0.273098  2.327660"
      ]
     },
     "execution_count": 36,
     "metadata": {},
     "output_type": "execute_result"
    }
   ],
   "source": [
    "df.iloc[3:5,0:2]"
   ]
  },
  {
   "cell_type": "code",
   "execution_count": 37,
   "metadata": {
    "collapsed": false
   },
   "outputs": [
    {
     "data": {
      "text/html": [
       "<div>\n",
       "<table border=\"1\" class=\"dataframe\">\n",
       "  <thead>\n",
       "    <tr style=\"text-align: right;\">\n",
       "      <th></th>\n",
       "      <th>A</th>\n",
       "      <th>C</th>\n",
       "    </tr>\n",
       "  </thead>\n",
       "  <tbody>\n",
       "    <tr>\n",
       "      <th>2013-01-02</th>\n",
       "      <td>0.340405</td>\n",
       "      <td>-1.036001</td>\n",
       "    </tr>\n",
       "    <tr>\n",
       "      <th>2013-01-03</th>\n",
       "      <td>-1.263196</td>\n",
       "      <td>-1.012675</td>\n",
       "    </tr>\n",
       "    <tr>\n",
       "      <th>2013-01-05</th>\n",
       "      <td>0.273098</td>\n",
       "      <td>0.075743</td>\n",
       "    </tr>\n",
       "  </tbody>\n",
       "</table>\n",
       "</div>"
      ],
      "text/plain": [
       "                   A         C\n",
       "2013-01-02  0.340405 -1.036001\n",
       "2013-01-03 -1.263196 -1.012675\n",
       "2013-01-05  0.273098  0.075743"
      ]
     },
     "execution_count": 37,
     "metadata": {},
     "output_type": "execute_result"
    }
   ],
   "source": [
    "df.iloc[[1,2,4],[0,2]]"
   ]
  },
  {
   "cell_type": "code",
   "execution_count": 38,
   "metadata": {
    "collapsed": false
   },
   "outputs": [
    {
     "data": {
      "text/html": [
       "<div>\n",
       "<table border=\"1\" class=\"dataframe\">\n",
       "  <thead>\n",
       "    <tr style=\"text-align: right;\">\n",
       "      <th></th>\n",
       "      <th>A</th>\n",
       "      <th>B</th>\n",
       "      <th>C</th>\n",
       "      <th>D</th>\n",
       "    </tr>\n",
       "  </thead>\n",
       "  <tbody>\n",
       "    <tr>\n",
       "      <th>2013-01-02</th>\n",
       "      <td>0.340405</td>\n",
       "      <td>-0.542107</td>\n",
       "      <td>-1.036001</td>\n",
       "      <td>1.526354</td>\n",
       "    </tr>\n",
       "    <tr>\n",
       "      <th>2013-01-03</th>\n",
       "      <td>-1.263196</td>\n",
       "      <td>0.480297</td>\n",
       "      <td>-1.012675</td>\n",
       "      <td>-0.514127</td>\n",
       "    </tr>\n",
       "  </tbody>\n",
       "</table>\n",
       "</div>"
      ],
      "text/plain": [
       "                   A         B         C         D\n",
       "2013-01-02  0.340405 -0.542107 -1.036001  1.526354\n",
       "2013-01-03 -1.263196  0.480297 -1.012675 -0.514127"
      ]
     },
     "execution_count": 38,
     "metadata": {},
     "output_type": "execute_result"
    }
   ],
   "source": [
    "df.iloc[1:3,:]"
   ]
  },
  {
   "cell_type": "code",
   "execution_count": 39,
   "metadata": {
    "collapsed": false
   },
   "outputs": [
    {
     "data": {
      "text/html": [
       "<div>\n",
       "<table border=\"1\" class=\"dataframe\">\n",
       "  <thead>\n",
       "    <tr style=\"text-align: right;\">\n",
       "      <th></th>\n",
       "      <th>A</th>\n",
       "      <th>B</th>\n",
       "      <th>C</th>\n",
       "      <th>D</th>\n",
       "    </tr>\n",
       "  </thead>\n",
       "  <tbody>\n",
       "    <tr>\n",
       "      <th>2013-01-02</th>\n",
       "      <td>0.340405</td>\n",
       "      <td>-0.542107</td>\n",
       "      <td>-1.036001</td>\n",
       "      <td>1.526354</td>\n",
       "    </tr>\n",
       "    <tr>\n",
       "      <th>2013-01-03</th>\n",
       "      <td>-1.263196</td>\n",
       "      <td>0.480297</td>\n",
       "      <td>-1.012675</td>\n",
       "      <td>-0.514127</td>\n",
       "    </tr>\n",
       "  </tbody>\n",
       "</table>\n",
       "</div>"
      ],
      "text/plain": [
       "                   A         B         C         D\n",
       "2013-01-02  0.340405 -0.542107 -1.036001  1.526354\n",
       "2013-01-03 -1.263196  0.480297 -1.012675 -0.514127"
      ]
     },
     "execution_count": 39,
     "metadata": {},
     "output_type": "execute_result"
    }
   ],
   "source": [
    "df.iloc[1:3,:]"
   ]
  },
  {
   "cell_type": "markdown",
   "metadata": {},
   "source": [
    "##### Selección por condición (condición booleana)\n",
    "Selección condicional sobre una columna:"
   ]
  },
  {
   "cell_type": "code",
   "execution_count": 40,
   "metadata": {
    "collapsed": false
   },
   "outputs": [
    {
     "data": {
      "text/html": [
       "<div>\n",
       "<table border=\"1\" class=\"dataframe\">\n",
       "  <thead>\n",
       "    <tr style=\"text-align: right;\">\n",
       "      <th></th>\n",
       "      <th>A</th>\n",
       "      <th>B</th>\n",
       "      <th>C</th>\n",
       "      <th>D</th>\n",
       "    </tr>\n",
       "  </thead>\n",
       "  <tbody>\n",
       "    <tr>\n",
       "      <th>2013-01-02</th>\n",
       "      <td>0.340405</td>\n",
       "      <td>-0.542107</td>\n",
       "      <td>-1.036001</td>\n",
       "      <td>1.526354</td>\n",
       "    </tr>\n",
       "    <tr>\n",
       "      <th>2013-01-04</th>\n",
       "      <td>0.841117</td>\n",
       "      <td>0.784089</td>\n",
       "      <td>0.150880</td>\n",
       "      <td>1.047395</td>\n",
       "    </tr>\n",
       "    <tr>\n",
       "      <th>2013-01-05</th>\n",
       "      <td>0.273098</td>\n",
       "      <td>2.327660</td>\n",
       "      <td>0.075743</td>\n",
       "      <td>1.132829</td>\n",
       "    </tr>\n",
       "    <tr>\n",
       "      <th>2013-01-06</th>\n",
       "      <td>2.451977</td>\n",
       "      <td>0.824872</td>\n",
       "      <td>-0.305003</td>\n",
       "      <td>2.509481</td>\n",
       "    </tr>\n",
       "  </tbody>\n",
       "</table>\n",
       "</div>"
      ],
      "text/plain": [
       "                   A         B         C         D\n",
       "2013-01-02  0.340405 -0.542107 -1.036001  1.526354\n",
       "2013-01-04  0.841117  0.784089  0.150880  1.047395\n",
       "2013-01-05  0.273098  2.327660  0.075743  1.132829\n",
       "2013-01-06  2.451977  0.824872 -0.305003  2.509481"
      ]
     },
     "execution_count": 40,
     "metadata": {},
     "output_type": "execute_result"
    }
   ],
   "source": [
    "df[df.A > 0]"
   ]
  },
  {
   "cell_type": "markdown",
   "metadata": {},
   "source": [
    "Selección condicional sobre todo el DataFrane:"
   ]
  },
  {
   "cell_type": "code",
   "execution_count": 41,
   "metadata": {
    "collapsed": false
   },
   "outputs": [
    {
     "data": {
      "text/html": [
       "<div>\n",
       "<table border=\"1\" class=\"dataframe\">\n",
       "  <thead>\n",
       "    <tr style=\"text-align: right;\">\n",
       "      <th></th>\n",
       "      <th>A</th>\n",
       "      <th>B</th>\n",
       "      <th>C</th>\n",
       "      <th>D</th>\n",
       "    </tr>\n",
       "  </thead>\n",
       "  <tbody>\n",
       "    <tr>\n",
       "      <th>2013-01-01</th>\n",
       "      <td>NaN</td>\n",
       "      <td>0.716764</td>\n",
       "      <td>0.586456</td>\n",
       "      <td>NaN</td>\n",
       "    </tr>\n",
       "    <tr>\n",
       "      <th>2013-01-02</th>\n",
       "      <td>0.340405</td>\n",
       "      <td>NaN</td>\n",
       "      <td>NaN</td>\n",
       "      <td>1.526354</td>\n",
       "    </tr>\n",
       "    <tr>\n",
       "      <th>2013-01-03</th>\n",
       "      <td>NaN</td>\n",
       "      <td>0.480297</td>\n",
       "      <td>NaN</td>\n",
       "      <td>NaN</td>\n",
       "    </tr>\n",
       "    <tr>\n",
       "      <th>2013-01-04</th>\n",
       "      <td>0.841117</td>\n",
       "      <td>0.784089</td>\n",
       "      <td>0.150880</td>\n",
       "      <td>1.047395</td>\n",
       "    </tr>\n",
       "    <tr>\n",
       "      <th>2013-01-05</th>\n",
       "      <td>0.273098</td>\n",
       "      <td>2.327660</td>\n",
       "      <td>0.075743</td>\n",
       "      <td>1.132829</td>\n",
       "    </tr>\n",
       "    <tr>\n",
       "      <th>2013-01-06</th>\n",
       "      <td>2.451977</td>\n",
       "      <td>0.824872</td>\n",
       "      <td>NaN</td>\n",
       "      <td>2.509481</td>\n",
       "    </tr>\n",
       "  </tbody>\n",
       "</table>\n",
       "</div>"
      ],
      "text/plain": [
       "                   A         B         C         D\n",
       "2013-01-01       NaN  0.716764  0.586456       NaN\n",
       "2013-01-02  0.340405       NaN       NaN  1.526354\n",
       "2013-01-03       NaN  0.480297       NaN       NaN\n",
       "2013-01-04  0.841117  0.784089  0.150880  1.047395\n",
       "2013-01-05  0.273098  2.327660  0.075743  1.132829\n",
       "2013-01-06  2.451977  0.824872       NaN  2.509481"
      ]
     },
     "execution_count": 41,
     "metadata": {},
     "output_type": "execute_result"
    }
   ],
   "source": [
    "df[df > 0]"
   ]
  },
  {
   "cell_type": "markdown",
   "metadata": {},
   "source": [
    "Filtrado utilizando el método 'isin()':"
   ]
  },
  {
   "cell_type": "code",
   "execution_count": 42,
   "metadata": {
    "collapsed": false
   },
   "outputs": [
    {
     "data": {
      "text/html": [
       "<div>\n",
       "<table border=\"1\" class=\"dataframe\">\n",
       "  <thead>\n",
       "    <tr style=\"text-align: right;\">\n",
       "      <th></th>\n",
       "      <th>A</th>\n",
       "      <th>B</th>\n",
       "      <th>C</th>\n",
       "      <th>D</th>\n",
       "      <th>E</th>\n",
       "    </tr>\n",
       "  </thead>\n",
       "  <tbody>\n",
       "    <tr>\n",
       "      <th>2013-01-01</th>\n",
       "      <td>-0.970080</td>\n",
       "      <td>0.716764</td>\n",
       "      <td>0.586456</td>\n",
       "      <td>-1.075630</td>\n",
       "      <td>one</td>\n",
       "    </tr>\n",
       "    <tr>\n",
       "      <th>2013-01-02</th>\n",
       "      <td>0.340405</td>\n",
       "      <td>-0.542107</td>\n",
       "      <td>-1.036001</td>\n",
       "      <td>1.526354</td>\n",
       "      <td>one</td>\n",
       "    </tr>\n",
       "    <tr>\n",
       "      <th>2013-01-03</th>\n",
       "      <td>-1.263196</td>\n",
       "      <td>0.480297</td>\n",
       "      <td>-1.012675</td>\n",
       "      <td>-0.514127</td>\n",
       "      <td>two</td>\n",
       "    </tr>\n",
       "    <tr>\n",
       "      <th>2013-01-04</th>\n",
       "      <td>0.841117</td>\n",
       "      <td>0.784089</td>\n",
       "      <td>0.150880</td>\n",
       "      <td>1.047395</td>\n",
       "      <td>three</td>\n",
       "    </tr>\n",
       "    <tr>\n",
       "      <th>2013-01-05</th>\n",
       "      <td>0.273098</td>\n",
       "      <td>2.327660</td>\n",
       "      <td>0.075743</td>\n",
       "      <td>1.132829</td>\n",
       "      <td>four</td>\n",
       "    </tr>\n",
       "    <tr>\n",
       "      <th>2013-01-06</th>\n",
       "      <td>2.451977</td>\n",
       "      <td>0.824872</td>\n",
       "      <td>-0.305003</td>\n",
       "      <td>2.509481</td>\n",
       "      <td>three</td>\n",
       "    </tr>\n",
       "  </tbody>\n",
       "</table>\n",
       "</div>"
      ],
      "text/plain": [
       "                   A         B         C         D      E\n",
       "2013-01-01 -0.970080  0.716764  0.586456 -1.075630    one\n",
       "2013-01-02  0.340405 -0.542107 -1.036001  1.526354    one\n",
       "2013-01-03 -1.263196  0.480297 -1.012675 -0.514127    two\n",
       "2013-01-04  0.841117  0.784089  0.150880  1.047395  three\n",
       "2013-01-05  0.273098  2.327660  0.075743  1.132829   four\n",
       "2013-01-06  2.451977  0.824872 -0.305003  2.509481  three"
      ]
     },
     "execution_count": 42,
     "metadata": {},
     "output_type": "execute_result"
    }
   ],
   "source": [
    "# copio el DataFrame\n",
    "df2 = df.copy()\n",
    "# Agrego una nueva columna a la copia\n",
    "df2['E'] = ['one', 'one','two','three','four','three']\n",
    "df2"
   ]
  },
  {
   "cell_type": "code",
   "execution_count": 43,
   "metadata": {
    "collapsed": false
   },
   "outputs": [
    {
     "data": {
      "text/html": [
       "<div>\n",
       "<table border=\"1\" class=\"dataframe\">\n",
       "  <thead>\n",
       "    <tr style=\"text-align: right;\">\n",
       "      <th></th>\n",
       "      <th>A</th>\n",
       "      <th>B</th>\n",
       "      <th>C</th>\n",
       "      <th>D</th>\n",
       "      <th>E</th>\n",
       "    </tr>\n",
       "  </thead>\n",
       "  <tbody>\n",
       "    <tr>\n",
       "      <th>2013-01-03</th>\n",
       "      <td>-1.263196</td>\n",
       "      <td>0.480297</td>\n",
       "      <td>-1.012675</td>\n",
       "      <td>-0.514127</td>\n",
       "      <td>two</td>\n",
       "    </tr>\n",
       "    <tr>\n",
       "      <th>2013-01-05</th>\n",
       "      <td>0.273098</td>\n",
       "      <td>2.327660</td>\n",
       "      <td>0.075743</td>\n",
       "      <td>1.132829</td>\n",
       "      <td>four</td>\n",
       "    </tr>\n",
       "  </tbody>\n",
       "</table>\n",
       "</div>"
      ],
      "text/plain": [
       "                   A         B         C         D     E\n",
       "2013-01-03 -1.263196  0.480297 -1.012675 -0.514127   two\n",
       "2013-01-05  0.273098  2.327660  0.075743  1.132829  four"
      ]
     },
     "execution_count": 43,
     "metadata": {},
     "output_type": "execute_result"
    }
   ],
   "source": [
    "df2[df2['E'].isin(['two','four'])]"
   ]
  },
  {
   "cell_type": "markdown",
   "metadata": {},
   "source": [
    "##### Asignar valores \n",
    "Por etiqueta:"
   ]
  },
  {
   "cell_type": "code",
   "execution_count": 45,
   "metadata": {
    "collapsed": false
   },
   "outputs": [
    {
     "data": {
      "text/html": [
       "<div>\n",
       "<table border=\"1\" class=\"dataframe\">\n",
       "  <thead>\n",
       "    <tr style=\"text-align: right;\">\n",
       "      <th></th>\n",
       "      <th>A</th>\n",
       "      <th>B</th>\n",
       "      <th>C</th>\n",
       "      <th>D</th>\n",
       "    </tr>\n",
       "  </thead>\n",
       "  <tbody>\n",
       "    <tr>\n",
       "      <th>2013-01-01</th>\n",
       "      <td>0.000000</td>\n",
       "      <td>0.716764</td>\n",
       "      <td>0.586456</td>\n",
       "      <td>-1.075630</td>\n",
       "    </tr>\n",
       "    <tr>\n",
       "      <th>2013-01-02</th>\n",
       "      <td>0.340405</td>\n",
       "      <td>-0.542107</td>\n",
       "      <td>-1.036001</td>\n",
       "      <td>1.526354</td>\n",
       "    </tr>\n",
       "    <tr>\n",
       "      <th>2013-01-03</th>\n",
       "      <td>-1.263196</td>\n",
       "      <td>0.480297</td>\n",
       "      <td>-1.012675</td>\n",
       "      <td>-0.514127</td>\n",
       "    </tr>\n",
       "    <tr>\n",
       "      <th>2013-01-04</th>\n",
       "      <td>0.841117</td>\n",
       "      <td>0.784089</td>\n",
       "      <td>0.150880</td>\n",
       "      <td>1.047395</td>\n",
       "    </tr>\n",
       "    <tr>\n",
       "      <th>2013-01-05</th>\n",
       "      <td>0.273098</td>\n",
       "      <td>2.327660</td>\n",
       "      <td>0.075743</td>\n",
       "      <td>1.132829</td>\n",
       "    </tr>\n",
       "    <tr>\n",
       "      <th>2013-01-06</th>\n",
       "      <td>2.451977</td>\n",
       "      <td>0.824872</td>\n",
       "      <td>-0.305003</td>\n",
       "      <td>2.509481</td>\n",
       "    </tr>\n",
       "  </tbody>\n",
       "</table>\n",
       "</div>"
      ],
      "text/plain": [
       "                   A         B         C         D\n",
       "2013-01-01  0.000000  0.716764  0.586456 -1.075630\n",
       "2013-01-02  0.340405 -0.542107 -1.036001  1.526354\n",
       "2013-01-03 -1.263196  0.480297 -1.012675 -0.514127\n",
       "2013-01-04  0.841117  0.784089  0.150880  1.047395\n",
       "2013-01-05  0.273098  2.327660  0.075743  1.132829\n",
       "2013-01-06  2.451977  0.824872 -0.305003  2.509481"
      ]
     },
     "execution_count": 45,
     "metadata": {},
     "output_type": "execute_result"
    }
   ],
   "source": [
    "df.at[dates[0],'A'] = 0\n",
    "df"
   ]
  },
  {
   "cell_type": "markdown",
   "metadata": {},
   "source": [
    "Por posición:"
   ]
  },
  {
   "cell_type": "code",
   "execution_count": 47,
   "metadata": {
    "collapsed": false
   },
   "outputs": [
    {
     "data": {
      "text/html": [
       "<div>\n",
       "<table border=\"1\" class=\"dataframe\">\n",
       "  <thead>\n",
       "    <tr style=\"text-align: right;\">\n",
       "      <th></th>\n",
       "      <th>A</th>\n",
       "      <th>B</th>\n",
       "      <th>C</th>\n",
       "      <th>D</th>\n",
       "    </tr>\n",
       "  </thead>\n",
       "  <tbody>\n",
       "    <tr>\n",
       "      <th>2013-01-01</th>\n",
       "      <td>0.000000</td>\n",
       "      <td>0.000000</td>\n",
       "      <td>0.586456</td>\n",
       "      <td>-1.075630</td>\n",
       "    </tr>\n",
       "    <tr>\n",
       "      <th>2013-01-02</th>\n",
       "      <td>0.340405</td>\n",
       "      <td>-0.542107</td>\n",
       "      <td>-1.036001</td>\n",
       "      <td>1.526354</td>\n",
       "    </tr>\n",
       "    <tr>\n",
       "      <th>2013-01-03</th>\n",
       "      <td>-1.263196</td>\n",
       "      <td>0.480297</td>\n",
       "      <td>-1.012675</td>\n",
       "      <td>-0.514127</td>\n",
       "    </tr>\n",
       "    <tr>\n",
       "      <th>2013-01-04</th>\n",
       "      <td>0.841117</td>\n",
       "      <td>0.784089</td>\n",
       "      <td>0.150880</td>\n",
       "      <td>1.047395</td>\n",
       "    </tr>\n",
       "    <tr>\n",
       "      <th>2013-01-05</th>\n",
       "      <td>0.273098</td>\n",
       "      <td>2.327660</td>\n",
       "      <td>0.075743</td>\n",
       "      <td>1.132829</td>\n",
       "    </tr>\n",
       "    <tr>\n",
       "      <th>2013-01-06</th>\n",
       "      <td>2.451977</td>\n",
       "      <td>0.824872</td>\n",
       "      <td>-0.305003</td>\n",
       "      <td>2.509481</td>\n",
       "    </tr>\n",
       "  </tbody>\n",
       "</table>\n",
       "</div>"
      ],
      "text/plain": [
       "                   A         B         C         D\n",
       "2013-01-01  0.000000  0.000000  0.586456 -1.075630\n",
       "2013-01-02  0.340405 -0.542107 -1.036001  1.526354\n",
       "2013-01-03 -1.263196  0.480297 -1.012675 -0.514127\n",
       "2013-01-04  0.841117  0.784089  0.150880  1.047395\n",
       "2013-01-05  0.273098  2.327660  0.075743  1.132829\n",
       "2013-01-06  2.451977  0.824872 -0.305003  2.509481"
      ]
     },
     "execution_count": 47,
     "metadata": {},
     "output_type": "execute_result"
    }
   ],
   "source": [
    "df.iat[0,1] = 0\n",
    "df"
   ]
  },
  {
   "cell_type": "markdown",
   "metadata": {},
   "source": [
    "Assignando un numpy array a una columna:"
   ]
  },
  {
   "cell_type": "code",
   "execution_count": 49,
   "metadata": {
    "collapsed": false
   },
   "outputs": [
    {
     "data": {
      "text/html": [
       "<div>\n",
       "<table border=\"1\" class=\"dataframe\">\n",
       "  <thead>\n",
       "    <tr style=\"text-align: right;\">\n",
       "      <th></th>\n",
       "      <th>A</th>\n",
       "      <th>B</th>\n",
       "      <th>C</th>\n",
       "      <th>D</th>\n",
       "    </tr>\n",
       "  </thead>\n",
       "  <tbody>\n",
       "    <tr>\n",
       "      <th>2013-01-01</th>\n",
       "      <td>0.000000</td>\n",
       "      <td>0.000000</td>\n",
       "      <td>0.586456</td>\n",
       "      <td>5</td>\n",
       "    </tr>\n",
       "    <tr>\n",
       "      <th>2013-01-02</th>\n",
       "      <td>0.340405</td>\n",
       "      <td>-0.542107</td>\n",
       "      <td>-1.036001</td>\n",
       "      <td>5</td>\n",
       "    </tr>\n",
       "    <tr>\n",
       "      <th>2013-01-03</th>\n",
       "      <td>-1.263196</td>\n",
       "      <td>0.480297</td>\n",
       "      <td>-1.012675</td>\n",
       "      <td>5</td>\n",
       "    </tr>\n",
       "    <tr>\n",
       "      <th>2013-01-04</th>\n",
       "      <td>0.841117</td>\n",
       "      <td>0.784089</td>\n",
       "      <td>0.150880</td>\n",
       "      <td>5</td>\n",
       "    </tr>\n",
       "    <tr>\n",
       "      <th>2013-01-05</th>\n",
       "      <td>0.273098</td>\n",
       "      <td>2.327660</td>\n",
       "      <td>0.075743</td>\n",
       "      <td>5</td>\n",
       "    </tr>\n",
       "    <tr>\n",
       "      <th>2013-01-06</th>\n",
       "      <td>2.451977</td>\n",
       "      <td>0.824872</td>\n",
       "      <td>-0.305003</td>\n",
       "      <td>5</td>\n",
       "    </tr>\n",
       "  </tbody>\n",
       "</table>\n",
       "</div>"
      ],
      "text/plain": [
       "                   A         B         C  D\n",
       "2013-01-01  0.000000  0.000000  0.586456  5\n",
       "2013-01-02  0.340405 -0.542107 -1.036001  5\n",
       "2013-01-03 -1.263196  0.480297 -1.012675  5\n",
       "2013-01-04  0.841117  0.784089  0.150880  5\n",
       "2013-01-05  0.273098  2.327660  0.075743  5\n",
       "2013-01-06  2.451977  0.824872 -0.305003  5"
      ]
     },
     "execution_count": 49,
     "metadata": {},
     "output_type": "execute_result"
    }
   ],
   "source": [
    "df.loc[:,'D'] = np.array([5] * len(df))\n",
    "df"
   ]
  },
  {
   "cell_type": "markdown",
   "metadata": {},
   "source": [
    "Asignando utilizando una condicion:\n",
    "\n",
    "En este ejemplo, asignaremos a todos los valores mayores a 0 el valor 99."
   ]
  },
  {
   "cell_type": "code",
   "execution_count": 51,
   "metadata": {
    "collapsed": false
   },
   "outputs": [
    {
     "data": {
      "text/html": [
       "<div>\n",
       "<table border=\"1\" class=\"dataframe\">\n",
       "  <thead>\n",
       "    <tr style=\"text-align: right;\">\n",
       "      <th></th>\n",
       "      <th>A</th>\n",
       "      <th>B</th>\n",
       "      <th>C</th>\n",
       "      <th>D</th>\n",
       "    </tr>\n",
       "  </thead>\n",
       "  <tbody>\n",
       "    <tr>\n",
       "      <th>2013-01-01</th>\n",
       "      <td>0.000000</td>\n",
       "      <td>0.000000</td>\n",
       "      <td>99.000000</td>\n",
       "      <td>99</td>\n",
       "    </tr>\n",
       "    <tr>\n",
       "      <th>2013-01-02</th>\n",
       "      <td>99.000000</td>\n",
       "      <td>-0.542107</td>\n",
       "      <td>-1.036001</td>\n",
       "      <td>99</td>\n",
       "    </tr>\n",
       "    <tr>\n",
       "      <th>2013-01-03</th>\n",
       "      <td>-1.263196</td>\n",
       "      <td>99.000000</td>\n",
       "      <td>-1.012675</td>\n",
       "      <td>99</td>\n",
       "    </tr>\n",
       "    <tr>\n",
       "      <th>2013-01-04</th>\n",
       "      <td>99.000000</td>\n",
       "      <td>99.000000</td>\n",
       "      <td>99.000000</td>\n",
       "      <td>99</td>\n",
       "    </tr>\n",
       "    <tr>\n",
       "      <th>2013-01-05</th>\n",
       "      <td>99.000000</td>\n",
       "      <td>99.000000</td>\n",
       "      <td>99.000000</td>\n",
       "      <td>99</td>\n",
       "    </tr>\n",
       "    <tr>\n",
       "      <th>2013-01-06</th>\n",
       "      <td>99.000000</td>\n",
       "      <td>99.000000</td>\n",
       "      <td>-0.305003</td>\n",
       "      <td>99</td>\n",
       "    </tr>\n",
       "  </tbody>\n",
       "</table>\n",
       "</div>"
      ],
      "text/plain": [
       "                    A          B          C   D\n",
       "2013-01-01   0.000000   0.000000  99.000000  99\n",
       "2013-01-02  99.000000  -0.542107  -1.036001  99\n",
       "2013-01-03  -1.263196  99.000000  -1.012675  99\n",
       "2013-01-04  99.000000  99.000000  99.000000  99\n",
       "2013-01-05  99.000000  99.000000  99.000000  99\n",
       "2013-01-06  99.000000  99.000000  -0.305003  99"
      ]
     },
     "execution_count": 51,
     "metadata": {},
     "output_type": "execute_result"
    }
   ],
   "source": [
    "# copy el DataFrame\n",
    "df2 = df.copy()\n",
    "df2[df2 > 0] = 99\n",
    "df2"
   ]
  },
  {
   "cell_type": "markdown",
   "metadata": {},
   "source": [
    "## Matplotlib\n",
    "Una parte importante del modelado numérico es la visualización de datos. Matplotlib es la librería mas utilizada para hacerlo en Python"
   ]
  },
  {
   "cell_type": "code",
   "execution_count": 29,
   "metadata": {
    "collapsed": false
   },
   "outputs": [
    {
     "data": {
      "image/png": "[encoded data removed]",
      "text/plain": [
       "<matplotlib.figure.Figure at 0x7ff2c13565f8>"
      ]
     },
     "metadata": {},
     "output_type": "display_data"
    }
   ],
   "source": [
    "%matplotlib inline \n",
    "#La linea anterior es para visualizar los gráficos directamente en el notebook\n",
    "import matplotlib.pyplot as plt\n",
    "# Graficar una linea\n",
    "x = np.linspace(0, 10, 100)\n",
    "plt.plot(x, np.sin(x), c=\"r\");\n",
    "# Scatter-plot points\n",
    "x = np.random.normal(size=500)\n",
    "y = np.random.normal(size=500)\n",
    "plt.scatter(x, y);"
   ]
  },
  {
   "cell_type": "markdown",
   "metadata": {},
   "source": [
    "Puende encontrar muchos mas ejemplos de tipos de gráficos en http://matplotlib.org/index.html"
   ]
  }
 ],
 "metadata": {
  "kernelspec": {
   "display_name": "Python 3",
   "language": "python",
   "name": "python3"
  },
  "language_info": {
   "codemirror_mode": {
    "name": "ipython",
    "version": 3
   },
   "file_extension": ".py",
   "mimetype": "text/x-python",
   "name": "python",
   "nbconvert_exporter": "python",
   "pygments_lexer": "ipython3",
   "version": "3.4.3"
  }
 },
 "nbformat": 4,
 "nbformat_minor": 2
}
