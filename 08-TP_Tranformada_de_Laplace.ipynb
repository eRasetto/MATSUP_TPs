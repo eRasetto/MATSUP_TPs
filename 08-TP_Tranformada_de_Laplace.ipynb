{
 "cells": [
  {
   "cell_type": "markdown",
   "metadata": {},
   "source": [
    "Previamente, vimos que la transformada de fourier nos sirve para transformar señales desde el dominio de configuración (tiempo o espacio), al dominio de la frecuencia. Teniendo una señal $x(t)$ y aplicándole la F.T. \n",
    "\n",
    "$$X(\\omega)=\\int_{-\\infty}^{\\infty}x(t)\\;e^{-j\\omega t}\\;dt$$\n",
    "\n",
    "![fourier_transform](img/08-fourier_transform.png)\n",
    "\n",
    "Teniendo en cuenta que las soluciones para los distintos tipos de Ecuaciones Diferenciales pueden ser de dos tipos: \n",
    "\n",
    "* Exponenciales: $e^{at} \\implies {\\partial e^{at}\\over \\partial t} = ae^{at}$ \n",
    "* Senoidales: $\\sin(at) \\implies {\\partial^2 sin(at)\\over \\partial t^2} = a^2 \\sin(at)$ "
   ]
  },
  {
   "cell_type": "markdown",
   "metadata": {},
   "source": [
    "Si analizamos la transformada de fourier, podemos apreciar que el análisis de la señal se realiza en términos de sinusoides:\n",
    "\n",
    "![fourier_sinusoide](img/08-fourier_sinusoide.png)\n",
    "\n",
    "El cual es procedimiento común para pasar funciones en el dominio del tiempo al dominio de la frecuencia. "
   ]
  },
  {
   "cell_type": "code",
   "execution_count": 1,
   "metadata": {
    "collapsed": false
   },
   "outputs": [
    {
     "name": "stderr",
     "output_type": "stream",
     "text": [
      "/home/ezequiel/.local/lib/python3.4/site-packages/numpy/core/numeric.py:482: ComplexWarning: Casting complex values to real discards the imaginary part\n",
      "  return array(a, dtype, copy=False, order=order)\n"
     ]
    },
    {
     "data": {
      "image/png": "[encoded data removed]",
      "text/plain": [
       "<matplotlib.figure.Figure at 0x7f1117cfb860>"
      ]
     },
     "metadata": {},
     "output_type": "display_data"
    }
   ],
   "source": [
    "import numpy as np\n",
    "%matplotlib inline\n",
    "import matplotlib.pyplot as plt\n",
    "\n",
    "x = np.linspace(0,10,1000)\n",
    "y = np.exp(complex(0, -1)*x)\n",
    "\n",
    "plt.plot(x,y)\n",
    "plt.show()"
   ]
  },
  {
   "cell_type": "markdown",
   "metadata": {},
   "source": [
    "El problema es que transformar señales desde el dominio del tiempo al dominio de la frecuencia es un poco restrictivo cuando estamos trabajando con Ecuaciones Diferenciales. \n",
    "\n",
    "Ahora, que sucede si en ves de solo pensar en realizar transformaciones en base a sinusoides, también utilizamos exponenciales. Si realizamos la transformada de fourier de la siguiente manera: \n",
    "\n",
    "$$X(\\sigma,\\omega)=\\int_{-\\infty}^{\\infty}[x(t)\\;e^{-\\sigma t}]\\;e^{-j\\omega t}\\;dt$$\n",
    "\n",
    "Si combinamos estos dos términos $e^{-\\sigma t}\\cdot e^{-j\\omega t}=e^{(-\\sigma-j\\omega)t}=e^{st}$, tenemos una variable compleja en la que su parte real, corresponde con respuestas exponenciales, y una parte imaginaria, que corresponde con respuestas sinusoidales. \n",
    "Remplazando $-\\sigma-j\\omega = s$, nuestra transformada queda con la forma: \n",
    "\n",
    "$$X(s)=\\int_{-\\infty}^{\\infty}x(t)\\;e^{st}\\;dt$$\n",
    "\n",
    "La cual es la forma estándar de la transformada de Laplace. "
   ]
  },
  {
   "cell_type": "markdown",
   "metadata": {},
   "source": [
    "La cual implicaria, graficamente hablando, realizar lo siguiente:\n",
    "\n",
    "![transformada_laplace_graficamente](img/08-transformada_laplace_graficamente.png)"
   ]
  },
  {
   "cell_type": "markdown",
   "metadata": {},
   "source": [
    "## Resolución Simbólica de la Transformada de Laplace en Python\n",
    "SymPy tiene implementados métodos para utilizar la transformada de laplace, analíticamente, en python. \n",
    "\n",
    "Para realizar la transformada, en este caso de la función $f(t)=t^2$:"
   ]
  },
  {
   "cell_type": "code",
   "execution_count": 2,
   "metadata": {
    "collapsed": false
   },
   "outputs": [
    {
     "name": "stdout",
     "output_type": "stream",
     "text": [
      "2/s**3\n",
      "-oo\n",
      "0 < re(s)\n"
     ]
    }
   ],
   "source": [
    "from sympy.integrals import laplace_transform\n",
    "from sympy.abc import s, a\n",
    "from sympy import Symbol\n",
    "\n",
    "t = Symbol('t', positive=True)\n",
    "\n",
    "F,a,cond = laplace_transform(t**2, t, s)\n",
    "print(F)\n",
    "print(a)\n",
    "print(cond)"
   ]
  },
  {
   "cell_type": "markdown",
   "metadata": {},
   "source": [
    "## Resolución Simbolica de la Transformada Inversa de Laplace\n",
    "Para realizar la transformada inversa"
   ]
  },
  {
   "cell_type": "code",
   "execution_count": 3,
   "metadata": {
    "collapsed": false
   },
   "outputs": [
    {
     "name": "stdout",
     "output_type": "stream",
     "text": [
      "t**2\n"
     ]
    }
   ],
   "source": [
    "from sympy.integrals import inverse_laplace_transform\n",
    "\n",
    "f = inverse_laplace_transform(F,s,t)\n",
    "print(f)"
   ]
  },
  {
   "cell_type": "markdown",
   "metadata": {},
   "source": [
    "## Resolución Simbólica de ODEs utilizando la Transformada de Laplace en Python\n",
    "\n",
    "Una de las mayores aplicaciones de la **Transformada de Laplace**, es la resolución de **Ecuaciones Diferenciales Ordinarias** de manera analítica. \n",
    "Como ejemplo vamos a utilizar la ODE de primer orden para la ley de enfriamiento de Newton: \n",
    "\n",
    "$${dT(t) \\over dt}=-k(T(t)-T_a)$$\n",
    "\n",
    "con valores iniciales $T(0)=T_0$. \n",
    "\n",
    "Pimero definimos los Symbols para cada una de las variables $t, k, T_0, T_a$ y la representación de la función desconocida $T(t)$."
   ]
  },
  {
   "cell_type": "code",
   "execution_count": 4,
   "metadata": {
    "collapsed": true
   },
   "outputs": [],
   "source": [
    "import sympy\n",
    "\n",
    "t, k, T0, Ta = sympy.symbols(\"t, k, T_0, T_a\")\n",
    "T = sympy.Function(\"T\")"
   ]
  },
  {
   "cell_type": "markdown",
   "metadata": {},
   "source": [
    "Luego, podemos definir la ODE de forma natural simplemente creando una expresión Sympy para el lado izquierdo de la ODE: \n",
    "\n",
    "$${dT(t) \\over dt}+k(T(t)-T_a)=0$$"
   ]
  },
  {
   "cell_type": "code",
   "execution_count": 5,
   "metadata": {
    "collapsed": false
   },
   "outputs": [],
   "source": [
    "ode = T(t).diff(t)+k*(T(t)-Ta)"
   ]
  },
  {
   "cell_type": "markdown",
   "metadata": {},
   "source": [
    "Dada la representación previa de la ODE, podemos directamente pasar la misma a **sumpy.dsolve** para encontrar auténticamente la solución general de la ODE."
   ]
  },
  {
   "cell_type": "code",
   "execution_count": 6,
   "metadata": {
    "collapsed": false
   },
   "outputs": [
    {
     "data": {
      "text/plain": [
       "Eq(T(t), C1*exp(-k*t) + T_a)"
      ]
     },
     "execution_count": 6,
     "metadata": {},
     "output_type": "execute_result"
    }
   ],
   "source": [
    "ode_sol = sympy.dsolve(ode)\n",
    "ode_sol"
   ]
  },
  {
   "cell_type": "markdown",
   "metadata": {},
   "source": [
    "Una alternativa a la solución de ODEs simbólicamente con el \"black-box\" de SymPy, dsolve, es usar las capacidades simbólicas de SymPy para realizar un enfoque más manual para resolver ODEs. Una técnica que se puede utilizar para resolver ciertos problemas ODE es la **Transformada de Laplace**, que para muchos problemas resulta en una ecuación algebraica que es más fácil de resolver. La solución a la ecuación algebraica puede entonces ser transformada de nuevo al dominio original con la **Transformada inversa de Laplace**, para obtener la solución al problema original. \n",
    "\n",
    "La clave de este método es que la **Transformada de Laplace** de la derivada de una función es una expresión algebraica en la **Transformada de Laplace** de la función en sí misma: $\\mathcal{L}[y'(t)]=s\\mathcal{L}[y(t)]-y(0)$. Sin embargo, mientras SymPy es bueno realizando transformadas de Laplace en muchos tipos de funciones elementales, no reconoce cómo transformar las derivadas de una función desconocida. Pero la definición de una función que realiza esta tarea corrige fácilmente esta deficiencia. \n",
    "\n",
    "Por ejemplo, considerando la siguiente ecuación diferencial ordinaria de un oscilador armónico: \n",
    "\n",
    "$${d^2 \\over dt^2}y(t)+2{d \\over dt}y(t)+10y(t)=2\\sin{3t}$$\n",
    "\n",
    "Para trabajar con esta ODE primero creamos símbolos SymPy para la variable independiente $t$ y la función $y(t)$, y luego los usamos para construir la expresión simbólica para el ODE:"
   ]
  },
  {
   "cell_type": "code",
   "execution_count": 7,
   "metadata": {
    "collapsed": false
   },
   "outputs": [
    {
     "data": {
      "text/plain": [
       "Eq(10*y(t) - 2*sin(3*t) + 2*Derivative(y(t), t) + Derivative(y(t), t, t), 0)"
      ]
     },
     "execution_count": 7,
     "metadata": {},
     "output_type": "execute_result"
    }
   ],
   "source": [
    "t = sympy.symbols(\"t\", positive=True)\n",
    "y = sympy.Function(\"y\")\n",
    "ode = y(t).diff(t, 2) + 2 * y(t).diff(t) + 10 * y(t) - 2 * sympy.sin(3*t)\n",
    "sympy.Eq(ode)"
   ]
  },
  {
   "cell_type": "markdown",
   "metadata": {},
   "source": [
    "Transformando esta ODE debemos producir una ecuación algebraica. Para seguir este enfoque utilizando SymPy y su función **sympy.laplace_transform**, primero necesitamos crear un símbolo $s$, que se utilizará en la transformación de Laplace. En este punto también creamos un símbolo $Y$ para uso posterior."
   ]
  },
  {
   "cell_type": "code",
   "execution_count": 8,
   "metadata": {
    "collapsed": true
   },
   "outputs": [],
   "source": [
    "s, Y = sympy.symbols(\"s, Y\", real=True)"
   ]
  },
  {
   "cell_type": "markdown",
   "metadata": {},
   "source": [
    "A continuación, procedemos a realizar la transformada de Laplace la función desconocida $y(t)$, así como toda la ecuación ODE:"
   ]
  },
  {
   "cell_type": "code",
   "execution_count": 9,
   "metadata": {
    "collapsed": false
   },
   "outputs": [
    {
     "data": {
      "text/plain": [
       "LaplaceTransform(y(t), t, s)"
      ]
     },
     "execution_count": 9,
     "metadata": {},
     "output_type": "execute_result"
    }
   ],
   "source": [
    "from sympy import laplace_transform\n",
    "\n",
    "L_y = sympy.laplace_transform(y(t), t, s)\n",
    "L_y"
   ]
  },
  {
   "cell_type": "markdown",
   "metadata": {},
   "source": [
    "$\\mathcal{L}[y(t)](s)$ "
   ]
  },
  {
   "cell_type": "code",
   "execution_count": 10,
   "metadata": {
    "collapsed": false
   },
   "outputs": [
    {
     "data": {
      "text/plain": [
       "Eq(10*LaplaceTransform(y(t), t, s) + 2*LaplaceTransform(Derivative(y(t), t), t, s) + LaplaceTransform(Derivative(y(t), t, t), t, s) - 6/(s**2 + 9), 0)"
      ]
     },
     "execution_count": 10,
     "metadata": {},
     "output_type": "execute_result"
    }
   ],
   "source": [
    "L_ode = sympy.laplace_transform(ode, t, s, noconds=True)\n",
    "sympy.Eq(L_ode)"
   ]
  },
  {
   "cell_type": "markdown",
   "metadata": {},
   "source": [
    "$10\\mathcal{L}\\Big[y(t)\\Big](s)+2\\mathcal{L}\\Big[{d \\over dt}y(t)\\Big](s)+\\mathcal{L}\\Big[{d^2 \\over dt^2}y(t)\\Big](s)-{6 \\over s^2+9}=0$ "
   ]
  },
  {
   "cell_type": "markdown",
   "metadata": {},
   "source": [
    "Cuando se realiza una **Transformada de Laplace** de una función desconocida $y(t)$ obtenemos el resultado indeterminado $\\mathcal{L}[y(t)](s)$, que era de esperar. Sin embargo, la aplicación de **sympy.laplace_transform** en una derivada de $y(t)$, como ${d \\over dt}y(t)$, el resultado que obtenemos es la expresión no evaluada $\\mathcal{L}[{d \\over dt}y(t)](s)$. Este no es el resultado que buscamos, por lo tanto, demos trabajar este problema para obtener la buscada ecuación algebraica. Ahora, dado que:\n",
    "\n",
    "$$\\left.\\mathcal{L}\\Big[{d^n \\over dt^n}y(t)\\Big](s)=s^n\\mathcal{L}\\Big[y(t)\\Big](s)-\\sum_{m=0}^{n-1}s^{n-m-1}{d^m \\over dt^m}y(t)\\right|_{t=0}$$\n",
    "\n",
    "Iterando a través de la expresión Sympy de L_ode, y reemplazando las ocurrencias de $\\mathcal{L}\\Big[{d^n \\over dt^n}y(t)\\Big](s)$ por la expresión de la forma dada por la formula previa, podemos obtener la forma algebraica de la ODE que buscamos. \n",
    "\n",
    "Las siguiente función toman una ODE transformada de Laplace y realiza la sustitución de las transformadas de Laplace no evaluadas de las derivadas de $y(t)$:"
   ]
  },
  {
   "cell_type": "code",
   "execution_count": 11,
   "metadata": {
    "collapsed": true
   },
   "outputs": [],
   "source": [
    "def laplace_transform_derivatives(e):\n",
    "    \"\"\"\n",
    "    Evaluate the unevaluted laplace transforms of derivatives of functions\n",
    "    \"\"\"\n",
    "    if isinstance(e, sympy.LaplaceTransform):\n",
    "        if isinstance(e.args[0], sympy.Derivative):\n",
    "            d, t, s = e.args\n",
    "            n = len(d.args) - 1\n",
    "            return ((s**n) * sympy.LaplaceTransform(d.args[0], t, s) - sum([s**(n-i) * sympy.diff(d.args[0], t, i-1).subs(t, 0) for i in range(1, n+1)]))\n",
    "\n",
    "    if isinstance(e, (sympy.Add, sympy.Mul)):\n",
    "        t = type(e)\n",
    "        return t(*[laplace_transform_derivatives(arg) for arg in e.args])\n",
    "\n",
    "    return e"
   ]
  },
  {
   "cell_type": "markdown",
   "metadata": {},
   "source": [
    "Aplicando esta función en la ecuación ODE transformada de Laplace, L_ode, obtenemos:"
   ]
  },
  {
   "cell_type": "code",
   "execution_count": 12,
   "metadata": {
    "collapsed": false
   },
   "outputs": [
    {
     "data": {
      "text/plain": [
       "Eq(s**2*LaplaceTransform(y(t), t, s) + 2*s*LaplaceTransform(y(t), t, s) - s*y(0) + 10*LaplaceTransform(y(t), t, s) - 2*y(0) - Subs(Derivative(y(t), t), (t,), (0,)) - 6/(s**2 + 9), 0)"
      ]
     },
     "execution_count": 12,
     "metadata": {},
     "output_type": "execute_result"
    }
   ],
   "source": [
    "L_ode_2 = laplace_transform_derivatives(L_ode)\n",
    "sympy.Eq(L_ode_2)"
   ]
  },
  {
   "cell_type": "markdown",
   "metadata": {},
   "source": [
    "$$\\left.s^2\\mathcal{L}\\Big[y(t)\\Big](s)+2s\\mathcal{L}\\Big[y(t)\\Big](s)-sy(0)+10\\mathcal{L}\\Big[y(t)\\Big](s)-2y(0)-{d \\over dt}y(t)\\right|_{t=0}-{6\\over s^2+9}=0$$\n",
    "\n",
    "Para simplificar la notación, sustituimos la expresión $\\mathcal{L}\\Big[y(t)\\Big](s)$ por el símbolo $Y$:"
   ]
  },
  {
   "cell_type": "code",
   "execution_count": 13,
   "metadata": {
    "collapsed": false
   },
   "outputs": [
    {
     "data": {
      "text/plain": [
       "Eq(Y*s**2 + 2*Y*s + 10*Y - s*y(0) - 2*y(0) - Subs(Derivative(y(t), t), (t,), (0,)) - 6/(s**2 + 9), 0)"
      ]
     },
     "execution_count": 13,
     "metadata": {},
     "output_type": "execute_result"
    }
   ],
   "source": [
    "L_ode_3 = L_ode_2.subs(L_y, Y)\n",
    "sympy.Eq(L_ode_3)"
   ]
  },
  {
   "cell_type": "markdown",
   "metadata": {},
   "source": [
    "$$\\left.s^2Y+2sY-sy(0)+10Y-2y(0)-{d \\over dt}y(t)\\right|_{t=0}-{6 \\over s^2+9}=0$$\n",
    "\n",
    "En este punto, necesitamos especificar las condiciones de frontera para el problema. Utilizamos $y(0)=1$ y $y'(0)=0$, creamos un diccionario que contenga estas condiciones de frontera y utilizamos la función **subs** en la transformada de Laplace de la ODE:"
   ]
  },
  {
   "cell_type": "code",
   "execution_count": 14,
   "metadata": {
    "collapsed": false
   },
   "outputs": [
    {
     "data": {
      "text/plain": [
       "{Subs(Derivative(y(t), t), (t,), (0,)): 0, y(0): 1}"
      ]
     },
     "execution_count": 14,
     "metadata": {},
     "output_type": "execute_result"
    }
   ],
   "source": [
    "ics = {y(0): 1, y(t).diff(t).subs(t, 0): 0}\n",
    "ics"
   ]
  },
  {
   "cell_type": "markdown",
   "metadata": {},
   "source": [
    "$$\\Big\\{\\left.{d \\over dt}y(t)\\right|_{t=0}:0,\\;y(0):1\\Big\\}$$"
   ]
  },
  {
   "cell_type": "code",
   "execution_count": 15,
   "metadata": {
    "collapsed": false
   },
   "outputs": [
    {
     "data": {
      "text/plain": [
       "Eq(Y*s**2 + 2*Y*s + 10*Y - s - 2 - 6/(s**2 + 9), 0)"
      ]
     },
     "execution_count": 15,
     "metadata": {},
     "output_type": "execute_result"
    }
   ],
   "source": [
    "L_ode_4 = L_ode_3.subs(ics)\n",
    "sympy.Eq(L_ode_4)"
   ]
  },
  {
   "cell_type": "markdown",
   "metadata": {},
   "source": [
    "$$Ys^2+2Ys+10Y-s2-{6 \\over s^2+9}=0$$"
   ]
  },
  {
   "cell_type": "markdown",
   "metadata": {},
   "source": [
    "Esta es una ecuación algebraica que puede ser resuelta para Y:"
   ]
  },
  {
   "cell_type": "code",
   "execution_count": 16,
   "metadata": {
    "collapsed": false
   },
   "outputs": [
    {
     "data": {
      "text/plain": [
       "[(s**3 + 2*s**2 + 9*s + 24)/(s**4 + 2*s**3 + 19*s**2 + 18*s + 90)]"
      ]
     },
     "execution_count": 16,
     "metadata": {},
     "output_type": "execute_result"
    }
   ],
   "source": [
    "Y_sol = sympy.solve(L_ode_4, Y)\n",
    "Y_sol"
   ]
  },
  {
   "cell_type": "markdown",
   "metadata": {},
   "source": [
    "$$\\bigg[\\frac{S^3+2s^2+9s+24}{s^4+2s^3+19s^2+18s+90}\\bigg]$$"
   ]
  },
  {
   "cell_type": "markdown",
   "metadata": {},
   "source": [
    "Realizando la transformación inversa de Laplace de esta expresión da la solución al problema original en el dominio del tiempo:"
   ]
  },
  {
   "cell_type": "code",
   "execution_count": 17,
   "metadata": {
    "collapsed": false
   },
   "outputs": [
    {
     "name": "stdout",
     "output_type": "stream",
     "text": [
      "(6*exp(t)*sin(3*t) - 36*exp(t)*cos(3*t) + 43*sin(3*t) + 147*cos(3*t))*exp(-t)/111\n"
     ]
    }
   ],
   "source": [
    "y_sol = sympy.inverse_laplace_transform(Y_sol[0], s, t)\n",
    "time_sol = sympy.simplify(y_sol)\n",
    "print(time_sol)"
   ]
  },
  {
   "cell_type": "markdown",
   "metadata": {},
   "source": [
    "$$\\frac{e^{-t}}{111}(6e^t\\sin(3t)-36e^t\\cos(3t)+43\\sin(3t)+147\\cos(3t))$$"
   ]
  },
  {
   "cell_type": "code",
   "execution_count": 18,
   "metadata": {
    "collapsed": false
   },
   "outputs": [
    {
     "data": {
      "image/png": "[encoded data removed]",
      "text/plain": [
       "<matplotlib.figure.Figure at 0x7f111a62a240>"
      ]
     },
     "metadata": {},
     "output_type": "display_data"
    }
   ],
   "source": [
    "import numpy as np\n",
    "%matplotlib inline\n",
    "import matplotlib.pyplot as plt\n",
    "\n",
    "x = np.linspace(0,20,1000)\n",
    "y = np.zeros(1000)\n",
    "for i in range(0,1000):\n",
    "    y[i] = time_sol.subs(t, x[i])\n",
    "\n",
    "plt.plot(x,y)\n",
    "plt.show()"
   ]
  },
  {
   "cell_type": "markdown",
   "metadata": {},
   "source": [
    "## Ejercicios\n",
    "\n",
    "1. Forma grupos de 2 integrantes. \n",
    "2. Solucionar analíticamente, utilizando la transformada de Laplace, la EDO de ejemplo del TP de Ecuaciones Diferenciales Ordinarias (Péndulo) y comparar ambas soluciones (analíticamente y gráficamente). \n",
    "3. Solucionar analíticamente, utilizando la transformada de Laplace, la EDO elegida por el grupo en el TP de Ecuaciones Diferenciales Ordinarias y comparar ambas soluciones (analíticamente y gráficamente). "
   ]
  }
 ],
 "metadata": {
  "kernelspec": {
   "display_name": "Python 3",
   "language": "python",
   "name": "python3"
  },
  "language_info": {
   "codemirror_mode": {
    "name": "ipython",
    "version": 3
   },
   "file_extension": ".py",
   "mimetype": "text/x-python",
   "name": "python",
   "nbconvert_exporter": "python",
   "pygments_lexer": "ipython3",
   "version": "3.6.4"
  }
 },
 "nbformat": 4,
 "nbformat_minor": 2
}
