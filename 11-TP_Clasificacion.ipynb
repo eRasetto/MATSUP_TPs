{
 "cells": [
  {
   "cell_type": "markdown",
   "metadata": {},
   "source": [
    "# Aprendizaje Automático\n",
    "Machine Learning es el proceso de extraer información a partir del análisis de datos automáticamente, usualmente, con el objetivo de poder realizar predicciones sobre datos no conocidos a priori. \n",
    "Machine Learning esta dividido en de tres grandes grupos de técnicas: \n",
    "\n",
    "* Aprendizaje Supervisado \n",
    "* Aprendizaje No Supervisado\n",
    "* Aprendizaje Por Refuerzo\n",
    "\n",
    "## Aprendizaje Supervisado \n",
    "En este caso, el objetivo es realizar un mapeo a partir de las entradas $x$ hacia la salidas $y$, dado un conjunto de pares de entrada-salida $D=\\{(x_i,y_i)\\}_{i=1}^N$. $D$ es llamado conjunto de entrenamiento y $N$ es el numero de ejemplos que posee el conjunto $D$.\n",
    "Normalmente, las entradas $x$ son vectores de dimensión $d$ (En el caso mas simple $d=1$). Cada una de las variables que componen el vector **x** son llamadas atributos (features en ingles). De manera similar, las salidas $y$ pueden ser vectores de dimensión $m$ (el caso mas simple seria con $m=1$), donde los valores de $y$ pueden ser categóricos o nominales (como femenino o masculino), o pueden ser numéricos. En el primero de los casos decimos que el problema es un problema de Clasificación. En el segundo caso decimos que es un problema de regresión. \n",
    "\n",
    "![superviced_learning](img/11-superviced_learning.png)\n",
    "\n",
    "## Aprendizaje No Supervisado \n",
    "En este caso, solo disponemos de datos de entrada $D=\\{(x_i)\\}_{i=1}^N$ y el objetivo es encontrar patrones interesantes en los datos que nos brinden información relevante. Es tipo de problemas es mucho menos restrictivo que el caso del aprendizaje supervisado, ya que en ningún momento se define que tipos de patrones se buscan en los datos y no hay forma de calcular un error con respecto a un conjunto de pruebas (como es el caso del aprendizaje supervisado) para evaluar si el modelo generado es bueno o malo. Esta área esta fuera del alcance de la materia. \n",
    "\n",
    "![unsuperviced_learning](img/11-unsupervised_learning.png)\n",
    "\n",
    "## Aprendizaje Por Refuerzo \n",
    "En este caso, el modelo generado aprende como comportarse en base a la interacción con el entorno y las respuestas (positivas o negativas) que obtiene del mismo, para tratar de maximizar (o minimizar) alguna función. Esta área esta fuera del alcance de la materia. \n",
    "\n",
    "![reinforcement_learning](img/11-reinforcement_learning.png)\n",
    "\n",
    "---------------------------------------------------------------------"
   ]
  },
  {
   "cell_type": "markdown",
   "metadata": {},
   "source": [
    "![steps_predictive_modeling](img/11-Steps_Predictive_Modelling.jpg)\n",
    "\n",
    "---------------------------------------------------------------------"
   ]
  },
  {
   "cell_type": "markdown",
   "metadata": {},
   "source": [
    "## 1. Get Data (Obtener Datos)\n",
    "Este es el proceso de obtener los datos con los cuales vamos a trabajar, para intentar entrenar un modelo predictivo. Estos datos pueden ser:\n",
    "* Datos climáticos -> Ej. para aprender a predecir si va a llover o no\n",
    "* Imágenes de rostros -> Ej. para aprender a clasificar si una imagen contiene un rostro o no\n",
    "* Imágenes varias (perros, gatos, autos, etc.) -> Ej. para aprender a clasificar que objeto hay en una imagen\n",
    "* Datos de una bolsa de valores -> Ej. para aprender a predecir cuando va a haber un alsa o una baja en la misma\n",
    "\n",
    "En nuestro caso, vamos a trabajar con un dataset llamado *mnist* que contiene números escritos a mano. Con estos, vamos a tratar de generar un predictor que nos diga a que numero corresponde una imagen dada.\n",
    "\n",
    "Como nuestro objetivo es poder predecir la etiqueta correcta de datos no vistos, una vez que obtengo mis datos, tengo que dividirlos en 2 conjuntos\n",
    "\n",
    "![train_test_split](img/11-train_test_split.png)"
   ]
  },
  {
   "cell_type": "code",
   "execution_count": 1,
   "metadata": {},
   "outputs": [],
   "source": [
    "import matplotlib.pyplot as plt\n",
    "import numpy as np\n",
    "%matplotlib inline\n",
    "import matplotlib\n",
    "matplotlib.rcParams['figure.figsize'] = 15, 8\n",
    "import warnings\n",
    "warnings.simplefilter('ignore')\n",
    "\n",
    "# visualización de las primeras n imágenes en formato mnist (imágenes vectorizadas de 28x28)\n",
    "def visu_mnist(X, n=10):    \n",
    "    visu = [X[i].reshape((28,28)) for i in range(n)]\n",
    "    visu = np.vstack([np.hstack(visu[:n//2]), np.hstack(visu[n//2:])])\n",
    "    visu = (visu - visu.min()) / (visu.max() - visu.min())\n",
    "    plt.imshow(visu, cmap='gray')"
   ]
  },
  {
   "cell_type": "code",
   "execution_count": 2,
   "metadata": {},
   "outputs": [
    {
     "name": "stdout",
     "output_type": "stream",
     "text": [
      "56000 train samples with 784 dimensions\n",
      "14000 test samples with 784 dimensions\n"
     ]
    },
    {
     "data": {
      "image/png": "[encoded data removed]",
      "text/plain": [
       "<Figure size 432x288 with 1 Axes>"
      ]
     },
     "metadata": {},
     "output_type": "display_data"
    }
   ],
   "source": [
    "from sklearn.datasets import fetch_mldata\n",
    "# Descargamos el dataset en caso de que no haya sido descargado previamente -> aprox. 56MB\n",
    "# Como alternativa el mismo puede ser descargado manualmente desde \n",
    "# https://drive.google.com/file/d/12E2XQSaVi-pQVCIxEPbgiZtTFo81Fo0K/view?usp=sharing\n",
    "mnist = fetch_mldata('MNIST original', data_home='/home/ezequiel/datasets/')\n",
    "\n",
    "# Dividimos el dataset en un conjunto de entrenamiento (80% de los datos) y test (20% restantes)\n",
    "from sklearn.model_selection import train_test_split\n",
    "X_train, X_test, y_train, y_test = train_test_split(mnist.data, mnist.target, train_size=0.8)\n",
    "print('{} train samples with {} dimensions'.format(X_train.shape[0], X_train.shape[1]))\n",
    "print('{} test samples with {} dimensions'.format(X_test.shape[0], X_test.shape[1]))\n",
    "    \n",
    "visu_mnist(X_train)"
   ]
  },
  {
   "cell_type": "code",
   "execution_count": 3,
   "metadata": {},
   "outputs": [
    {
     "name": "stdout",
     "output_type": "stream",
     "text": [
      "(56000, 784)\n",
      "(56000,)\n",
      "[  0   0   0   0   0   0   0   0   0   0   0   0   0   0   0   0   0   0\n",
      "   0   0   0   0   0   0   0   0   0   0   0   0   0   0   0   0   0   0\n",
      "   0   0   0   0   0   0   0   0   0   0   0   0   0   0   0   0   0   0\n",
      "   0   0   0   0   0   0   0   0   0   0   0   0   0   0   0   0   0   0\n",
      "   0   0   0   0   0   0   0   0   0   0   0   0   0   0   0   0   0   0\n",
      "   0   0   0   0   0   0   0   0   0   0   0   0   0   0   0   0   0   0\n",
      "   0   0   0   0   0   0   0   0   0   0   0   0   0   0   0   0   0   0\n",
      "   0   0   0   0   0   0   0   0   0   0   0   0   0   0   0   0   0   0\n",
      "   0   0   0   0   0   0   0   0   0   0   0   0  91 216 216   0   0   0\n",
      "   0   0   0   0   0   0   0   0   0   0   0   0   0   0   0   0   0   0\n",
      "   0   0   0  28 216 255 254  89   0   0   0   0   0   0   0   0   0   0\n",
      "   0   0   0   0   0   0   0   0   0   0   0   0   0 117 254 254 254  91\n",
      "   0   0   0   0   0   0   0   0   0   0   0   0   0   0   0   0   0   0\n",
      "   0   0   0   0  61 250 254 254 164   7   0   0   0   0   0   0   0   0\n",
      "   0   0   0   0   0   0   0   0   0   0   0   0   0   0  66 254 254 213\n",
      "   9   0   0   0   0   0   0   0   0   0   0   0   0   0   0   0   0   0\n",
      "   0   0   0   0   0   0 180 254 254 208   0   0   0   0   0   0   0   0\n",
      "   0   0   0   0   0   0   0   0   0   0   0   0   0   0   0  62 246 254\n",
      " 254 164   0   0   0   0   0   0   0   0   0   0   0   0   0   0   0   0\n",
      "   0   0   0   0   0   0   0 180 254 254 238  54   0   0   0   0   0   0\n",
      "   0   0   0   0   0   0   0   0   0   0   0   0   0   0   0   0   0 203\n",
      " 254 254 165   0   0   0   0   0   0   0   0   0   0   0   0   0   0   0\n",
      "   0   0   0   0   0   0   0   0  61 243 255 254  71   0   0   0   0   0\n",
      "   0   0   0   0   0   0   0   0   0   0   0   0   0   0   0   0   0   0\n",
      " 177 254 254 210  18   0   0   0   0   0   0   0   0   0   0   0   0   0\n",
      "   0   0   0   0   0   0   0   0   0  18 219 254 254 168   0   0   0   0\n",
      "   0   0   0   0   0   0   0   0   0   0   0   0   0   0   0   0   0   0\n",
      "   0  86 254 254 209  20   0   0   0   0   0   0   0   0   0   0   0   0\n",
      "   0   0   0   0   0   0   0   0   0   0   0  86 254 254 189   0   0   0\n",
      "   0   0   0   0   0   0   0   0   0   0   0   0   0   0   0   0   0   0\n",
      "   0   0  12 175 254 254 105   0   0   0   0   0   0   0   0   0   0   0\n",
      "   0   0   0   0   0   0   0   0   0   0   0   0  93 254 254 254  58   0\n",
      "   0   0   0   0   0   0   0   0   0   0   0   0   0   0   0   0   0   0\n",
      "   0   0   0   0 169 254 254 249  54   0   0   0   0   0   0   0   0   0\n",
      "   0   0   0   0   0   0   0   0   0   0   0   0   0   0 223 254 254 186\n",
      "   3   0   0   0   0   0   0   0   0   0   0   0   0   0   0   0   0   0\n",
      "   0   0   0   0   0   0 149 254 254 249  57   0   0   0   0   0   0   0\n",
      "   0   0   0   0   0   0   0   0   0   0   0   0   0   0   0   0   0 149\n",
      " 254  52   0   0   0   0   0   0   0   0   0   0   0   0   0   0   0   0\n",
      "   0   0   0   0   0   0   0   0   0   0   0   0   0   0   0   0   0   0\n",
      "   0   0   0   0   0   0   0   0   0   0   0   0   0   0   0   0   0   0\n",
      "   0   0   0   0   0   0   0   0   0   0   0   0   0   0   0   0   0   0\n",
      "   0   0   0   0   0   0   0   0   0   0   0   0   0   0   0   0   0   0\n",
      "   0   0   0   0   0   0   0   0   0   0]\n"
     ]
    },
    {
     "data": {
      "text/plain": [
       "<function matplotlib.pyplot.show(*args, **kw)>"
      ]
     },
     "execution_count": 3,
     "metadata": {},
     "output_type": "execute_result"
    },
    {
     "data": {
      "image/png": "[encoded data removed]",
      "text/plain": [
       "<Figure size 432x288 with 1 Axes>"
      ]
     },
     "metadata": {},
     "output_type": "display_data"
    }
   ],
   "source": [
    "# Ejemplo de un punto en el conjunto de entrenamiento\n",
    "print(X_train.shape)\n",
    "print(y_train.shape)\n",
    "\n",
    "print(X_train[0])\n",
    "plt.imshow(X_train[0].reshape((28,28)), cmap='gray')\n",
    "plt.show"
   ]
  },
  {
   "cell_type": "code",
   "execution_count": 4,
   "metadata": {},
   "outputs": [
    {
     "name": "stdout",
     "output_type": "stream",
     "text": [
      "1.0\n"
     ]
    }
   ],
   "source": [
    "print(y_train[0])"
   ]
  },
  {
   "cell_type": "markdown",
   "metadata": {},
   "source": [
    "## 2. Data Preprocessing (Pre-procesamiento de datos)\n",
    "### 2.1 Data Scaling\n",
    "El escalado de conjuntos de datos es un requisito común para muchos estimadores de aprendizaje automático; pueden comportarse mal si las características de los datos individuales no se parecen, más o menos, a los datos distribuidos normalmente: Distribución Normal/Gaussiana con media cero ($\\mu=0$) y varianza unitaria ($\\sigma=1$).\n",
    "\n",
    "En la práctica, a menudo ignoramos la forma de la distribución y simplemente transformamos los datos para centrarlos eliminando el valor medio de cada característica, luego lo escalamos dividiendo las características no constantes por su desviación estándar."
   ]
  },
  {
   "cell_type": "code",
   "execution_count": 5,
   "metadata": {},
   "outputs": [
    {
     "data": {
      "text/plain": [
       "StandardScaler(copy=True, with_mean=True, with_std=True)"
      ]
     },
     "execution_count": 5,
     "metadata": {},
     "output_type": "execute_result"
    }
   ],
   "source": [
    "from sklearn import preprocessing\n",
    "\n",
    "scaler = preprocessing.StandardScaler().fit(X_train)\n",
    "scaler"
   ]
  },
  {
   "cell_type": "code",
   "execution_count": 6,
   "metadata": {},
   "outputs": [],
   "source": [
    "# Media de los datos de Entrenamiento para cada una de las dimensiones\n",
    "#scaler.mean_             "
   ]
  },
  {
   "cell_type": "code",
   "execution_count": 7,
   "metadata": {},
   "outputs": [],
   "source": [
    "# Desviación estandar de los datos de Entrenamiento para cada una de las dimensiones\n",
    "#scaler.scale_"
   ]
  },
  {
   "cell_type": "code",
   "execution_count": 8,
   "metadata": {},
   "outputs": [],
   "source": [
    "# Transformo los datos de entrenamiento (Media=0 y Desviación_Estandar=1)\n",
    "X_train_scaled = scaler.transform(X_train)   "
   ]
  },
  {
   "cell_type": "markdown",
   "metadata": {},
   "source": [
    "### 2.2 Dimentional Reduction (Reducción de dimensionalidad)\n",
    "Un gran problema que surge cuando tratamos de realizar algún tipo de **aprendizaje automático** es la **maldición de la dimensionalidad**, la cual se refiere a los diversos fenómenos que surgen al analizar y organizar datos en espacios de múltiples dimensiones (cientos y miles de dimensiones) que no suceden en el espacio físico descrito generalmente con solo tres dimensiones.\n",
    "\n",
    "Sitio donde hay una buena explicación sobre el tema ([link](http://www.albertolumbreras.net/posts/maldicion-dimensionalidad.html)) \n",
    "\n",
    "El problema con las grandes dimensiones, es que cuanto mas dimensiones hay, todos los puntos quedan concentrados en un espacio muy pequeño. En otras palabras, todos los puntos estarán cerca. Esto se puede visualizar en la siguiente imagen:\n",
    "\n",
    "![betancourt_cubes](img/11-betancourt_cubes.png)\n",
    "\n",
    "Por esta razón, se han investigado técnicas, para poder proyectar datos en un espacio de dimensionalidad $D$ en otro espacio de dimensionalidad menor $M$ tal que $M\\leq D$. Una de las técnicas mas utilizadas realizar esto es el **Análisis de Componentes Principales (PCA)**.\n",
    "\n",
    "#### Principal Component Analysis (PCA)\n",
    "En PCA lo que se busca es encontrar una matriz de proyección $U$ tal que describir un set de datos en términos de nuevas variables, llamadas **componentes**, no correlacionadas. Estos componentes se ordenan por la cantidad de varianza que describen. Permitiendo seleccionar una cantidad $p$ de componentes principales para describir el dataset que explique el conjunto de datos.\n",
    "\n",
    "![pca](img/11-basic_pca.png)\n",
    "\n",
    "##### Algoritmo: \n",
    "\n",
    "Dato el conjunto de datos de entrenamiento $\\{x_1, \\dots, x_n\\}\\mid x_i \\in R^D$\n",
    "* Computar la media $\\bar{x}$ para cada dimensión y la matriz de covarianza $S$\n",
    "$$\\bar{x}=\\frac{1}{N}\\sum_{n=1}^N x_n\\qquad S=\\frac{1}{N}\\sum_{n=1}^N(x_n-\\bar{x})^T(x_n-\\bar{x})$$\n",
    "* Calcular los auto-valores $(\\lambda_i\\mid i\\in D)$ y auto-vectores $(u_i\\mid i\\in D)$ de la matriz de covarianza $S$\n",
    "* Ordenar los auto-vectores $u_i$ de manera decreciente con respecto a sus correspondientes auto-valores $\\lambda_i$.\n",
    "* Crear la matriz $U=(u_1,\\dots,u_M)$ siendo $M\\leq D$\n",
    "\n",
    "Para realizar la proyección un espacio dimensional de menor orden $M$\n",
    "$$x_n^M=U^T(x_n-\\bar{x})$$\n",
    "\n",
    "Para recontruir una aproximación de los datos originales\n",
    "$$\\tilde{x}_n\\approx\\bar{x}+Ux_n^M$$\n",
    "\n",
    "El error cuadratico de reconstrucción es\n",
    "$$\\sum_{n=1}^N(x_n-\\tilde{x}_n)^2=(N-1)\\sum_{j=M+1}^D\\lambda_j$$\n",
    "\n",
    "donde los $\\lambda_j$ son los auto-valores descartados en la proyección.\n",
    "\n",
    "##### ¿Como elegir M?\n",
    "$$\\frac{\\sum_{k=1}^M\\lambda_k}{\\sum_{k=1}^D\\lambda_k}>thresh$$ \n",
    "tal que $(0\\leq thresh \\leq 1)$.\n",
    "\n",
    "El $min(M)$ que satisfaga la ecuación previa explicara el $thresh$ porciento de los datos."
   ]
  },
  {
   "cell_type": "code",
   "execution_count": 9,
   "metadata": {},
   "outputs": [
    {
     "data": {
      "text/plain": [
       "PCA(copy=True, iterated_power='auto', n_components=128, random_state=None,\n",
       "  svd_solver='auto', tol=0.0, whiten=False)"
      ]
     },
     "execution_count": 9,
     "metadata": {},
     "output_type": "execute_result"
    }
   ],
   "source": [
    "# Proyecto los datos escalados con PCA\n",
    "from sklearn.decomposition import PCA\n",
    "pca = PCA(n_components=128)\n",
    "pca.fit(X_train_scaled)"
   ]
  },
  {
   "cell_type": "code",
   "execution_count": 10,
   "metadata": {},
   "outputs": [
    {
     "data": {
      "image/png": "[encoded data removed]",
      "text/plain": [
       "<Figure size 432x288 with 1 Axes>"
      ]
     },
     "metadata": {},
     "output_type": "display_data"
    }
   ],
   "source": [
    "plt.bar(range(pca.explained_variance_ratio_.shape[0]), pca.explained_variance_ratio_)\n",
    "plt.show()\n",
    "#print(pca.explained_variance_ratio_)  "
   ]
  },
  {
   "cell_type": "code",
   "execution_count": 11,
   "metadata": {},
   "outputs": [
    {
     "data": {
      "image/png": "[encoded data removed]",
      "text/plain": [
       "<Figure size 432x288 with 1 Axes>"
      ]
     },
     "metadata": {},
     "output_type": "display_data"
    }
   ],
   "source": [
    "# visualizar las primeras componentes principales (columnas de U)\n",
    "visu_mnist(pca.components_, 20)"
   ]
  },
  {
   "cell_type": "code",
   "execution_count": 12,
   "metadata": {},
   "outputs": [],
   "source": [
    "# Finalmente, transformamos con PCA los datos de entrenamiento\n",
    "X_train_pca = pca.transform(X_train_scaled)"
   ]
  },
  {
   "cell_type": "markdown",
   "metadata": {},
   "source": [
    "## 3. Training Model (Entrenamiento del modelo predictivo)\n",
    "\n",
    "* Nearest Neighbors Classification\n",
    "* K-Means"
   ]
  },
  {
   "cell_type": "markdown",
   "metadata": {},
   "source": [
    "### 3.1 Nearest Neighbors Classification\n",
    "La clasificación basada en vecinos mas cercanos es un tipo de aprendizaje supervisado basado en instancias: no intenta construir un modelo interno general, sino que simplemente almacena instancias de los datos de entrenamiento. La clasificación se calcula a partir de un voto de mayoría simple de los vecinos más cercanos de cada punto. A un punto de consulta se le asigna la clase de datos que tiene la mayor cantidad de representantes dentro de los vecinos más cercanos del punto.\n",
    "\n",
    "Un parámetro que debe ser determinado para esta técnica es la cantidad $k$ de vecinos a tener en cuenta para realizar la votación. La elección óptima del valor $k$ depende en gran medida de los datos: en general, una $k$ más grande suprime los efectos del ruido, pero hace que los límites de la clasificación sean menos distintos. Otro parámetro a determinar es un la función de distancia a utilizar. Normalmente se utiliza como medida de distancia la distancia euclidiana $d_e(p,q)=\\sqrt{\\sum_{n=1}^N (p_n - q_n)^2}$, pero según el problema, otras medidas de distancia pueden ser necesarias."
   ]
  },
  {
   "cell_type": "code",
   "execution_count": 13,
   "metadata": {},
   "outputs": [
    {
     "data": {
      "image/png": "[encoded data removed]",
      "text/plain": [
       "<Figure size 432x288 with 1 Axes>"
      ]
     },
     "metadata": {},
     "output_type": "display_data"
    }
   ],
   "source": [
    "# generar dataset de pruebas (Toy Example)\n",
    "np.random.seed(1234)\n",
    "\n",
    "from sklearn.datasets import make_classification\n",
    "X, Y = make_classification(n_samples=200, n_classes=2, n_features=2, n_informative=2, n_redundant=0, n_clusters_per_class=1)\n",
    "\n",
    "Xtrain, Xtest, ytrain, ytest = train_test_split(X, Y, train_size=0.8)\n",
    "\n",
    "x_pos, x_neg = Xtrain[ytrain > 0], Xtrain[ytrain <= 0]    \n",
    "plt.scatter(x_pos[:, 0], x_pos[:, 1], marker='o', color='r')\n",
    "plt.scatter(x_neg[:, 0], x_neg[:, 1], marker='o', color='b')    \n",
    "plt.grid()    "
   ]
  },
  {
   "cell_type": "code",
   "execution_count": 14,
   "metadata": {},
   "outputs": [
    {
     "data": {
      "image/png": "[encoded data removed]",
      "text/plain": [
       "<Figure size 864x432 with 2 Axes>"
      ]
     },
     "metadata": {},
     "output_type": "display_data"
    }
   ],
   "source": [
    "from sklearn.neighbors import KNeighborsClassifier\n",
    "\n",
    "nbrs = KNeighborsClassifier(n_neighbors=5)\n",
    "nbrs.fit(Xtrain, ytrain)\n",
    "\n",
    "ypredict = nbrs.predict(Xtest)\n",
    "\n",
    "# plots\n",
    "fig, (ax1, ax2) = plt.subplots(1, 2, figsize=(12, 6))\n",
    "\n",
    "x_pos, x_neg = Xtest[ytest > 0], Xtest[ytest <= 0]    \n",
    "ax1.scatter(x_pos[:, 0], x_pos[:, 1], marker='o', color='r')\n",
    "ax1.scatter(x_neg[:, 0], x_neg[:, 1], marker='o', color='b') \n",
    "ax1.grid()\n",
    "ax1.set_title(\"Real\")\n",
    "\n",
    "x_pos, x_neg = Xtest[ypredict > 0], Xtest[ypredict <= 0]    \n",
    "ax2.scatter(x_pos[:, 0], x_pos[:, 1], marker='o', color='r')\n",
    "ax2.scatter(x_neg[:, 0], x_neg[:, 1], marker='o', color='b')  \n",
    "ax2.grid()    \n",
    "ax2.set_title(\"Estimado\")\n",
    "\n",
    "plt.show()"
   ]
  },
  {
   "cell_type": "markdown",
   "metadata": {},
   "source": [
    "### 3.2 K-Means\n",
    "k-means clustering es un algoritmo de aprendizaje no supervisado, que tiene como objetivo dividir $n$ observaciones ($\\{x_1,x_2,\\dots,x_n\\mid x_i\\in \\mathbb{R}^D\\}$) en $k$ clústeres en los que cada observación pertenece al clúster con la media más cercana, que sirve como prototipo del clúster. Un clúster es un conjunto de puntos cercanos entre ellos y alejados de otros puntos. Formalmente cada cluster $k$ construye un prototipo $\\mu_k \\in \\mathbb{R}^D$ y el algoritmo trata de disminuir la medida de distorsión de los clústers $J$\n",
    "\n",
    "$$J=\\sum_{n=1}^N \\sum_{k=1}^K r_{nk}\\parallel x_n-\\mu_k \\parallel^2$$\n",
    "\n",
    "Donde $r_{nk}$ es un arreglo binario siguiendo el esquema de codificación 1-of-K.\n",
    "\n",
    "Para realizar esto (minimizar $J$), se propone un algoritmo iterativo:\n",
    "1. Inicializar $\\mu_k$ \n",
    "2. Minimizar $J$ modificando las asignaciones a los $\\mu_k$ clústers\n",
    "3. Minimizar $J$ modificando los $\\mu_k$ en base a las nuevas asignaciones\n",
    "4. Volver al paso 2 hasta que se alcance un estado de convergencia.\n",
    "\n",
    "![k_means_example](img/11-k_means_example.png)"
   ]
  },
  {
   "cell_type": "code",
   "execution_count": 15,
   "metadata": {},
   "outputs": [
    {
     "data": {
      "image/png": "[encoded data removed]",
      "text/plain": [
       "<Figure size 864x432 with 2 Axes>"
      ]
     },
     "metadata": {},
     "output_type": "display_data"
    }
   ],
   "source": [
    "from sklearn.cluster import KMeans\n",
    "\n",
    "kmeans = KMeans(n_clusters=2)\n",
    "kmeans.fit(Xtrain)\n",
    "\n",
    "ypredict = kmeans.predict(Xtest)\n",
    "\n",
    "# plots\n",
    "fig, (ax1, ax2) = plt.subplots(1, 2, figsize=(12, 6))\n",
    "\n",
    "x_pos, x_neg = Xtest[ytest > 0], Xtest[ytest <= 0]    \n",
    "ax1.scatter(x_pos[:, 0], x_pos[:, 1], marker='o', color='r')\n",
    "ax1.scatter(x_neg[:, 0], x_neg[:, 1], marker='o', color='b') \n",
    "ax1.grid()\n",
    "ax1.set_title(\"Real\")\n",
    "\n",
    "x_pos, x_neg = Xtest[ypredict > 0], Xtest[ypredict <= 0]    \n",
    "ax2.scatter(x_pos[:, 0], x_pos[:, 1], marker='o', color='r')\n",
    "ax2.scatter(x_neg[:, 0], x_neg[:, 1], marker='o', color='b')  \n",
    "ax2.scatter(kmeans.cluster_centers_[:, 0], kmeans.cluster_centers_[:, 1], marker='X', color='g')\n",
    "ax2.grid()    \n",
    "ax2.set_title(\"Estimado\")\n",
    "\n",
    "plt.show()"
   ]
  },
  {
   "cell_type": "markdown",
   "metadata": {},
   "source": [
    "### 3.4 Métricas de performance\n",
    "Cuando se entrena un modelo predictivo, debemos tener algún método para medir que tan fiable es el modelo para predecir. Esto es:\n",
    "\n",
    "![model_metrics](img/11-model_metrics.png)\n",
    "\n",
    "Una de las herramientas mas simples para evaluar el rendimiento de un predictor es **Accuracy Score**:\n",
    "\n",
    "$$accuracy(y,\\hat{y})=\\frac{1}{N}\\sum_{i=1}^N 1(\\hat{y}_i=y_i)$$"
   ]
  },
  {
   "cell_type": "code",
   "execution_count": 16,
   "metadata": {},
   "outputs": [
    {
     "name": "stdout",
     "output_type": "stream",
     "text": [
      "Accuracy KNeighborsClassifier: 0.875\n",
      "Accuracy KMeans: 0.85\n"
     ]
    }
   ],
   "source": [
    "from sklearn.metrics import accuracy_score\n",
    "\n",
    "# Accuracy de KNeighborsClassifier\n",
    "accuracy_nbrs = accuracy_score(ytest, nbrs.predict(Xtest))\n",
    "# Accuracy de KMeans\n",
    "accuracy_kmeans = accuracy_score(ytest, kmeans.predict(Xtest))\n",
    "\n",
    "print('Accuracy KNeighborsClassifier: {}'.format(accuracy_nbrs))\n",
    "print('Accuracy KMeans: {}'.format(accuracy_kmeans))"
   ]
  },
  {
   "cell_type": "markdown",
   "metadata": {},
   "source": [
    "**Aclaración:** En los ejemplos previos se utilizo conjunto de test para evaluar la calidad de los predictores. Pero en situaciones reales, el conjunto de test debe utilizarse solo al final del proceso. "
   ]
  },
  {
   "cell_type": "markdown",
   "metadata": {},
   "source": [
    "### 3.5 Entrenamiento de los modelos con el dataset de números escritos a mano"
   ]
  },
  {
   "cell_type": "code",
   "execution_count": 17,
   "metadata": {},
   "outputs": [
    {
     "name": "stdout",
     "output_type": "stream",
     "text": [
      "0.970857142857\n"
     ]
    }
   ],
   "source": [
    "# Entrenamos KNeighborsClassifier\n",
    "# Utilizando la transformación ortogonal realizada con PCA\n",
    "nbrs = KNeighborsClassifier(n_neighbors=5, n_jobs=-1)\n",
    "nbrs.fit(X_train_pca, y_train)\n",
    "# Accuracy de KNeighborsClassifier sobre el conjunto de entrenamiento\n",
    "accuracy_nbrs = accuracy_score(y_train, nbrs.predict(X_train_pca))\n",
    "print(accuracy_nbrs)"
   ]
  },
  {
   "cell_type": "code",
   "execution_count": 23,
   "metadata": {},
   "outputs": [
    {
     "name": "stdout",
     "output_type": "stream",
     "text": [
      "0.0788928571429\n"
     ]
    }
   ],
   "source": [
    "# Entrenamos KMeans\n",
    "# Utilizando la transformación ortogonal realizada con PCA\n",
    "kmeans = KMeans(n_clusters=10, n_jobs=-1)\n",
    "kmeans.fit(X_train_pca)\n",
    "# Accuracy de KMeans sobre el conjunto de entrenamiento\n",
    "accuracy_kmeans = accuracy_score(y_train, kmeans.predict(X_train_pca))\n",
    "print(accuracy_kmeans)"
   ]
  },
  {
   "cell_type": "markdown",
   "metadata": {},
   "source": [
    "## 4. Test Model (Probar modelo predictivo)\n",
    "Una vez entrenado el modelo predictivo sobre el conjunto de entrenamiento, es necesario evaluar la performance del mismo sobre datos no conocidos. En otras palabras, evaluar la capacidad de generalización de nuestro modelo predictivo. En esta etapa entra en juego el conjunto de prueba (Test).\n",
    "\n",
    "Antes de probar los modelos, debemos aplicar a los datos de test, todo las etapas de pre-procesamiento aplicada a los datos de entrenamiento. En nuestro caso:\n",
    "1. Escalar los datos restándole la media y dividendo por la varianza de cada uno de los features\n",
    "2. Transformar los datos escalados a una menor dimensionalidad con PCA"
   ]
  },
  {
   "cell_type": "code",
   "execution_count": 19,
   "metadata": {},
   "outputs": [],
   "source": [
    "# Transformo los datos de entrenamiento (Media=0 y Desviación_Estandar=1)\n",
    "X_test_scaled = scaler.transform(X_test) \n",
    "X_test_pca = pca.transform(X_test_scaled)"
   ]
  },
  {
   "cell_type": "code",
   "execution_count": 20,
   "metadata": {},
   "outputs": [
    {
     "name": "stdout",
     "output_type": "stream",
     "text": [
      "0.958642857143\n"
     ]
    }
   ],
   "source": [
    "# Accuracy de KNeighborsClassifier sobre el conjunto de entrenamiento\n",
    "# primero transf\n",
    "accuracy_nbrs = accuracy_score(y_test, nbrs.predict(X_test_pca))\n",
    "print(accuracy_nbrs)"
   ]
  },
  {
   "cell_type": "code",
   "execution_count": 24,
   "metadata": {},
   "outputs": [
    {
     "name": "stdout",
     "output_type": "stream",
     "text": [
      "0.0775\n"
     ]
    }
   ],
   "source": [
    "# Accuracy de KMeans sobre el conjunto de entrenamiento\n",
    "accuracy_kmeans = accuracy_score(y_test, kmeans.predict(X_test_pca))\n",
    "print(accuracy_kmeans)"
   ]
  },
  {
   "cell_type": "markdown",
   "metadata": {},
   "source": [
    "## Ejercicios \n",
    "1) Implementar PCA"
   ]
  },
  {
   "cell_type": "code",
   "execution_count": null,
   "metadata": {},
   "outputs": [],
   "source": [
    "def pca_train(X):       \n",
    "    # 1) Implementar PCA mediante descomposición de la matriz de \n",
    "    # covarianza muestral. Utilizar la función np.linalg.eigh\n",
    "    # para una solución numéricamente más estable. Los valores \n",
    "    # a retornar son una matriz con las componentes principales \n",
    "    # como columnas (U) y el vector medio (mean). \n",
    "    # NOTA: las columnas de U tienen que retornar en orden de \n",
    "    # \"importancia\" decreciente \n",
    "    #\n",
    "\n",
    "    \n",
    "    return U, mean\n",
    "\n",
    "def pca_project(X, U, mean, keep_dim=-1):\n",
    "    n_samples, n_dim = X.shape\n",
    "    assert n_dim == len(mean)\n",
    "    if keep_dim < 0:\n",
    "        keep_dim = n_dim\n",
    "\n",
    "    # 2) Implementar la proyección de puntos en X (filas)\n",
    "    # empleando los (U, mean) estimados a partir del conjunto \n",
    "    # de entrenamiento. El parámetro keep_dim es el número de\n",
    "    # componentes a considerar (proyección de n_dim a keep_dim \n",
    "    # dimensiones). Si este valor es menor a 0, la dimensionalidad \n",
    "    # del espacio de salida es la misma que el de entrada.\n",
    "    #X_proj = ...\n",
    "    \n",
    "    return X_proj\n",
    "\n",
    "def pca_restore(X_proj, U, mean):\n",
    "    n_samples, keep_dim = X_proj.shape\n",
    "    return X_proj.dot(U[:, :keep_dim].T) + mean.reshape(1, -1)\n"
   ]
  },
  {
   "cell_type": "markdown",
   "metadata": {},
   "source": [
    "2) Implementar el algoritmo K-Means"
   ]
  },
  {
   "cell_type": "code",
   "execution_count": null,
   "metadata": {},
   "outputs": [],
   "source": [
    "from scipy.spatial.distance import cdist\n",
    "from scipy.spatial.distance import euclidean\n",
    "\n",
    "def k_means(X, k, tol=1e-4, n_iter=50):\n",
    "    # simple random initialization\n",
    "    n_samples, n_dim = X.shape\n",
    "    #centroids = (X.max() - X.min()) * np.random.random((k, n_dim)) + X.min()\n",
    "    centroids = X[np.random.choice(range(X.shape[0]), size=k, replace=False)]\n",
    "    \n",
    "    distortion, prev_distortion = 0., 1e6\n",
    "    for i in range(n_iter):        \n",
    "        # 1) Asignación de muestras a centroides:\n",
    "        # computar una lista (o array) en donde el elemento i-ésimo \n",
    "        # corresponda al índice al cluster al cual debe ser asignada \n",
    "        # la muestra i-ésima de X. Utilizar la función cdist(XA, XB) \n",
    "        # para computar distancias entre dos arreglos XA y XB en donde \n",
    "        # muestras están ordenadas por filas.\n",
    "        #\n",
    "            \n",
    "              \n",
    "        # 2) Actualización de centroides:\n",
    "        # en base a la lista de asignaciones computada en el paso anterior, \n",
    "        # calcular el nuevo valor de cada uno de los centroides. \n",
    "        \n",
    "                \n",
    "        # 3) Error de cuantización\n",
    "        # Computar el error de quantización promedio (error de reemplazar \n",
    "        # cada muestra por su versión cuantizada). El no decrecimiento de \n",
    "        # éste valor será uno de los parámetros que definirán el criterio \n",
    "        # de parada del algoritmo.\n",
    "        #\n",
    "        \n",
    "        \n",
    "        if (prev_distortion - distortion) / (prev_distortion + 2**-23) < tol:\n",
    "            print('done')\n",
    "            break\n",
    "        print('iter={}, avg. error={:.3f}'.format(i+1, distortion)) \n",
    "        prev_distortion = distortion\n",
    "            \n",
    "    return centroids, distortion\n",
    "\n",
    "def k_means_predict(centroids, X):\n",
    "    n_samples, n_dim = X.shape\n",
    "    # Implementar metodo para estimar la pertenencia de un determinado punto X[i] \n",
    "    # a uno de los centroides (clusters) definidos previamente. Utilizar la función cdist(XA, XB) \n",
    "    # para computar distancias entre dos arreglos XA y XB en donde \n",
    "    # muestras están ordenadas por filas.\n",
    "    \n",
    "    #prediction = ...\n",
    "    \n",
    "    return prediction\n",
    "    "
   ]
  },
  {
   "cell_type": "markdown",
   "metadata": {},
   "source": [
    "3) Volver a entrenar un predictor para el dataset **MNIST original** utilizando la implementación propia de PCA y K-Means."
   ]
  }
 ],
 "metadata": {
  "kernelspec": {
   "display_name": "Python 3",
   "language": "python",
   "name": "python3"
  },
  "language_info": {
   "codemirror_mode": {
    "name": "ipython",
    "version": 3
   },
   "file_extension": ".py",
   "mimetype": "text/x-python",
   "name": "python",
   "nbconvert_exporter": "python",
   "pygments_lexer": "ipython3",
   "version": "3.4.3"
  }
 },
 "nbformat": 4,
 "nbformat_minor": 2
}
