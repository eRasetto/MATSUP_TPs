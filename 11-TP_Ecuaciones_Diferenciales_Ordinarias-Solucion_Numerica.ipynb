{
 "cells": [
  {
   "cell_type": "markdown",
   "metadata": {},
   "source": [
    "# Trabajo Práctico N°11 - Ecuaciones Difereciales Ordinarias\n",
    "Una ecuación diferencial ordinaria (comúnmente abreviada \"EDO\") es la ecuación diferencial que relaciona una función desconocida de una variable independiente con sus derivadas. Es decir, una sola variable independiente (a diferencia de las ecuaciones diferenciales parciales que involucran derivadas parciales de varias variables), y una o más de sus derivadas respecto de tal variable.\n",
    "\n",
    "Para resolver numericamente una ecuación diferencial, se puede programar uno de los metodos conocidos para realizar la tarea. A continuacion se define la clase 'OdeSolver' en la cual se implementan dos metodos para resolver ODEs. El primero de ellos, como lo dice su nombre, lo resuelve a traves del metodo de Euler. El segundo, utiliza Runge Kutta de 2do orden."
   ]
  },
  {
   "cell_type": "code",
   "execution_count": 9,
   "metadata": {
    "collapsed": true
   },
   "outputs": [],
   "source": [
    "import numpy as np\n",
    "import sympy as sy\n",
    "import matplotlib.pyplot as plt\n",
    "\n",
    "\n",
    "class OdeSolver:\n",
    "    '''Clase que implementa metodos para la resolución de ecuaciones diferenciales de primer orden.'''\n",
    "\n",
    "    def euler(self, f, x0, y0, h=0.01, n=100):\n",
    "        '''\n",
    "        Resolución de la ecuacion diferencial 'f' con condiciones iniciales X0 y Y0\n",
    "        con el metodo de Euler.\n",
    "        :parameter\n",
    "        ----------\n",
    "        f : Ecuación Diferencial Ordinaria a resolver (Es una función sympy)\n",
    "        x0 : Escalar que representa la condición inicial en el eje x\n",
    "        y0 : Escalar que representa la condición inicial en el eje y\n",
    "        h : Valor fijo para el step (valor por defecto = 0.01)\n",
    "        n : Cantidad de puntos a muestrear para la solución (valor por defecto = 100)\n",
    "\n",
    "        :return\n",
    "        Retornar un array de longitud n con las muestras de la solucion numerica.\n",
    "        '''\n",
    "        rta = np.ndarray([n, 2])\n",
    "        for i in range(n):\n",
    "            rta[i, 0] = x0\n",
    "            rta[i, 1] = y0\n",
    "            F = f.subs('x',x0).subs('y', y0)\n",
    "            F = y0 + h*F\n",
    "            x0 += h\n",
    "            y0 = F\n",
    "        return rta\n",
    "    \n",
    "    def rk2(self, f, x0, y0, h=0.01, n=100):\n",
    "        '''\n",
    "        Resolución de la ecuacion diferencial 'f' con condiciones iniciales X0 y Y0\n",
    "        con el metodo de Runge Kutta de 2do Orden\n",
    "        :parameter\n",
    "        ----------\n",
    "        f : Ecuación Diferencial Ordinaria a resolver (Es una función sympy)\n",
    "        x0 : Escalar que representa la condición inicial en el eje x\n",
    "        y0 : Escalar que representa la condición inicial en el eje y\n",
    "        h : Valor fijo para el step (valor por defecto = 0.01)\n",
    "        n : Cantidad de puntos a muestrear para la solución (valor por defecto = 100)\n",
    "\n",
    "        :return\n",
    "        Retornar un array de longitud n con las muestras de la solucion numerica.\n",
    "        '''\n",
    "        rta = np.ndarray([n, 2])\n",
    "        for i in range(n):\n",
    "            rta[i, 0] = x0\n",
    "            rta[i, 1] = y0\n",
    "            \n",
    "            k1 = f.subs('x', x0).subs('y', y0)\n",
    "            k2 = f.subs('x', x0+h).subs('y', y0+h*k1) \n",
    "            \n",
    "            x0 += h\n",
    "            y0 += h * (k1 + k2)/2\n",
    "        return rta"
   ]
  },
  {
   "cell_type": "markdown",
   "metadata": {},
   "source": [
    "Ejemplo de uso para resolver la funcion: $$y'(x)= 3y(x) - {0.5e^x \\over 2cos(x)}$$ \n",
    "con condiciones iniciales: $$x=0$$ $$y(x)=1.24$$ "
   ]
  },
  {
   "cell_type": "code",
   "execution_count": 10,
   "metadata": {
    "collapsed": false
   },
   "outputs": [
    {
     "name": "stdout",
     "output_type": "stream",
     "text": [
      "Método: Euler\n",
      "[[ 0.00000000e+00  1.24000000e+00]\n",
      " [ 3.00000000e-02  1.28830000e+00]\n",
      " [ 6.00000000e-02  1.33856771e+00]\n",
      " [ 9.00000000e-02  1.39093371e+00]\n",
      " [ 1.20000000e-01  1.44554043e+00]\n",
      " [ 1.50000000e-01  1.50254345e+00]\n",
      " [ 1.80000000e-01  1.56211305e+00]\n",
      " [ 2.10000000e-01  1.62443592e+00]\n",
      " [ 2.40000000e-01  1.68971712e+00]\n",
      " [ 2.70000000e-01  1.75818237e+00]\n",
      " [ 3.00000000e-01  1.83008066e+00]\n",
      " [ 3.30000000e-01  1.90568720e+00]\n",
      " [ 3.60000000e-01  1.98530696e+00]\n",
      " [ 3.90000000e-01  2.06927865e+00]\n",
      " [ 4.20000000e-01  2.15797946e+00]\n",
      " [ 4.50000000e-01  2.25183052e+00]\n",
      " [ 4.80000000e-01  2.35130336e+00]\n",
      " [ 5.10000000e-01  2.45692752e+00]\n",
      " [ 5.40000000e-01  2.56929953e+00]\n",
      " [ 5.70000000e-01  2.68909362e+00]\n",
      " [ 6.00000000e-01  2.81707448e+00]\n",
      " [ 6.30000000e-01  2.95411262e+00]\n",
      " [ 6.60000000e-01  3.10120290e+00]\n",
      " [ 6.90000000e-01  3.25948697e+00]\n",
      " [ 7.20000000e-01  3.43028078e+00]\n",
      " [ 7.50000000e-01  3.61510830e+00]\n",
      " [ 7.80000000e-01  3.81574327e+00]\n",
      " [ 8.10000000e-01  4.03426127e+00]\n",
      " [ 8.40000000e-01  4.27310510e+00]\n",
      " [ 8.70000000e-01  4.53516760e+00]\n",
      " [ 9.00000000e-01  4.82389751e+00]\n",
      " [ 9.30000000e-01  5.14343609e+00]\n",
      " [ 9.60000000e-01  5.49879529e+00]\n",
      " [ 9.90000000e-01  5.89609280e+00]\n",
      " [ 1.02000000e+00  6.34286599e+00]\n",
      " [ 1.05000000e+00  6.84849691e+00]\n",
      " [ 1.08000000e+00  7.42479647e+00]\n",
      " [ 1.11000000e+00  8.08682059e+00]\n",
      " [ 1.14000000e+00  8.85403166e+00]\n",
      " [ 1.17000000e+00  9.75198568e+00]\n",
      " [ 1.20000000e+00  1.08148400e+01]\n",
      " [ 1.23000000e+00  1.20891799e+01]\n",
      " [ 1.26000000e+00  1.36400337e+01]\n",
      " [ 1.29000000e+00  1.55606628e+01]\n",
      " [ 1.32000000e+00  1.79891480e+01]\n",
      " [ 1.35000000e+00  2.11378720e+01]\n",
      " [ 1.38000000e+00  2.53490381e+01]\n",
      " [ 1.41000000e+00  3.12069272e+01]\n",
      " [ 1.44000000e+00  3.97862843e+01]\n",
      " [ 1.47000000e+00  5.32710072e+01]\n",
      " [ 1.50000000e+00  7.67697284e+01]\n",
      " [ 1.53000000e+00  1.25132189e+02]\n",
      " [ 1.56000000e+00  2.62347112e+02]\n",
      " [ 1.59000000e+00  1.35254730e+03]\n",
      " [ 1.62000000e+00 -1.81515862e+03]\n",
      " [ 1.65000000e+00 -1.53635930e+02]\n",
      " [ 1.68000000e+00 -6.57619273e+01]\n",
      " [ 1.71000000e+00 -3.82399732e+01]\n",
      " [ 1.74000000e+00 -2.55393720e+01]\n",
      " [ 1.77000000e+00 -1.84608692e+01]\n",
      " [ 1.80000000e+00 -1.40403540e+01]\n",
      " [ 1.83000000e+00 -1.10597992e+01]\n",
      " [ 1.86000000e+00 -8.93564025e+00]\n",
      " [ 1.89000000e+00 -7.35675136e+00]\n",
      " [ 1.92000000e+00 -6.14360201e+00]\n",
      " [ 1.95000000e+00 -5.18606989e+00]\n",
      " [ 1.98000000e+00 -4.41323598e+00]\n",
      " [ 2.01000000e+00 -3.77757470e+00]\n",
      " [ 2.04000000e+00 -3.24616425e+00]\n",
      " [ 2.07000000e+00 -2.79555014e+00]\n",
      " [ 2.10000000e+00 -2.40861540e+00]\n",
      " [ 2.13000000e+00 -2.07260416e+00]\n",
      " [ 2.16000000e+00 -1.77783442e+00]\n",
      " [ 2.19000000e+00 -1.51683693e+00]\n",
      " [ 2.22000000e+00 -1.28376522e+00]\n",
      " [ 2.25000000e+00 -1.07398284e+00]\n",
      " [ 2.28000000e+00 -8.83769108e-01]\n",
      " [ 2.31000000e+00 -7.10105775e-01]\n",
      " [ 2.34000000e+00 -5.50519902e-01]\n",
      " [ 2.37000000e+00 -4.02966594e-01]\n",
      " [ 2.40000000e+00 -2.65740319e-01]\n",
      " [ 2.43000000e+00 -1.37407062e-01]\n",
      " [ 2.46000000e+00 -1.67518577e-02]\n",
      " [ 2.49000000e+00  9.72621884e-02]\n",
      " [ 2.52000000e+00  2.05526208e-01]\n",
      " [ 2.55000000e+00  3.08811263e-01]\n",
      " [ 2.58000000e+00  4.07788941e-01]\n",
      " [ 2.61000000e+00  5.03048000e-01]\n",
      " [ 2.64000000e+00  5.95107913e-01]\n",
      " [ 2.67000000e+00  6.84429962e-01]\n",
      " [ 2.70000000e+00  7.71426404e-01]\n",
      " [ 2.73000000e+00  8.56468068e-01]\n",
      " [ 2.76000000e+00  9.39890716e-01]\n",
      " [ 2.79000000e+00  1.02200038e+00]\n",
      " [ 2.82000000e+00  1.10307790e+00]\n",
      " [ 2.85000000e+00  1.18338274e+00]\n",
      " [ 2.88000000e+00  1.26315635e+00]\n",
      " [ 2.91000000e+00  1.34262494e+00]\n",
      " [ 2.94000000e+00  1.42200201e+00]\n",
      " [ 2.97000000e+00  1.50149049e+00]]\n",
      "Método: Runge Kutta 2do Orden\n",
      "[[ 0.00000000e+00  1.24000000e+00]\n",
      " [ 3.00000000e-02  1.28928385e+00]\n",
      " [ 6.00000000e-02  1.34064603e+00]\n",
      " [ 9.00000000e-02  1.39422831e+00]\n",
      " [ 1.20000000e-01  1.45018565e+00]\n",
      " [ 1.50000000e-01  1.50868773e+00]\n",
      " [ 1.80000000e-01  1.56992069e+00]\n",
      " [ 2.10000000e-01  1.63408911e+00]\n",
      " [ 2.40000000e-01  1.70141831e+00]\n",
      " [ 2.70000000e-01  1.77215695e+00]\n",
      " [ 3.00000000e-01  1.84658011e+00]\n",
      " [ 3.30000000e-01  1.92499275e+00]\n",
      " [ 3.60000000e-01  2.00773383e+00]\n",
      " [ 3.90000000e-01  2.09518105e+00]\n",
      " [ 4.20000000e-01  2.18775644e+00]\n",
      " [ 4.50000000e-01  2.28593287e+00]\n",
      " [ 4.80000000e-01  2.39024179e+00]\n",
      " [ 5.10000000e-01  2.50128240e+00]\n",
      " [ 5.40000000e-01  2.61973249e+00]\n",
      " [ 5.70000000e-01  2.74636151e+00]\n",
      " [ 6.00000000e-01  2.88204617e+00]\n",
      " [ 6.30000000e-01  3.02778943e+00]\n",
      " [ 6.60000000e-01  3.18474345e+00]\n",
      " [ 6.90000000e-01  3.35423774e+00]\n",
      " [ 7.20000000e-01  3.53781377e+00]\n",
      " [ 7.50000000e-01  3.73726791e+00]\n",
      " [ 7.80000000e-01  3.95470496e+00]\n",
      " [ 8.10000000e-01  4.19260563e+00]\n",
      " [ 8.40000000e-01  4.45391206e+00]\n",
      " [ 8.70000000e-01  4.74213749e+00]\n",
      " [ 9.00000000e-01  5.06150791e+00]\n",
      " [ 9.30000000e-01  5.41714748e+00]\n",
      " [ 9.60000000e-01  5.81532356e+00]\n",
      " [ 9.90000000e-01  6.26377500e+00]\n",
      " [ 1.02000000e+00  6.77215791e+00]\n",
      " [ 1.05000000e+00  7.35266037e+00]\n",
      " [ 1.08000000e+00  8.02086443e+00]\n",
      " [ 1.11000000e+00  8.79697762e+00]\n",
      " [ 1.14000000e+00  9.70762985e+00]\n",
      " [ 1.17000000e+00  1.07885575e+01]\n",
      " [ 1.20000000e+00  1.20887215e+01]\n",
      " [ 1.23000000e+00  1.36768218e+01]\n",
      " [ 1.26000000e+00  1.56519739e+01]\n",
      " [ 1.29000000e+00  1.81619467e+01]\n",
      " [ 1.32000000e+00  2.14358876e+01]\n",
      " [ 1.35000000e+00  2.58466339e+01]\n",
      " [ 1.38000000e+00  3.20383885e+01]\n",
      " [ 1.41000000e+00  4.12138203e+01]\n",
      " [ 1.44000000e+00  5.58637140e+01]\n",
      " [ 1.47000000e+00  8.19643103e+01]\n",
      " [ 1.50000000e+00  1.37518967e+02]\n",
      " [ 1.53000000e+00  3.04464441e+02]\n",
      " [ 1.56000000e+00  1.80321633e+03]\n",
      " [ 1.59000000e+00 -5.35521383e+03]\n",
      " [ 1.62000000e+00 -2.37114269e+03]\n",
      " [ 1.65000000e+00 -1.22865025e+03]\n",
      " [ 1.68000000e+00 -7.69536232e+02]\n",
      " [ 1.71000000e+00 -5.37131195e+02]\n",
      " [ 1.74000000e+00 -4.01303051e+02]\n",
      " [ 1.77000000e+00 -3.14039445e+02]\n",
      " [ 1.80000000e+00 -2.54116511e+02]\n",
      " [ 1.83000000e+00 -2.10888494e+02]\n",
      " [ 1.86000000e+00 -1.78497630e+02]\n",
      " [ 1.89000000e+00 -1.53484864e+02]\n",
      " [ 1.92000000e+00 -1.33690739e+02]\n",
      " [ 1.95000000e+00 -1.17705125e+02]\n",
      " [ 1.98000000e+00 -1.04572400e+02]\n",
      " [ 2.01000000e+00 -9.36244688e+01]\n",
      " [ 2.04000000e+00 -8.43817069e+01]\n",
      " [ 2.07000000e+00 -7.64918330e+01]\n",
      " [ 2.10000000e+00 -6.96908996e+01]\n",
      " [ 2.13000000e+00 -6.37776555e+01]\n",
      " [ 2.16000000e+00 -5.85962585e+01]\n",
      " [ 2.19000000e+00 -5.40243506e+01]\n",
      " [ 2.22000000e+00 -4.99646652e+01]\n",
      " [ 2.25000000e+00 -4.63390108e+01]\n",
      " [ 2.28000000e+00 -4.30838887e+01]\n",
      " [ 2.31000000e+00 -4.01472518e+01]\n",
      " [ 2.34000000e+00 -3.74860765e+01]\n",
      " [ 2.37000000e+00 -3.50645199e+01]\n",
      " [ 2.40000000e+00 -3.28525056e+01]\n",
      " [ 2.43000000e+00 -3.08246274e+01]\n",
      " [ 2.46000000e+00 -2.89592913e+01]\n",
      " [ 2.49000000e+00 -2.72380371e+01]\n",
      " [ 2.52000000e+00 -2.56449987e+01]\n",
      " [ 2.55000000e+00 -2.41664703e+01]\n",
      " [ 2.58000000e+00 -2.27905562e+01]\n",
      " [ 2.61000000e+00 -2.15068855e+01]\n",
      " [ 2.64000000e+00 -2.03063782e+01]\n",
      " [ 2.67000000e+00 -1.91810531e+01]\n",
      " [ 2.70000000e+00 -1.81238675e+01]\n",
      " [ 2.73000000e+00 -1.71285849e+01]\n",
      " [ 2.76000000e+00 -1.61896632e+01]\n",
      " [ 2.79000000e+00 -1.53021609e+01]\n",
      " [ 2.82000000e+00 -1.44616584e+01]\n",
      " [ 2.85000000e+00 -1.36641902e+01]\n",
      " [ 2.88000000e+00 -1.29061877e+01]\n",
      " [ 2.91000000e+00 -1.21844303e+01]\n",
      " [ 2.94000000e+00 -1.14960031e+01]\n",
      " [ 2.97000000e+00 -1.08382604e+01]]\n"
     ]
    },
    {
     "data": {
      "image/png": "[encoded data removed]",
      "text/plain": [
       "<matplotlib.figure.Figure at 0x7f96bd21cda0>"
      ]
     },
     "metadata": {},
     "output_type": "display_data"
    }
   ],
   "source": [
    "import numpy as np\n",
    "import sympy as sy\n",
    "from sympy.functions import cos, exp\n",
    "%matplotlib inline\n",
    "import matplotlib.pyplot as plt\n",
    "\n",
    "plt.rcParams['figure.figsize'] = [10.0, 8.0]\n",
    "\n",
    "solver = OdeSolver()\n",
    "x = sy.Symbol('x')\n",
    "y = sy.Symbol('y')\n",
    "f = (3*y - 0.5*exp(x)) / (2*cos(x))\n",
    "\n",
    "points_euler = solver.euler(f, 0, 1.24, h=0.03)\n",
    "print('Método: Euler')\n",
    "print(points_euler)\n",
    "points_rk2 = solver.rk2(f, 0, 1.24, h=0.03)\n",
    "print('Método: Runge Kutta 2do Orden')\n",
    "print(points_rk2)\n",
    "\n",
    "plt.plot(points_euler[:, 0], points_euler[:, 1], label='Euler')\n",
    "plt.plot(points_rk2[:, 0], points_rk2[:, 1], label='Runge Kutta 2do Orden')\n",
    "\n",
    "plt.grid(True)\n",
    "plt.legend()\n",
    "plt.show()"
   ]
  },
  {
   "cell_type": "markdown",
   "metadata": {},
   "source": [
    "### Ejercicio 1:\n",
    "Modificar la clase OdeSolver incorporando un nuevo mentodo para solucionar una ODE utilizando Runge Kutta de 4to Orden.\n",
    "Evaluar el mismo caso de prueba y comparar graficamente con los metodos anteriores."
   ]
  },
  {
   "cell_type": "markdown",
   "metadata": {},
   "source": [
    "## Resolviendo un sistema de ecuaciones ordinarias\n",
    "Hay problemas que no pueden ser resueltos por una sola ecuación diferencial. Sino que deben ser resuelto por un sistema de $N$ ecuaciones, siendo $N>1$.\n",
    "\n",
    "Consideremos un péndulo de longitud $L$ y masa $m$. Denotamos el ángulo que hace el péndulo con la vertical $\\theta$, de modo que el péndulo está en reposo cuando $\\theta=0$.\n",
    "\n",
    "![pendulum](img/07-pendulum.png)\n",
    "\n",
    "La dinámica del péndulo se rige por la segunda ley de Newton, $\\tau=I\\alpha$. Donde $\\tau$ es el torque alrededor del punto de pivote, $I$ es la inercia rotacional del péndulo y $\\alpha$ es su aceleración angular.\n",
    "Realizando las siguientes sustituciones:\n",
    "* Reemplazamos $\\alpha$ por $\\theta^{''}$. La aceleración es la segunda derivada de la posición.\n",
    "* Reemplazamos $I$ por $mL^2$. Esto es la inersia rotacional de un punto de masa $m$ a una distancia $L$ del punto pivot.\n",
    "* Reemplazamos $\\tau$ por $-Lmg\\;sin(\\theta)$. El torque generado por una fuerza depende de la distancia entre el punto pivot y donde la fuerzas actuan, osea $L$, y la componente de la fuerza perpendicular a la línea que une el pivote y la masa $mg sin(\\theta)$. El signo negativo es porque la gravedad actua como una fuerza opuesta a la posicion del pendulo: Cuando $\\theta$ es positivo, la gravedad actua en dirección negativa y vice versa.\n",
    "\n",
    "Luegos de las sustituciones, obtenemos:\n",
    "\n",
    "$$-mg\\;sin(\\theta)L=mL^2\\theta^{''}$$\n",
    "\n",
    "Canselamos $mL$ en ambos lados y reagrupando:\n",
    "\n",
    "$$\\theta^{''}=-{g\\over L}\\;sin(\\theta)$$\n",
    "\n",
    "A continuación, añadimos amortiguación por fricción al modelo. Hacemos la hipótesis más simple posible sobre la fuerza de amortiguación, por lo que es proporcional a la velocidad. Dado que la longitud del arco y el ángulo central son proporcionales (con la constante de proporcionalidad L), no hace ninguna diferencia si usamos la velocidad lineal o angular. Habiendo seleccionado theta como nuestra variable dependiente, representaremos el amortiguamiento como proporcional a la velocidad angular, digamos, $-b\\theta^{'}$. El signo negativo es porque la fuerza de amortiguación tiene que ser opuesta a la dirección del movimiento. Cuando incluimos este término en el modelo, nuestra ecuación se convierte en:\n",
    "\n",
    "$$\\theta^{''}=-b\\theta^{'}-{g\\over L}\\;sin(\\theta)$$\n",
    "\n",
    "Definiendo ${g\\over L}=c$, reemplazando y reagrupando nuestro modelo del lado izquierdo:\n",
    "\n",
    "$$\\theta^{''}+b\\theta^{'}+c\\;sin(\\theta)=0$$"
   ]
  },
  {
   "cell_type": "markdown",
   "metadata": {},
   "source": [
    "### Scipy para resolución de sistemas de ecuaciones diferenciales ordinarias\n",
    "Scipy tiene implementanda una función para resolusión de sistemas de ecuaciones ordinarias de primer orden llamada [odeint]('https://docs.scipy.org/doc/scipy/reference/generated/scipy.integrate.odeint.html#scipy.integrate.odeint'). \n",
    "Como nuestra ecuación diferencial es de segundo orden, primero debemos convertirla en un sistema de 2 ecuaciones diferenciales de primer orden. De esta forma nuestro sistema quedaria asi:\n",
    "\n",
    "$\\theta^{'}(t) = \\omega(t)$\n",
    "\n",
    "$\\omega^{'}(t)=b\\omega(t)+c\\;sin(\\theta)$\n",
    "\n",
    "Siendo $y$ el vector $[\\theta,\\omega]$. Implementamos el sistema de ecuaciones diferenciales de primer orden en Python como:"
   ]
  },
  {
   "cell_type": "code",
   "execution_count": 3,
   "metadata": {
    "collapsed": true
   },
   "outputs": [],
   "source": [
    "def pend(y, t, b, c):\n",
    "    theta, omega = y\n",
    "    dydt = [omega, -b*omega - c*np.sin(theta)]\n",
    "    return dydt"
   ]
  },
  {
   "cell_type": "markdown",
   "metadata": {},
   "source": [
    "Asumimos que las constantes son $b=0.25$ y $c=5.0$:"
   ]
  },
  {
   "cell_type": "code",
   "execution_count": 4,
   "metadata": {
    "collapsed": true
   },
   "outputs": [],
   "source": [
    "b = 0.25\n",
    "c = 5.0"
   ]
  },
  {
   "cell_type": "markdown",
   "metadata": {},
   "source": [
    "Para las condiciones iniciales, asumimos que el pendulo se encuentra casi vertical con $\\theta(0)=\\pi-0.1$, y que el mismo se encuentra inicialmente en reposo, por lo tanto, $\\omega(0)=0$:"
   ]
  },
  {
   "cell_type": "code",
   "execution_count": 5,
   "metadata": {
    "collapsed": true
   },
   "outputs": [],
   "source": [
    "y0 = [np.pi - 0.1, 0.0]"
   ]
  },
  {
   "cell_type": "markdown",
   "metadata": {},
   "source": [
    "Vamos a generar una solución de 300 muestras equidistantes en el intervalo $0<=t<=30$, por lo tanto nuestro arrat $t$ es:"
   ]
  },
  {
   "cell_type": "code",
   "execution_count": 6,
   "metadata": {
    "collapsed": true
   },
   "outputs": [],
   "source": [
    "t = np.linspace(0, 30, 300)"
   ]
  },
  {
   "cell_type": "markdown",
   "metadata": {},
   "source": [
    "Llamamos a la función odeint para generar la solucion. Para pasar los parametros $b$ y $c$ a la función usamos el parametro 'args'."
   ]
  },
  {
   "cell_type": "code",
   "execution_count": 7,
   "metadata": {
    "collapsed": true
   },
   "outputs": [],
   "source": [
    "from scipy.integrate import odeint\n",
    "sol = odeint(pend, y0, t, args=(b, c))"
   ]
  },
  {
   "cell_type": "markdown",
   "metadata": {},
   "source": [
    "La solución es un array con shape (300, 2). La primera columna es $\\theta(t)$, la segunda es $\\omega(t)$. En el siguiente código realizamos el plot de la solución encontrada:"
   ]
  },
  {
   "cell_type": "code",
   "execution_count": 8,
   "metadata": {
    "collapsed": false
   },
   "outputs": [
    {
     "data": {
      "image/png": "[encoded data removed]",
      "text/plain": [
       "<matplotlib.figure.Figure at 0x7f96ac431b70>"
      ]
     },
     "metadata": {},
     "output_type": "display_data"
    }
   ],
   "source": [
    "import matplotlib.pyplot as plt\n",
    "plt.plot(t, sol[:, 0], 'b', label='theta(t)')\n",
    "plt.plot(t, sol[:, 1], 'g', label='omega(t)')\n",
    "plt.legend(loc='best')\n",
    "plt.xlabel('t')\n",
    "plt.grid()\n",
    "plt.show()"
   ]
  },
  {
   "cell_type": "markdown",
   "metadata": {},
   "source": [
    "### Ejercicio 2\n",
    "1. Buscar una ecuacion diferencial ordinaria basado en un modelo real. \n",
    "2. Publicar en el foro del curso, creado para tal fin, el modelo elegido con una breve descripción y un el nombre de los integrantes del grupo.\n",
    "3. Transformar, si es necesario, la ecuacion diferencial en un sistema de ecuaciones de primer orden.\n",
    "4. Resolver el sistema utilizando [odeint]('https://docs.scipy.org/doc/scipy/reference/generated/scipy.integrate.odeint.html#scipy.integrate.odeint'). \n",
    "5. Graficar los resultados.\n",
    "\n",
    "**Aclaración:** No se pueden repetir los modelos elegidos entre los grupos. En el caso de que dos grupos elijan el mismo modelo, tendra prioridad el grupo que realizo el post primero en el foro. El segundo grupo debera buscar otro nuevo. "
   ]
  }
 ],
 "metadata": {
  "kernelspec": {
   "display_name": "Python 3",
   "language": "python",
   "name": "python3"
  },
  "language_info": {
   "codemirror_mode": {
    "name": "ipython",
    "version": 3
   },
   "file_extension": ".py",
   "mimetype": "text/x-python",
   "name": "python",
   "nbconvert_exporter": "python",
   "pygments_lexer": "ipython3",
   "version": "3.7.2"
  }
 },
 "nbformat": 4,
 "nbformat_minor": 2
}
