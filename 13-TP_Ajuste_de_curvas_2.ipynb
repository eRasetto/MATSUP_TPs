{
 "cells": [
  {
   "cell_type": "markdown",
   "metadata": {},
   "source": [
    "# Trabajo Práctico N°13 - Logistic Regression\n",
    "Supongamos que quisieramos implementar un modelo para clasificar objetos de dos clases basado en probabilidades. Esto es:\n",
    "\n",
    "$$0\\leq p(clase) \\leq 1$$\n",
    "\n",
    "$$p(clase)+p(\\neg clase) = 1$$\n",
    "\n",
    "Si quieramos utilizar un modelo lineal nos encontrariamos con la siguiente situación:\n",
    "\n",
    "![classification_linear_fit](img/classification_linear_fit.png)\n",
    "\n",
    "Si analizamos graficamente la función de costo cuadratica:\n",
    "\n",
    "![classification_quadratic_loss](img/classification_quadratic_loss.png)\n",
    "\n",
    "Podemos ver que la funcion de costo asigna un peso muy grande a los elementos del dataset que estan mas alegajos de la frontera de deción, situación no deseable para un clasificador binario. Ademas, la siguiente condición, no se cumple:\n",
    "\n",
    "$$p(clase)+p(\\neg clase) = 1$$\n",
    "\n",
    "## Regresión Logistica (Logistic Regression)\n",
    "\n",
    "![logistic_regression](img/logistic_regression.png)\n",
    "\n",
    "Función de costo:\n",
    "\n",
    "$$\\ell(\\theta)=-\\sum_{i=1}^n[y_i\\;log\\;h_{\\theta}(x_i)+(1-y_i)\\;log\\;(1-h_{\\theta(x_i)})]$$\n",
    "\n"
   ]
  }
 ],
 "metadata": {
  "kernelspec": {
   "display_name": "Python 3",
   "language": "python",
   "name": "python3"
  },
  "language_info": {
   "codemirror_mode": {
    "name": "ipython",
    "version": 3
   },
   "file_extension": ".py",
   "mimetype": "text/x-python",
   "name": "python",
   "nbconvert_exporter": "python",
   "pygments_lexer": "ipython3",
   "version": "3.7.2"
  }
 },
 "nbformat": 4,
 "nbformat_minor": 2
}
