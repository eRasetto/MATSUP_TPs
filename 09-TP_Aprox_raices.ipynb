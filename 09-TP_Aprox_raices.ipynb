{
 "cells": [
  {
   "cell_type": "markdown",
   "metadata": {},
   "source": [
    "# Trabajo Práctico N°09 - Aproximación de Raices en ecuaciones no lineales\n",
    "Al momento de hablar de aproximación de raices, lo que se busca, es encontrar puntos aproximados de una función donde la variable dependiente de la misma, toma cero como valor. Esto es $f(x,\\theta)=0$, donde $x={x_0, x_1, \\dots, x_d}$ y $\\theta={\\theta_0, \\theta_1, \\dots, \\theta_d}$.\n",
    "\n",
    "Para encontrar raíces utilizando cualquiera de los métodos disponibles, lo primero que hay que hacer, es graficar la función en cuestión para poder determinar, si es posible, visualmente en que intervalo donde acotar la búsqueda. \n",
    "\n",
    "Por ejemplo, teniendo:\n",
    "\n",
    "$f(x)=-26+85x-91x^2 +44x^3 -8x^4 + x^5$"
   ]
  },
  {
   "cell_type": "code",
   "execution_count": 2,
   "metadata": {
    "collapsed": false
   },
   "outputs": [
    {
     "data": {
      "image/png": "[encoded data removed]",
      "text/plain": [
       "<Figure size 720x576 with 1 Axes>"
      ]
     },
     "metadata": {
      "needs_background": "light"
     },
     "output_type": "display_data"
    }
   ],
   "source": [
    "import numpy as np\n",
    "import matplotlib.pyplot as plt\n",
    "\n",
    "#Se cambia el tamaño por defecto de los plots\n",
    "plt.rcParams['figure.figsize'] = [10.0, 8.0]\n",
    "\n",
    "#Limites del grafico\n",
    "x_lims = [-50,50]\n",
    "#Puntos a evaluar\n",
    "x = np.linspace(x_lims[0],x_lims[1],800)\n",
    "y = -26+85*x-91*x**2+44*x**3-8*x**4+x**5\n",
    "\n",
    "plt.plot(x,y, label='f(x)')\n",
    "plt.grid()\n",
    "plt.show()"
   ]
  },
  {
   "cell_type": "markdown",
   "metadata": {},
   "source": [
    "## Bisección\n",
    "Ahora que visualmente podemos determinar un intervalo donde con seguridad podemos encontrar una raíz. Realizamos una pequeña implementación del método de bisección. Este es uno de los métodos más sencillos y de fácil intuición para resolver ecuaciones en una variable. Se basa en el  [teorema del valor intermedio (TVI)](https://es.wikipedia.org/wiki/Teorema_del_valor_intermedio), el cual establece que toda función continua f en un intervalo cerrado $[a,b]$ toma todos los valores que se hallan entre $f(a)$ y $f(b)$. Esto es, todo valor entre $f(a)$ y $f(b)$ es la imagen de al menos un valor en el intervalo $[a,b]$. En caso de que $f(a)$ y $f(b)$ tengan signos opuestos, el valor cero sería un valor intermedio entre $f(a)$ y $f(b)$, por lo que con certeza existe un $p$ en $[a,b]$ que cumple $f(p)=0$. De esta forma, se asegura la existencia de al menos una solución de la ecuación $f(x)=0$.\n",
    "\n",
    "El método consiste en lo siguiente:\n",
    "* Debe existir seguridad sobre la continuidad de la función $f(x)$ en el intervalo $[a,b]$.\n",
    "* A continuación se verifica que $f(a)\\cdot f(b)<0$. \n",
    "* Se calcula el punto medio $m$ del intervalo $[a,b]$ y se evalúa $f(m)$ si ese valor es igual a cero, ya hemos encontrado la raíz buscada\n",
    "* En caso de que no lo sea, verificamos si $f(m)$ tiene signo opuesto con $f(a)$ o con $f(b)$\n",
    "* Se redefine el intervalo $[a, b]$ como $[a, m]$ ó $[m, b]$ según se haya determinado en cuál de estos intervalos ocurre un cambio de signo\n",
    "* Con este nuevo intervalo se continúa sucesivamente encerrando la solución en un intervalo cada vez más pequeño, hasta alcanzar la precisión deseada\n",
    "\n",
    "En la siguiente figura se ilustra el procedimiento descrito.\n",
    "\n",
    "![bisection_iteration](img/bisection_iteration.gif)\n",
    "\n",
    "El método de bisección es menos eficiente que el método de Newton-Raphson, pero es mucho más seguro para garantizar la convergencia. Si f es una función continua en el intervalo [a, b] y f(a)f(b) < 0, entonces este método converge a la raíz de f.\n",
    "\n",
    "Seudo código del método:\n",
    "\n",
    "![algorithm_bisection](img/algorithm_bisection.png)\n",
    "\n",
    "## Ejercicio 1: Implementar método de bisección"
   ]
  },
  {
   "cell_type": "code",
   "execution_count": 5,
   "metadata": {
    "collapsed": false
   },
   "outputs": [],
   "source": [
    "#Función utilizada para determinar si dos puntos tienen el mismo signo\n",
    "def samesign(a, b):\n",
    "    return a * b > 0\n",
    "    \n",
    "#Función que realiza la busqueda de la raiz por bisección en el rango de x [low,high]   \n",
    "def bisect(func, low, high):    \n",
    "    assert not samesign(func(low), func(high))\n",
    "    \n",
    "    midpoint = 0\n",
    "    ## TODO implementar método de bisección\n",
    "\n",
    "    return midpoint    \n",
    "\n",
    "def f(x):\n",
    "    return -26 + 85*x - 91*x**2 +44*x**3 -8*x**4 + x**5\n",
    "\n",
    "\n",
    "%time x = bisect(f, 0, 1)\n",
    "print(x, f(x))"
   ]
  },
  {
   "cell_type": "markdown",
   "metadata": {},
   "source": [
    "## Regula Falsi (Secante)\n",
    "Este es un método iterativo que une dos puntos en una línea recta que es secante de una función. La intersección de la línea recta con el eje x representa la mejor estimación de la raíz para la iteración actual.\n",
    "\n",
    "Como en el método de bisección, se parte de un intervalo inicial $[a_0,b_0]$ con $f(a_0)$ y $f(b_0)$ de signos opuestos, lo que garantiza que en su interior hay al menos una raíz. El algoritmo va obteniendo sucesivamente en cada paso un intervalo más pequeño $[a_k, b_k]$ que sigue incluyendo una raíz de la función $f$. \n",
    "\n",
    "A partir de un intervalo $[a_k, b_k]$ se calcula un punto interior $c_k$:\n",
    "\n",
    "$$c_k=\\frac{f(b_k)a_k-f(a_k)b_k}{f(b_k)-f(a_k)}$$\n",
    "\n",
    "Dicho punto es la intersección de la recta que pasa por $[a,f(a_k)]$ y $[b,f(b_k)]$ con el eje de abscisas (igual a como se hace en el método de la secante). \n",
    "\n",
    "Se evalúa entonces $f(c_k)$. Si es suficientemente pequeño, $c_k$ es la raíz buscada. Si no, el próximo intervalo $[a_{k+1}, b_{k+1}]$ será:\n",
    "\n",
    "1) $[a_k, c_k]$ si $f(a_k)$ y $f(c_k)$ tienen signos opuestos;\n",
    "\n",
    "2) $[c_k, b_k]$ en caso contrario.\n",
    "\n",
    "![iteration_rf](img/regula_falsi_iteration.gif)\n",
    "\n",
    "## Ejercicio 2: Implementar método de Regula Falsi"
   ]
  },
  {
   "cell_type": "code",
   "execution_count": null,
   "metadata": {},
   "outputs": [],
   "source": [
    "#Función que realiza la busqueda de la raiz por regula falsi en el rango de x [low,high]   \n",
    "def regula_falsi(func, low, high):    \n",
    "    assert not samesign(func(low), func(high))\n",
    "    \n",
    "    midpoint = 0\n",
    "    ## TODO implementar método de regula falsi\n",
    "\n",
    "    return midpoint    \n",
    "\n",
    "def f(x):\n",
    "    return -26 + 85*x - 91*x**2 +44*x**3 -8*x**4 + x**5\n",
    "\n",
    "\n",
    "%time x = regula_falsi(f, 0, 1)\n",
    "print(x, f(x))"
   ]
  },
  {
   "cell_type": "markdown",
   "metadata": {},
   "source": [
    "## Newton-Raphson\n",
    "El método de Newton-Raphson es un algoritmo para encontrar aproximaciones de los ceros o raíces de una función real. También puede ser usado para encontrar el máximo o mínimo de una función, encontrando los ceros de su primera derivada. En este ultimo caso, estariamos hablando de un caso de optimización.\n",
    "\n",
    "El método de Newton-Raphson es un método abierto, ya que, no busca las raices en un intervalo cerrado como en los métodos vistos previamente. Esto implica que no está garantizada su convergencia global. La única manera de alcanzar la convergencia es seleccionar un valor inicial lo suficientemente cercano a la raíz buscada. Así, se ha de comenzar la iteración con un valor razonablemente cercano al cero (denominado punto de arranque o valor supuesto). La relativa cercanía del punto inicial a la raíz depende mucho de la naturaleza de la propia función; si ésta presenta múltiples puntos de inflexión o pendientes grandes en el entorno de la raíz, entonces las probabilidades de que el algoritmo diverja aumentan, lo cual exige seleccionar un valor supuesto cercano a la raíz. Una vez que se ha hecho esto, el método linealiza la función por la recta tangente en ese valor supuesto. La abscisa en el origen de dicha recta será, según el método, una mejor aproximación de la raíz que el valor anterior. Se realizarán sucesivas iteraciones hasta que el método haya convergido lo suficiente. Este método garantiza la convergencia en el caso de funciones convexas. \n",
    "\n",
    "![convex](img/convex_func.png)\n",
    "\n",
    "## Ejercicio 3: Implementar método de Newton-Raphson\n",
    "\n",
    "Sea $f:[a, b]\\to R$ función derivable definida en el intervalo real $[a, b]$. Empezamos con un valor inicial $x_0$ y definimos para cada número natural $n$:\n",
    "\n",
    "$$x_{n+1}=x_{n}-\\frac{f(x_n)}{f'(x_n)}$$\n",
    "\n",
    "Donde $f'$ denota la derivada de $f$.\n",
    "\n",
    "Nótese que el método descrito es de aplicación exclusiva para funciones de una sola variable con forma analítica o implícita conocible. Existen variantes del método aplicables a sistemas discretos que permiten estimar las raíces de la tendencia, así como algoritmos que extienden el método de Newton a sistemas multivariables, sistemas de ecuaciones, etcétera.\n",
    "\n",
    "![iteration_nr](img/newton_iteration.gif)"
   ]
  },
  {
   "cell_type": "code",
   "execution_count": null,
   "metadata": {
    "collapsed": false
   },
   "outputs": [],
   "source": [
    "# Importamos las librerias necesarias\n",
    "import sys\n",
    "import sympy as sy\n",
    "\n",
    "def newt(x, fx, x0, precision=0.001):\n",
    "    '''Funcion que busca las raices de fx utilizando el metodo de newton-raphson\n",
    "        x -> variable\n",
    "        fx -> función\n",
    "        x0 -> punto inicial\n",
    "        precision -> precisión deseada\n",
    "        Retorna\n",
    "        r -> Raiz aproximada\n",
    "        iterations -> Iteraciones para encontrar la raiz\n",
    "        e -> error = abs((r - x0) / r)\n",
    "    '''\n",
    "    # Error inicial\n",
    "    e = np.inf\n",
    "    iterations = 0\n",
    "    #dfdx = ...\n",
    "\n",
    "    ## TODO implementar newton-raphson\n",
    "    \n",
    "    return dfdx, r, iterations, e\n",
    "\n",
    "# Definimos la variable y la función a aproximar\n",
    "x = sy.Symbol('x')\n",
    "fx = -26 + 85 * x - 91 * x ** 2 + 44 * x ** 3 - 8 * x ** 4 + x ** 5\n",
    "\n",
    "dfdx, r, iterations, e = newt(x, fx, 10, 0.001)\n",
    "print('f(x)=', fx)\n",
    "print(\"f'(x)=\", dfdx)\n",
    "print('Raiz ', r, ' calculado despues de ', iterations, ' iteraciones')\n",
    "print('Error ', e)"
   ]
  }
 ],
 "metadata": {
  "kernelspec": {
   "display_name": "Python 3",
   "language": "python",
   "name": "python3"
  },
  "language_info": {
   "codemirror_mode": {
    "name": "ipython",
    "version": 3
   },
   "file_extension": ".py",
   "mimetype": "text/x-python",
   "name": "python",
   "nbconvert_exporter": "python",
   "pygments_lexer": "ipython3",
   "version": "3.7.2"
  }
 },
 "nbformat": 4,
 "nbformat_minor": 2
}
