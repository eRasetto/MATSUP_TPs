{
 "cells": [
  {
   "cell_type": "markdown",
   "metadata": {},
   "source": [
    "El sub-paquete 'scipy.integrate' provee métodos para realizar varias técnicas de integración numérica. Para realizar una visión general del modulo se puede utilizar el comando 'help' que provee scipy: help(integrate)"
   ]
  },
  {
   "cell_type": "markdown",
   "metadata": {},
   "source": [
    "## Integración General \n",
    "La función [quad](https://docs.scipy.org/doc/scipy/reference/generated/scipy.integrate.quad.html#scipy.integrate.quad) provista por scipy sirve para integrar funciones de una sola variable entre dos puntos. Los puntos pueden ser $\\pm\\infty$ para indicar limistes infinitos de integración. Como ejemplo, supongamos que deseamos integrar la funcion de [bessel](https://en.wikipedia.org/wiki/Bessel_function) jv(2.5, x) a lo largo del intervalo [0,4.5].\n",
    "\n",
    "$$I=\\int_0^{4.5}J_{2.5}(x)\\;dx$$\n",
    "\n",
    "Esto también puede ser computado usando quad:"
   ]
  },
  {
   "cell_type": "code",
   "execution_count": 5,
   "metadata": {
    "collapsed": false
   },
   "outputs": [
    {
     "data": {
      "text/plain": [
       "(1.1178179380783253, 7.866317182537226e-09)"
      ]
     },
     "execution_count": 5,
     "metadata": {},
     "output_type": "execute_result"
    }
   ],
   "source": [
    "import scipy.integrate as integrate\n",
    "import scipy.special as special\n",
    "\n",
    "result = integrate.quad(lambda x: special.jv(2.5,x), 0, 4.5)\n",
    "result"
   ]
  },
  {
   "cell_type": "markdown",
   "metadata": {},
   "source": [
    "El primer argumento de la función quad es objeto Python 'invocable' (Por ejemplo una función, método o una instancia de clase). A tener en cuenta el uso de una función lambda para pasar el objeto invocable a la función 'quad'. Los siguientes dos argumentos, son los limites de integración. El valor de retorno es una tupla, donde el primer elemento es el valor de la estimación  y el segundo elemento es el error de integración. \n",
    "\n",
    "Si la función a integrar requiere parámetros adicionales, ellos pueden ser provistos en el argumento 'args'. Supongamos que queremos calcular la siguiente integral: \n",
    "\n",
    "$$I(a,b)=\\int_0^{1}ax^2+b\\;dx$$"
   ]
  },
  {
   "cell_type": "code",
   "execution_count": 8,
   "metadata": {
    "collapsed": false
   },
   "outputs": [
    {
     "data": {
      "text/plain": [
       "(1.6666666666666667, 1.8503717077085944e-14)"
      ]
     },
     "execution_count": 8,
     "metadata": {},
     "output_type": "execute_result"
    }
   ],
   "source": [
    "from scipy.integrate import quad\n",
    "\n",
    "def integrand(x, a, b):\n",
    "    return a*x**2 + b\n",
    "\n",
    "a = 2\n",
    "b = 1\n",
    "I = quad(integrand, 0, 1, args=(a,b))\n",
    "I"
   ]
  },
  {
   "cell_type": "markdown",
   "metadata": {},
   "source": [
    "Entradas infinitas también son permitidas en quad utilizando $\\pm$ \"inf\" como uno de los argumentos. Por ejemplo, supongamos que se quiere calcular el valor numérico para la integral exponencial: \n",
    "\n",
    "$$E_n(x)=\\int_1^\\infty {{\\exp^{-xt}}\\over{t^n}}\\;dt$$"
   ]
  },
  {
   "cell_type": "code",
   "execution_count": 9,
   "metadata": {
    "collapsed": false
   },
   "outputs": [
    {
     "data": {
      "text/plain": [
       "array([ 0.10969197,  0.05673949,  0.03013338,  0.01629537,  0.00893065,\n",
       "        0.00494538])"
      ]
     },
     "execution_count": 9,
     "metadata": {},
     "output_type": "execute_result"
    }
   ],
   "source": [
    "import numpy as np\n",
    "from scipy.integrate import quad\n",
    "\n",
    "def integrand(t, n, x):\n",
    "    return np.exp(-x*t) / t**n\n",
    "\n",
    "def expint(n, x):\n",
    "    return quad(integrand, 1, np.inf, args=(n, x))[0]\n",
    "\n",
    "# vectorizo la función para que esta pueda recibir un array de puntos como argumento \n",
    "vec_expint = np.vectorize(expint)\n",
    "\n",
    "# Genero un array desde 1 a 4 con un step de 0.5 y paso el mismo a la función vectorizada \n",
    "vec_expint(3, np.arange(1.0, 4.0, 0.5))"
   ]
  },
  {
   "cell_type": "markdown",
   "metadata": {},
   "source": [
    "## Integración Múltiple General \n",
    "La mecánica para la integración doble y triple de scipy, esta embebida en las funciones [dblquad](https://docs.scipy.org/doc/scipy/reference/generated/scipy.integrate.dblquad.html#scipy.integrate.dblquad) y [tplquad](https://docs.scipy.org/doc/scipy/reference/generated/scipy.integrate.tplquad.html#scipy.integrate.tplquad). Estas funciones, toman la función a integrar y 4 o 6 argumentos respectivamente. Los limites para las integrales internas, tienen que ser definidas como funciones. \n",
    "\n",
    "Ejemplo:\n",
    "\n",
    "$$I(n)=\\int_{t=0}^1 \\int_{x=-\\infty}^{+\\infty}{e^{-xt}\\over t^n}\\;dx\\;dt$$"
   ]
  },
  {
   "cell_type": "code",
   "execution_count": 10,
   "metadata": {
    "collapsed": true
   },
   "outputs": [],
   "source": [
    "from scipy.integrate import quad, dblquad\n",
    "def I(n):\n",
    "    return dblquad(lambda t, x: np.exp(-x*t)/t**n, 0, np.inf, lambda x: 1, lambda x: np.inf)"
   ]
  },
  {
   "cell_type": "code",
   "execution_count": 11,
   "metadata": {
    "collapsed": false
   },
   "outputs": [
    {
     "name": "stdout",
     "output_type": "stream",
     "text": [
      "(0.2500000000043577, 1.2983033469368098e-08)\n",
      "(0.33333333325010883, 1.3888461883425516e-08)\n",
      "(0.4999999999985751, 1.3894083651858995e-08)\n"
     ]
    }
   ],
   "source": [
    "print(I(4))\n",
    "\n",
    "print(I(3))\n",
    "\n",
    "print(I(2))"
   ]
  },
  {
   "cell_type": "markdown",
   "metadata": {},
   "source": [
    "Para integraciones con limites no constantes, considerar el siguiente ejemplo: \n",
    "\n",
    "$$I_n=\\int_{y=0}^{1/2} \\int_{x=0}^{1-2y}xy\\;dx\\;dy={1 \\over 96}$$"
   ]
  },
  {
   "cell_type": "code",
   "execution_count": 12,
   "metadata": {
    "collapsed": false
   },
   "outputs": [
    {
     "data": {
      "text/plain": [
       "(0.010416666666666668, 4.101620128472366e-16)"
      ]
     },
     "execution_count": 12,
     "metadata": {},
     "output_type": "execute_result"
    }
   ],
   "source": [
    "from scipy.integrate import dblquad\n",
    "area = dblquad(lambda x, y: x*y, 0, 0.5, lambda x: 0, lambda x: 1-2*x)\n",
    "area"
   ]
  },
  {
   "cell_type": "markdown",
   "metadata": {},
   "source": [
    "Para el calculo de n múltiples integrales, scipy provee la función [nquad](https://docs.scipy.org/doc/scipy/reference/generated/scipy.integrate.nquad.html#scipy.integrate.nquad). Los limites de integración son un objeto iterable: Ya sea una lista de límites constantes o una lista de funciones para los límites de integración no constantes. El orden de integración (y también el de los limites de integración) es de la integral más interna a la más externa. \n",
    "\n",
    "Ejemplo:\n",
    "\n",
    "$$I_n=\\int_{0}^{\\infty} \\int_{0}^{\\infty}{e^{-xt}\\over t^n}\\;dt\\;dx={1 \\over n}$$\n",
    "\n",
    "puede ser calculada así:"
   ]
  },
  {
   "cell_type": "code",
   "execution_count": 15,
   "metadata": {
    "collapsed": false
   },
   "outputs": [
    {
     "data": {
      "text/plain": [
       "(0.2500000000043577, 1.2983033469368098e-08)"
      ]
     },
     "execution_count": 15,
     "metadata": {},
     "output_type": "execute_result"
    }
   ],
   "source": [
    "from scipy import integrate\n",
    "N = 4\n",
    "def f(t, x):\n",
    "   return np.exp(-x*t) / t**N\n",
    "\n",
    "integrate.nquad(f, [[1, np.inf],[0, np.inf]])"
   ]
  },
  {
   "cell_type": "markdown",
   "metadata": {},
   "source": [
    "El orden de los argumentos de $f$ debe corresponder con el orden de los limites de integración. \n",
    "Los limites de integración no constantes, pueden ser tratados de manera similar. Si tomamos el ejemplo previo: \n",
    "\n",
    "$$I_n=\\int_{y=0}^{1/2} \\int_{x=0}^{1-2y}xy\\;dx\\;dy={1 \\over 96}$$"
   ]
  },
  {
   "cell_type": "code",
   "execution_count": 20,
   "metadata": {
    "collapsed": false
   },
   "outputs": [
    {
     "data": {
      "text/plain": [
       "(0.010416666666666668, 4.101620128472366e-16)"
      ]
     },
     "execution_count": 20,
     "metadata": {},
     "output_type": "execute_result"
    }
   ],
   "source": [
    "from scipy import integrate\n",
    "def f(x, y):\n",
    "    return x*y\n",
    "\n",
    "def bounds_y():\n",
    "    return [0, 0.5]\n",
    "\n",
    "def bounds_x(y):\n",
    "    return [0, 1-2*y]\n",
    "\n",
    "integrate.nquad(f, [bounds_x, bounds_y])"
   ]
  },
  {
   "cell_type": "markdown",
   "metadata": {},
   "source": [
    "## Integración utilizando muestras \n",
    "Si las muestras son igualmente espaciadas y el numero de muestras disponible es $2^k+1$ para algún entero $k$, entonces el [método de integración de Romberg](https://en.wikipedia.org/wiki/Romberg%27s_method) [romb](https://docs.scipy.org/doc/scipy/reference/generated/scipy.integrate.romb.html#scipy.integrate.romb) puede ser utilizado para obtener estimaciones de alta precisión de la integral utilizando las muestras disponibles. \n",
    "En el caso de muestras espaciadas arbitrariamente, las funciones [trapz](https://docs.scipy.org/doc/numpy/reference/generated/numpy.trapz.html) (definida en numpy) y [simps](https://docs.scipy.org/doc/scipy/reference/generated/scipy.integrate.simps.html#scipy.integrate.simps) están disponibles. \n",
    "\n",
    "Para la integral:\n",
    "\n",
    "$$\\int_1^4 x^2\\;dx=21$$"
   ]
  },
  {
   "cell_type": "code",
   "execution_count": 18,
   "metadata": {
    "collapsed": false
   },
   "outputs": [
    {
     "name": "stdout",
     "output_type": "stream",
     "text": [
      "21.0\n"
     ]
    }
   ],
   "source": [
    "import numpy as np\n",
    "def f1(x):\n",
    "   return x**2\n",
    "\n",
    "x = np.array([1,3,4])\n",
    "y1 = f1(x)\n",
    "from scipy.integrate import simps\n",
    "I1 = simps(y1, x)\n",
    "print(I1)"
   ]
  },
  {
   "cell_type": "markdown",
   "metadata": {},
   "source": [
    "Utilizando la regla trapezoidal:"
   ]
  },
  {
   "cell_type": "code",
   "execution_count": 19,
   "metadata": {
    "collapsed": false
   },
   "outputs": [
    {
     "name": "stdout",
     "output_type": "stream",
     "text": [
      "22.5\n"
     ]
    }
   ],
   "source": [
    "import numpy as np\n",
    "def f1(x):\n",
    "   return x**2\n",
    "\n",
    "x = np.array([1,3,4])\n",
    "y1 = f1(x)\n",
    "I2 = np.trapz(y1, x)\n",
    "print(I2)"
   ]
  },
  {
   "cell_type": "markdown",
   "metadata": {},
   "source": [
    "Un toroide puede ser definido parametricamente como: \n",
    "\n",
    "$x(\\theta,\\varphi)=(R+r\\;cos\\;\\theta)\\;cos\\;\\varphi$\n",
    "\n",
    "$y(\\theta,\\varphi)=(R+r\\;cos\\;\\theta)\\;sin\\;\\varphi$\n",
    "\n",
    "$x(\\theta,\\varphi)=r\\;sin\\;\\theta$\n",
    "\n",
    "donde $\\theta,\\varphi$ son los ángulos que forman el circulo completo, por lo tanto sus valores comienzan y terminan en el mismo punto, $R$ es la distancia desde el centro del tubo al centro del toroide, $r$ es el radio del tubo."
   ]
  },
  {
   "cell_type": "code",
   "execution_count": 4,
   "metadata": {
    "collapsed": false
   },
   "outputs": [
    {
     "data": {
      "image/png": "[encoded data removed]",
      "text/plain": [
       "<matplotlib.figure.Figure at 0x7fbc2bf727b8>"
      ]
     },
     "metadata": {},
     "output_type": "display_data"
    }
   ],
   "source": [
    "%matplotlib inline\n",
    "import numpy as np\n",
    "import matplotlib.pyplot as plt\n",
    "from mpl_toolkits.mplot3d import Axes3D\n",
    "\n",
    "n = 100\n",
    "\n",
    "theta = np.linspace(0, 2.*np.pi, n)\n",
    "phi = np.linspace(0, 2.*np.pi, n)\n",
    "theta, phi = np.meshgrid(theta, phi)\n",
    "R, r = 2, 1\n",
    "x = (R + r * np.cos(theta)) * np.cos(phi)\n",
    "y = (R + r * np.cos(theta)) * np.sin(phi)\n",
    "z = r * np.sin(theta)\n",
    "\n",
    "fig = plt.figure()\n",
    "ax1 = fig.add_subplot(121, projection='3d')\n",
    "ax1.set_zlim(-3,3)\n",
    "ax1.plot_surface(x, y, z, rstride=5, cstride=5, color='k', edgecolors='g')\n",
    "ax1.view_init(36, 26)\n",
    "ax2 = fig.add_subplot(122, projection='3d')\n",
    "ax2.set_zlim(-3,3)\n",
    "ax2.plot_surface(x, y, z, rstride=5, cstride=5, color='k', edgecolors='g')\n",
    "ax2.view_init(0, 0)\n",
    "ax2.set_xticks([])\n",
    "plt.show()"
   ]
  },
  {
   "cell_type": "markdown",
   "metadata": {},
   "source": [
    "El volumen de un toroide puede ser calculado teóricamente como: \n",
    "\n",
    "$$V=2\\pi^2Rr^2$$\n",
    "\n",
    "## Ejercicio\n",
    "\n",
    "1. Formar grupos de 2 . \n",
    "2. Calcular el volumen del toroide, realizando integración numérica con las herramientas vistas y comparar los resultados con el valor teórico del volumen del mismo. \n",
    "\n",
    "Ayuda: http://files.eric.ed.gov/fulltext/EJ720058.pdf"
   ]
  }
 ],
 "metadata": {
  "kernelspec": {
   "display_name": "Python 3",
   "language": "python",
   "name": "python3"
  },
  "language_info": {
   "codemirror_mode": {
    "name": "ipython",
    "version": 3
   },
   "file_extension": ".py",
   "mimetype": "text/x-python",
   "name": "python",
   "nbconvert_exporter": "python",
   "pygments_lexer": "ipython3",
   "version": "3.6.4"
  }
 },
 "nbformat": 4,
 "nbformat_minor": 2
}
