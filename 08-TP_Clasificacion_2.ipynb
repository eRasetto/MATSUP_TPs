{
 "cells": [
  {
   "cell_type": "markdown",
   "metadata": {},
   "source": [
    "### 3.2 K-Means\n",
    "k-means clustering es un algoritmo de aprendizaje no supervisado, que tiene como objetivo dividir $n$ observaciones ($\\{x_1,x_2,\\dots,x_n\\mid x_i\\in \\mathbb{R}^D\\}$) en $k$ clústeres en los que cada observación pertenece al clúster con la media más cercana, que sirve como prototipo del clúster. Un clúster es un conjunto de puntos cercanos entre ellos y alejados de otros puntos. Formalmente cada cluster $k$ construye un prototipo $\\mu_k \\in \\mathbb{R}^D$ y el algoritmo trata de disminuir la medida de distorsión de los clústers $J$\n",
    "\n",
    "$$J=\\sum_{n=1}^N \\sum_{k=1}^K r_{nk}\\parallel x_n-\\mu_k \\parallel^2$$\n",
    "\n",
    "Donde $r_{nk}$ es un arreglo binario siguiendo el esquema de codificación 1-of-K.\n",
    "\n",
    "Para realizar esto (minimizar $J$), se propone un algoritmo iterativo:\n",
    "1. Inicializar $\\mu_k$ \n",
    "2. Minimizar $J$ modificando las asignaciones a los $\\mu_k$ clústers\n",
    "3. Minimizar $J$ modificando los $\\mu_k$ en base a las nuevas asignaciones\n",
    "4. Volver al paso 2 hasta que se alcance un estado de convergencia.\n",
    "\n",
    "![k_means_example](img/11-k_means_example.png)"
   ]
  },
  {
   "cell_type": "code",
   "execution_count": null,
   "metadata": {},
   "outputs": [],
   "source": [
    "from sklearn.cluster import KMeans\n",
    "\n",
    "kmeans = KMeans(n_clusters=2)\n",
    "kmeans.fit(Xtrain)\n",
    "\n",
    "ypredict = kmeans.predict(Xtest)\n",
    "\n",
    "# plots\n",
    "fig, (ax1, ax2) = plt.subplots(1, 2, figsize=(12, 6))\n",
    "\n",
    "x_pos, x_neg = Xtest[ytest > 0], Xtest[ytest <= 0]    \n",
    "ax1.scatter(x_pos[:, 0], x_pos[:, 1], marker='o', color='r')\n",
    "ax1.scatter(x_neg[:, 0], x_neg[:, 1], marker='o', color='b') \n",
    "ax1.grid()\n",
    "ax1.set_title(\"Real\")\n",
    "\n",
    "x_pos, x_neg = Xtest[ypredict > 0], Xtest[ypredict <= 0]    \n",
    "ax2.scatter(x_pos[:, 0], x_pos[:, 1], marker='o', color='r')\n",
    "ax2.scatter(x_neg[:, 0], x_neg[:, 1], marker='o', color='b')  \n",
    "ax2.scatter(kmeans.cluster_centers_[:, 0], kmeans.cluster_centers_[:, 1], marker='X', color='g')\n",
    "ax2.grid()    \n",
    "ax2.set_title(\"Estimado\")\n",
    "\n",
    "plt.show()"
   ]
  },
  {
   "cell_type": "markdown",
   "metadata": {},
   "source": [
    "### 3.4 Métricas de performance\n",
    "Cuando se entrena un modelo predictivo, debemos tener algún método para medir que tan fiable es el modelo para predecir. Esto es:\n",
    "\n",
    "![model_metrics](img/11-model_metrics.png)\n",
    "\n",
    "Una de las herramientas mas simples para evaluar el rendimiento de un predictor es **Accuracy Score**:\n",
    "\n",
    "$$accuracy(y,\\hat{y})=\\frac{1}{N}\\sum_{i=1}^N 1(\\hat{y}_i=y_i)$$"
   ]
  },
  {
   "cell_type": "code",
   "execution_count": 1,
   "metadata": {},
   "outputs": [
    {
     "ename": "NameError",
     "evalue": "name 'ytest' is not defined",
     "output_type": "error",
     "traceback": [
      "\u001b[0;31m---------------------------------------------------------------------------\u001b[0m",
      "\u001b[0;31mNameError\u001b[0m                                 Traceback (most recent call last)",
      "\u001b[0;32m<ipython-input-1-2a9417acb99e>\u001b[0m in \u001b[0;36m<module>\u001b[0;34m()\u001b[0m\n\u001b[1;32m      2\u001b[0m \u001b[0;34m\u001b[0m\u001b[0m\n\u001b[1;32m      3\u001b[0m \u001b[0;31m# Accuracy de KNeighborsClassifier\u001b[0m\u001b[0;34m\u001b[0m\u001b[0;34m\u001b[0m\u001b[0;34m\u001b[0m\u001b[0m\n\u001b[0;32m----> 4\u001b[0;31m \u001b[0maccuracy_nbrs\u001b[0m \u001b[0;34m=\u001b[0m \u001b[0maccuracy_score\u001b[0m\u001b[0;34m(\u001b[0m\u001b[0mytest\u001b[0m\u001b[0;34m,\u001b[0m \u001b[0mnbrs\u001b[0m\u001b[0;34m.\u001b[0m\u001b[0mpredict\u001b[0m\u001b[0;34m(\u001b[0m\u001b[0mXtest\u001b[0m\u001b[0;34m)\u001b[0m\u001b[0;34m)\u001b[0m\u001b[0;34m\u001b[0m\u001b[0;34m\u001b[0m\u001b[0m\n\u001b[0m\u001b[1;32m      5\u001b[0m \u001b[0;31m# Accuracy de KMeans\u001b[0m\u001b[0;34m\u001b[0m\u001b[0;34m\u001b[0m\u001b[0;34m\u001b[0m\u001b[0m\n\u001b[1;32m      6\u001b[0m \u001b[0maccuracy_kmeans\u001b[0m \u001b[0;34m=\u001b[0m \u001b[0maccuracy_score\u001b[0m\u001b[0;34m(\u001b[0m\u001b[0mytest\u001b[0m\u001b[0;34m,\u001b[0m \u001b[0mkmeans\u001b[0m\u001b[0;34m.\u001b[0m\u001b[0mpredict\u001b[0m\u001b[0;34m(\u001b[0m\u001b[0mXtest\u001b[0m\u001b[0;34m)\u001b[0m\u001b[0;34m)\u001b[0m\u001b[0;34m\u001b[0m\u001b[0;34m\u001b[0m\u001b[0m\n",
      "\u001b[0;31mNameError\u001b[0m: name 'ytest' is not defined"
     ]
    }
   ],
   "source": [
    "from sklearn.metrics import accuracy_score\n",
    "\n",
    "# Accuracy de KNeighborsClassifier\n",
    "accuracy_nbrs = accuracy_score(ytest, nbrs.predict(Xtest))\n",
    "# Accuracy de KMeans\n",
    "accuracy_kmeans = accuracy_score(ytest, kmeans.predict(Xtest))\n",
    "\n",
    "print('Accuracy KNeighborsClassifier: {}'.format(accuracy_nbrs))\n",
    "print('Accuracy KMeans: {}'.format(accuracy_kmeans))"
   ]
  },
  {
   "cell_type": "markdown",
   "metadata": {},
   "source": [
    "2) Implementar el algoritmo K-Means"
   ]
  },
  {
   "cell_type": "code",
   "execution_count": null,
   "metadata": {},
   "outputs": [],
   "source": [
    "from scipy.spatial.distance import cdist\n",
    "from scipy.spatial.distance import euclidean\n",
    "\n",
    "def k_means(X, k, tol=1e-4, n_iter=50):\n",
    "    # simple random initialization\n",
    "    n_samples, n_dim = X.shape\n",
    "    #centroids = (X.max() - X.min()) * np.random.random((k, n_dim)) + X.min()\n",
    "    centroids = X[np.random.choice(range(X.shape[0]), size=k, replace=False)]\n",
    "    \n",
    "    distortion, prev_distortion = 0., 1e6\n",
    "    for i in range(n_iter):        \n",
    "        # 1) Asignación de muestras a centroides:\n",
    "        # computar una lista (o array) en donde el elemento i-ésimo \n",
    "        # corresponda al índice al cluster al cual debe ser asignada \n",
    "        # la muestra i-ésima de X. Utilizar la función cdist(XA, XB) \n",
    "        # para computar distancias entre dos arreglos XA y XB en donde \n",
    "        # muestras están ordenadas por filas.\n",
    "        #\n",
    "            \n",
    "              \n",
    "        # 2) Actualización de centroides:\n",
    "        # en base a la lista de asignaciones computada en el paso anterior, \n",
    "        # calcular el nuevo valor de cada uno de los centroides. \n",
    "        \n",
    "                \n",
    "        # 3) Error de cuantización\n",
    "        # Computar el error de quantización promedio (error de reemplazar \n",
    "        # cada muestra por su versión cuantizada). El no decrecimiento de \n",
    "        # éste valor será uno de los parámetros que definirán el criterio \n",
    "        # de parada del algoritmo.\n",
    "        #\n",
    "        \n",
    "        \n",
    "        if (prev_distortion - distortion) / (prev_distortion + 2**-23) < tol:\n",
    "            print('done')\n",
    "            break\n",
    "        print('iter={}, avg. error={:.3f}'.format(i+1, distortion)) \n",
    "        prev_distortion = distortion\n",
    "            \n",
    "    return centroids, distortion\n",
    "\n",
    "def k_means_predict(centroids, X):\n",
    "    n_samples, n_dim = X.shape\n",
    "    # Implementar metodo para estimar la pertenencia de un determinado punto X[i] \n",
    "    # a uno de los centroides (clusters) definidos previamente. Utilizar la función cdist(XA, XB) \n",
    "    # para computar distancias entre dos arreglos XA y XB en donde \n",
    "    # muestras están ordenadas por filas.\n",
    "    \n",
    "    #prediction = ...\n",
    "    \n",
    "    return prediction"
   ]
  }
 ],
 "metadata": {
  "kernelspec": {
   "display_name": "Python 3",
   "language": "python",
   "name": "python3"
  },
  "language_info": {
   "codemirror_mode": {
    "name": "ipython",
    "version": 3
   },
   "file_extension": ".py",
   "mimetype": "text/x-python",
   "name": "python",
   "nbconvert_exporter": "python",
   "pygments_lexer": "ipython3",
   "version": "3.7.2"
  }
 },
 "nbformat": 4,
 "nbformat_minor": 2
}
